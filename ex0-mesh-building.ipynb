{
 "cells": [
  {
   "attachments": {},
   "cell_type": "markdown",
   "metadata": {},
   "source": [
    "# Mesh Construction\n",
    "\n",
    "This tutorial introduces the basics of mesh construction for the \n",
    "`puncturedfem` package.\n",
    "\n",
    "Unlike convential meshes, the fundamental object in a `puncturedfem` mesh \n",
    "are the *edges*, rather than the *vertices*. \n",
    "\n",
    "In the first section, we demonstrate how to define an `edge` object. In the \n",
    "second section, we will see how to construct a mesh cell as a `cell` object.\n",
    "In the third section, we will address how to build a `mesh` object."
   ]
  },
  {
   "cell_type": "code",
   "execution_count": null,
   "metadata": {},
   "outputs": [],
   "source": [
    "import puncturedfem as pf\n",
    "import numpy as np\n",
    "import matplotlib.pyplot as plt"
   ]
  },
  {
   "attachments": {},
   "cell_type": "markdown",
   "metadata": {},
   "source": [
    "## Edges\n",
    "\n",
    "An edge $e$ is taken to be a $C^2$ smooth curve in $\\mathbb{R}^2$\n",
    "parameterized by $x(t)$ for $0\\leq t\\leq 2\\pi$.\n",
    "We refer to $x(0)$ as the *anchor point* and $x(2\\pi)$ as the \n",
    "*terminal point*, and $x(0),x(2\\pi)$ are referred to collectively as the \n",
    "*endpoints*. We make the following assumptions:\n",
    "* The edge $e$ is nontrivial: $e$ is not a single point.\n",
    "* The edge $e$ is nonselfintersecting: $x(t_1)\\neq x(t_2)$ \n",
    "  for all $0<t_1<t_2<2\\pi$.\n",
    "* $x(\\cdot)$ is regularizable: there is some fixed $\\sigma>0$ such that\n",
    "  $|x'(t)|\\geq\\sigma$ for all $0 < t < 2\\pi$."
   ]
  },
  {
   "attachments": {},
   "cell_type": "markdown",
   "metadata": {},
   "source": [
    "### Quadrature objects\n",
    "To create the points $0=t_0 < t_1 < \\cdots < t_{2n}=2\\pi$ where $x(t)$ \n",
    "will be sampled, we will declare a quadrature scheme with a `quad` object.\n",
    "For now, we will use the trapezoid rule, which uses the equispacing \n",
    "$t_k = hk$, where $h=\\pi / n$ for a chosen natural number $n$."
   ]
  },
  {
   "cell_type": "code",
   "execution_count": null,
   "metadata": {},
   "outputs": [],
   "source": [
    "q_trap = pf.quad.quad.quad(qtype='trap', n=16)\n",
    "print(q_trap)"
   ]
  },
  {
   "attachments": {},
   "cell_type": "markdown",
   "metadata": {},
   "source": [
    "We visualize the sampling of the points by plotting $t_k$."
   ]
  },
  {
   "cell_type": "code",
   "execution_count": null,
   "metadata": {},
   "outputs": [],
   "source": [
    "plt.figure()\n",
    "plt.plot(q_trap.t, 'k.')\n",
    "plt.title('Trapezoid')\n",
    "plt.grid('on')\n",
    "plt.show()"
   ]
  },
  {
   "attachments": {},
   "cell_type": "markdown",
   "metadata": {},
   "source": [
    "We also have the option of defining a Kress quadrature. The sampled points \n",
    "are clustered near the endpoints, and the parameter $p\\geq2$ controls the \n",
    "strength of this clustering. (The default value is $p=7$.) \n",
    "We recommend using a Kress quadrature whenever dealing with boundaries that \n",
    "have corners, as we will discuss in the section on constructing mesh cells."
   ]
  },
  {
   "cell_type": "code",
   "execution_count": null,
   "metadata": {},
   "outputs": [],
   "source": [
    "q_kress = pf.quad.quad.quad(qtype='kress', n=16)\n",
    "print(q_kress)\n",
    "\n",
    "plt.figure()\n",
    "plt.plot(q_kress.t, 'k.')\n",
    "plt.title('Kress')\n",
    "plt.grid('on')\n",
    "plt.show()"
   ]
  },
  {
   "attachments": {},
   "cell_type": "markdown",
   "metadata": {},
   "source": [
    "## Edges\n",
    "### Loading from the edge library\n",
    "In the directory `puncturedfem/mesh/edgelib` are several `.py` files,\n",
    "each of which parameterizes an edge. "
   ]
  },
  {
   "cell_type": "code",
   "execution_count": null,
   "metadata": {},
   "outputs": [],
   "source": [
    "e1 = pf.mesh.edge.edge(etype='line', q=q_trap)\n",
    "print(e1)"
   ]
  },
  {
   "attachments": {},
   "cell_type": "markdown",
   "metadata": {},
   "source": [
    "The `id` attribute is an optional label we can give an edge, \n",
    "which is useful when dealing with a large collection of edges."
   ]
  },
  {
   "cell_type": "code",
   "execution_count": null,
   "metadata": {},
   "outputs": [],
   "source": [
    "e2 = pf.mesh.edge.edge(etype='line', q=q_kress, id='this_edge_uses_kress')\n",
    "print(e2)"
   ]
  },
  {
   "attachments": {},
   "cell_type": "markdown",
   "metadata": {},
   "source": [
    "Some edge types require additional arguments. For example, the `sine_wave`\n",
    "edge must have the amplitude and frequency specified."
   ]
  },
  {
   "cell_type": "code",
   "execution_count": null,
   "metadata": {},
   "outputs": [],
   "source": [
    "e3 = pf.mesh.edge.edge(etype='sine_wave', q=q_kress, amp=0.2, freq=2)\n",
    "print(e3)"
   ]
  },
  {
   "attachments": {},
   "cell_type": "markdown",
   "metadata": {},
   "source": [
    "### Transorming edges\n",
    "By default, edges with distinct endpoints are taken to connect the origin to\n",
    "the point $(1,0)$. Typically, these are not the points we wish to connect.\n",
    "Through rigid body motion and rescaling, we can connect any two distinct points by calling \n",
    "the `join_points()` method."
   ]
  },
  {
   "cell_type": "code",
   "execution_count": null,
   "metadata": {},
   "outputs": [],
   "source": [
    "e2.join_points([1,1], [0,0.5])\n",
    "e3.join_points([0,0.2], [1,0.4])"
   ]
  },
  {
   "attachments": {},
   "cell_type": "markdown",
   "metadata": {},
   "source": [
    "To visualize our edges, we call `pf.plot.edges()`, which takes as an argument\n",
    "the list of edges we wish to plot."
   ]
  },
  {
   "cell_type": "code",
   "execution_count": null,
   "metadata": {},
   "outputs": [],
   "source": [
    "pf.plot.edges.edges([e1,e2,e3])"
   ]
  },
  {
   "attachments": {},
   "cell_type": "markdown",
   "metadata": {},
   "source": [
    "To see how the edges are oriented, we set the `orientation` argument to `True`."
   ]
  },
  {
   "cell_type": "code",
   "execution_count": null,
   "metadata": {},
   "outputs": [],
   "source": [
    "pf.plot.edges.edges([e1,e2,e3], orientation=True)"
   ]
  },
  {
   "attachments": {},
   "cell_type": "markdown",
   "metadata": {},
   "source": [
    "We can also call the `rotate()`, `dialate()`, and `translate()` methods\n",
    "to perform these transfomations manually. (Note that the rotation angle is\n",
    "assumed to be in degrees, counterclockwise from the positive horizonal axis.)"
   ]
  },
  {
   "cell_type": "code",
   "execution_count": null,
   "metadata": {},
   "outputs": [],
   "source": [
    "e1.rotate(45)\n",
    "e1.dialate(0.75)\n",
    "e1.translate([0,1])\n",
    "pf.plot.edges.edges([e1,e2,e3], orientation=True)"
   ]
  },
  {
   "attachments": {},
   "cell_type": "markdown",
   "metadata": {},
   "source": [
    "An important operation is reversing the orientation of an edge."
   ]
  },
  {
   "cell_type": "code",
   "execution_count": null,
   "metadata": {},
   "outputs": [],
   "source": [
    "e1.reverse_orientation()\n",
    "e2.reverse_orientation()\n",
    "e3.reverse_orientation()\n",
    "pf.plot.edges.edges([e1,e2,e3], orientation=True)"
   ]
  },
  {
   "attachments": {},
   "cell_type": "markdown",
   "metadata": {},
   "source": [
    "### Defining custom edges\n",
    "In the event that we need an edge that is not provided in the `edgelib` folder,\n",
    "we can add to the edge library as follows. \n",
    "1. Create a file `puncturedfem/mesh/edgelib/mycurve.py`, where `mycurve` will\n",
    "   be the name of the curve that will be called during the initialization \n",
    "   of the edge object. \n",
    "2. Import the `numpy` package.\n",
    "3. In `mycurve.py`, define three functions called `_x()`, `_dx()`, and `_ddx()`.\n",
    "   These will define $x(t)$, $x'(t)$, and $x''(t)$ respectively.\n",
    "4. Each of these three functions will return a $2\\times (2n+1)$ array,\n",
    "   where $2n+1$ is the number of sampled points specified by the chosen\n",
    "   `quad` object.\n",
    "5. Row 0 of each array contains the $x_1$ component, and row 1 contains the \n",
    "   $x_2$ component.\n",
    "6. Unpack any additional arguments from `**kwargs`."
   ]
  },
  {
   "attachments": {},
   "cell_type": "markdown",
   "metadata": {},
   "source": [
    "The contents of `mycurve.py` will look generically like the following:\n",
    "\n",
    "\t\"\"\"\n",
    "\tA short description of the curve.\n",
    "\n",
    "\tA description of any parameters that are used.\n",
    "\t\"\"\"\n",
    "\n",
    "\timport numpy as np\n",
    "\n",
    "\tdef _x(t, **kwargs):\n",
    "\n",
    "\t\tmy_parameter = kwargs['my_parameter']\n",
    "\n",
    "\t\tx = np.zeros((2,len(t)))\n",
    "\t\tx[0,:] = \t# the x_1 component\n",
    "\t\tx[1,:] = \t# the x_2 component\n",
    "\n",
    "\t\treturn x\n",
    "\n",
    "\tdef _dx(t, **kwargs):\n",
    "\n",
    "\t\tmy_parameter = kwargs['my_parameter']\n",
    "\n",
    "\t\tdx = np.zeros((2,len(t)))\n",
    "\t\tdx[0,:] = \t# the derivative of the x_1 component wrt t\n",
    "\t\tdx[1,:] = \t# the derivative of the x_2 component wrt t\n",
    "\n",
    "\t\treturn dx\n",
    "\n",
    "\tdef _ddx(t, **kwargs):\n",
    "\n",
    "\t\tmy_parameter = kwargs['my_parameter']\n",
    "\n",
    "\t\tddx = np.zeros((2,len(t)))\n",
    "\t\tddx[0,:] = \t# the second derivative of the x_1 component wrt t\n",
    "\t\tddx[1,:] = \t# the second derivative of the x_2 component wrt t\n",
    "\t\t\n",
    "\t\treturn ddx"
   ]
  },
  {
   "attachments": {},
   "cell_type": "markdown",
   "metadata": {},
   "source": [
    "## Mesh Cells\n",
    "A mesh cell $K$ is an open, bounded, connected region with a \n",
    "piecewise $C^2$ smooth boundary.\n",
    "In code, we represent `cell` objects as a list of `edge` objects,\n",
    "which define the boundary $\\partial K$.\n",
    "The collection of these edges must satisfy the following:\n",
    "* Two distinct edges are permitted to intersect only at their endpoints.  \n",
    "* No slits or cusps: interior angle between two incident edges is strictly \n",
    "  between $0$ and $2\\pi$.\n",
    "* The union of all edges is a union of simple closed contours.\n",
    "* The edges on the *outer boundary* $\\partial K_0$ are oriented such that\n",
    "  $\\partial K_0$ is oriented counterclockwise.\n",
    "* The edges on an *inner boundary* $\\partial K_j$ are oriented such that\n",
    "  $\\partial K_j$ is oriented clockwise.\n",
    "  \n",
    "The *outer boundary* refers to the the boundary of the minimal open, \n",
    "simply-connected set $K_0$ containing $K$.\n",
    "An *inner boundary* is the boundary of a hole $K_j$."
   ]
  },
  {
   "attachments": {},
   "cell_type": "markdown",
   "metadata": {},
   "source": [
    "### Square with circular hole\n",
    "\n",
    "To initialize a cell object, we must supply a list of edges that define the \n",
    "boundary. For our first example, we will build a unit square."
   ]
  },
  {
   "cell_type": "code",
   "execution_count": null,
   "metadata": {},
   "outputs": [],
   "source": [
    "# initialize list of edges as empty list\n",
    "edge_list1 = []\n",
    "\n",
    "# bottom: (0,0) to (1,0)\n",
    "e = pf.mesh.edge.edge(etype='line', q=q_kress)\n",
    "e.join_points([0,0], [1,0])\n",
    "edge_list1.append(e)\n",
    "\n",
    "# right: (1,0) to (1,1)\n",
    "e = pf.mesh.edge.edge(etype='line', q=q_kress)\n",
    "e.join_points([1,0], [1,1])\n",
    "edge_list1.append(e)\n",
    "\n",
    "# top: (1,1) to (0,1)\n",
    "e = pf.mesh.edge.edge(etype='line', q=q_kress)\n",
    "e.join_points([1,1], [0,1])\n",
    "edge_list1.append(e)\n",
    "\n",
    "# left: (0,1) to (0,0)\n",
    "e = pf.mesh.edge.edge(etype='line', q=q_kress)\n",
    "e.join_points([0,1], [0,0])\n",
    "edge_list1.append(e)"
   ]
  },
  {
   "attachments": {},
   "cell_type": "markdown",
   "metadata": {},
   "source": [
    "Let's check that we have oriented the edges correctly."
   ]
  },
  {
   "cell_type": "code",
   "execution_count": null,
   "metadata": {},
   "outputs": [],
   "source": [
    "pf.plot.edges.edges(edge_list1, orientation=True)"
   ]
  },
  {
   "attachments": {},
   "cell_type": "markdown",
   "metadata": {},
   "source": [
    "The orientation of the boundary is indeed counterclockwise, as desired.\n",
    "We are now ready to initialize a `cell` object."
   ]
  },
  {
   "cell_type": "code",
   "execution_count": null,
   "metadata": {},
   "outputs": [],
   "source": [
    "K1 = pf.mesh.cell.cell(edge_list=edge_list1)\n",
    "print(K1)"
   ]
  },
  {
   "cell_type": "markdown",
   "metadata": {},
   "source": [
    "Let's try adding a circular hole."
   ]
  },
  {
   "cell_type": "code",
   "execution_count": null,
   "metadata": {},
   "outputs": [],
   "source": [
    "edge_list2 = edge_list1\n",
    "\n",
    "# circular inner boundary\n",
    "e = pf.mesh.edge.edge(etype='circle', q=q_trap)\n",
    "e.reverse_orientation()\n",
    "e.dialate(0.25)\n",
    "e.translate([0.5, 0.5])\n",
    "edge_list2.append(e)\n",
    "\n",
    "# check orientation\n",
    "pf.plot.edges.edges(edge_list2, orientation=True)"
   ]
  },
  {
   "attachments": {},
   "cell_type": "markdown",
   "metadata": {},
   "source": [
    "Notice that the inner boundary is oriented clockwise. \n",
    "We are ready to initialize a `cell` object."
   ]
  },
  {
   "cell_type": "code",
   "execution_count": null,
   "metadata": {},
   "outputs": [],
   "source": [
    "K2 = pf.mesh.cell.cell(edge_list=edge_list2)\n",
    "print(K2)"
   ]
  },
  {
   "attachments": {},
   "cell_type": "markdown",
   "metadata": {},
   "source": [
    "### Ghost\n",
    "\n",
    "To show off some capabilities, we consider a more whimsical example.\n",
    "Notice that the order in which the edges are listed is arbitrary:\n",
    "the holes and outer boundary are identified automatically,\n",
    "with the indices ordered so as to respect the contour orientation."
   ]
  },
  {
   "cell_type": "code",
   "execution_count": null,
   "metadata": {},
   "outputs": [],
   "source": [
    "edge_list3 = []\n",
    "\n",
    "# (0) right hole\n",
    "e = pf.mesh.edge.edge(etype='ellipse', q=q_trap, a=0.15, b=0.2)\n",
    "e.translate([0.75,0.7])\n",
    "e.reverse_orientation()\n",
    "edge_list3.append(e)\n",
    "\n",
    "# (1) left: line\n",
    "e = pf.mesh.edge.edge(etype='line', q=q_kress)\n",
    "e.join_points([0,0.8], [0,0])\n",
    "edge_list3.append(e)\n",
    "\n",
    "# (2) right: line\n",
    "e = pf.mesh.edge.edge(etype='line', q=q_kress)\n",
    "e.join_points([1,0], [1,0.8])\n",
    "edge_list3.append(e)\n",
    "\n",
    "# (3) left hole\n",
    "e = pf.mesh.edge.edge(etype='ellipse', q=q_trap, a=0.15, b=0.2)\n",
    "e.translate([0.25,0.7])\n",
    "e.reverse_orientation()\n",
    "edge_list3.append(e)\n",
    "\n",
    "# (4) bottom: squiggles\n",
    "e = pf.mesh.edge.edge(etype='sine_wave', q=q_kress, amp=0.1, freq=6)\n",
    "edge_list3.append(e)\n",
    "\n",
    "# (5) top: half-circle\n",
    "e = pf.mesh.edge.edge(etype='circular_arc', q=q_kress, H=0)\n",
    "e.reflect_across_x_axis()\n",
    "e.join_points([1,0.8], [0,0.8])\n",
    "edge_list3.append(e)\n",
    "\n",
    "# check orientation\n",
    "pf.plot.edges.edges(edge_list3, orientation=True)\n",
    "\n",
    "# define mesh cell\n",
    "K = pf.mesh.cell.cell(edge_list=edge_list3)\n",
    "print(K)"
   ]
  },
  {
   "attachments": {},
   "cell_type": "markdown",
   "metadata": {},
   "source": [
    "## Meshes\n",
    "Coming soon!"
   ]
  }
 ],
 "metadata": {
  "kernelspec": {
   "display_name": "Python 3",
   "language": "python",
   "name": "python3"
  },
  "language_info": {
   "codemirror_mode": {
    "name": "ipython",
    "version": 3
   },
   "file_extension": ".py",
   "mimetype": "text/x-python",
   "name": "python",
   "nbconvert_exporter": "python",
   "pygments_lexer": "ipython3",
   "version": "3.10.6"
  },
  "orig_nbformat": 4,
  "vscode": {
   "interpreter": {
    "hash": "916dbcbb3f70747c44a77c7bcd40155683ae19c65e1c03b4aa3499c5328201f1"
   }
  }
 },
 "nbformat": 4,
 "nbformat_minor": 2
}
