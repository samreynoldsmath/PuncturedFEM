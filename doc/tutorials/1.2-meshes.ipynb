{
 "cells": [
  {
   "cell_type": "markdown",
   "metadata": {},
   "source": [
    "# Tutorial 1.2: Mesh Construction\n",
    "\n",
    "This tutorial introduces the construction and manipulation of curvilinear \n",
    "meshes.\n",
    "\n",
    "A `PlanarMesh` object is fundamentally a list of curvilinear `Edge` objects.\n",
    "Each edge consists of a pair of vertices and enough information to \n",
    "parameterize the edge as a curve in the plane. Each edge also is assigned to \n",
    "two mesh cells to which the edge is part of the boundary. \n",
    "One of these cells is taken to be \"positive\" and the other \"negative.\"\n",
    "For the positive cell, the edge is oriented counterclockwise if it lies on the \n",
    "outer boundary of the cell (i.e. the edge is not the boundary of a hole in the\n",
    "cell), and clockwise otherwise. For the negative cell, the opposite is true.\n",
    "In this fashion, the entire mesh can be constructed from a list of edges.\n",
    "\n",
    "We begin by importing the `puncturedfem` package, \n",
    "as well as `numpy` and `matplotlib` for the sake of this example."
   ]
  },
  {
   "cell_type": "code",
   "execution_count": null,
   "metadata": {},
   "outputs": [],
   "source": [
    "import puncturedfem as pf\n",
    "import numpy as np\n",
    "import matplotlib.pyplot as plt"
   ]
  },
  {
   "cell_type": "markdown",
   "metadata": {},
   "source": [
    "## Define the vertices\n",
    "\n",
    "First we begin by defining the vertices of the mesh, which we will later join with edges."
   ]
  },
  {
   "cell_type": "code",
   "execution_count": null,
   "metadata": {},
   "outputs": [],
   "source": [
    "verts: list[pf.Vert] = []\n",
    "\n",
    "# rectangle corners\n",
    "verts.append(pf.Vert(x=0.0, y=0.0))  # 0\n",
    "verts.append(pf.Vert(x=1.0, y=0.0))  # 1\n",
    "verts.append(pf.Vert(x=3.0, y=0.0))  # 2\n",
    "verts.append(pf.Vert(x=4.0, y=0.0))  # 3\n",
    "verts.append(pf.Vert(x=4.0, y=1.0))  # 4\n",
    "verts.append(pf.Vert(x=3.0, y=1.0))  # 5\n",
    "verts.append(pf.Vert(x=1.0, y=1.0))  # 6\n",
    "verts.append(pf.Vert(x=0.0, y=1.0))  # 7\n",
    "\n",
    "# pacman\n",
    "pacman_scale = 0.4\n",
    "verts.append(pf.Vert(x=0.5, y=0.5))  # 8\n",
    "verts.append(\n",
    "    pf.Vert(x=0.5 + pacman_scale * (np.sqrt(3) / 2), y=0.5 + pacman_scale * 0.5)\n",
    ")  # 9\n",
    "verts.append(\n",
    "    pf.Vert(x=0.5 + pacman_scale * (np.sqrt(3) / 2), y=0.5 - pacman_scale * 0.5)\n",
    ")  # 10\n",
    "verts.append(\n",
    "    pf.Vert(x=0.5 + pacman_scale * -0.1, y=0.5 + pacman_scale * 0.5)\n",
    ")  # 11\n",
    "\n",
    "# dots\n",
    "verts.append(pf.Vert(x=1.5, y=0.5))  # 12\n",
    "verts.append(pf.Vert(x=2.0, y=0.5))  # 13\n",
    "verts.append(pf.Vert(x=2.5, y=0.5))  # 14\n",
    "\n",
    "# ghost\n",
    "ghost_scale = 0.6\n",
    "ghost_x_shift = 3.5\n",
    "ghost_y_shift = 0.5\n",
    "verts.append(\n",
    "    pf.Vert(\n",
    "        x=ghost_x_shift + ghost_scale * (-0.5),\n",
    "        y=ghost_y_shift + ghost_scale * (-0.6),\n",
    "    )\n",
    ")  # 15\n",
    "verts.append(\n",
    "    pf.Vert(\n",
    "        x=ghost_x_shift + ghost_scale * (0.5),\n",
    "        y=ghost_y_shift + ghost_scale * (-0.6),\n",
    "    )\n",
    ")  # 16\n",
    "verts.append(\n",
    "    pf.Vert(\n",
    "        x=ghost_x_shift + ghost_scale * (0.5),\n",
    "        y=ghost_y_shift + ghost_scale * (0.2),\n",
    "    )\n",
    ")  # 17\n",
    "verts.append(\n",
    "    pf.Vert(\n",
    "        x=ghost_x_shift + ghost_scale * (-0.5),\n",
    "        y=ghost_y_shift + ghost_scale * (0.2),\n",
    "    )\n",
    ")  # 18\n",
    "verts.append(\n",
    "    pf.Vert(\n",
    "        x=ghost_x_shift + ghost_scale * (-0.25),\n",
    "        y=ghost_y_shift + ghost_scale * (0.1),\n",
    "    )\n",
    ")  # 19\n",
    "verts.append(\n",
    "    pf.Vert(\n",
    "        x=ghost_x_shift + ghost_scale * (0.25),\n",
    "        y=ghost_y_shift + ghost_scale * (0.1),\n",
    "    )\n",
    ")  # 20"
   ]
  },
  {
   "cell_type": "markdown",
   "metadata": {},
   "source": [
    "We need to label our vertices:"
   ]
  },
  {
   "cell_type": "code",
   "execution_count": null,
   "metadata": {},
   "outputs": [],
   "source": [
    "# TODO: future versions should do this automatically.\n",
    "for k in range(len(verts)):\n",
    "    verts[k].set_idx(k)"
   ]
  },
  {
   "cell_type": "markdown",
   "metadata": {},
   "source": [
    "Let's visualized these points:"
   ]
  },
  {
   "cell_type": "code",
   "execution_count": null,
   "metadata": {},
   "outputs": [],
   "source": [
    "plt.figure()\n",
    "for v in verts:\n",
    "    plt.plot(v.x, v.y, \"ko\")\n",
    "plt.axis(\"equal\")\n",
    "plt.grid(\"on\")\n",
    "plt.show()"
   ]
  },
  {
   "cell_type": "markdown",
   "metadata": {},
   "source": [
    "## Define the edges\n",
    "Next, we define the edges.\n",
    "The parameter `pos_cell_idx` is the index of the cell with this edge oriented\n",
    "counterclockwise on the outer boundary (or clockwise if on a hole boundary).\n",
    "In the event that this edge lies on the boundary of the domain and there is \n",
    "no such cell, `pos_cell_idx = -1` is taken as the default argument.\n",
    "The `neg_cell_idx` is the index of the cell where the opposite is true. "
   ]
  },
  {
   "cell_type": "code",
   "execution_count": null,
   "metadata": {},
   "outputs": [],
   "source": [
    "edges: list[pf.Edge] = []\n",
    "\n",
    "# rectangles\n",
    "edges.append(pf.Edge(verts[0], verts[1], pos_cell_idx=0))\n",
    "edges.append(pf.Edge(verts[1], verts[2], pos_cell_idx=3))\n",
    "edges.append(pf.Edge(verts[2], verts[3], pos_cell_idx=7))\n",
    "edges.append(pf.Edge(verts[3], verts[4], pos_cell_idx=7))\n",
    "edges.append(pf.Edge(verts[4], verts[5], pos_cell_idx=7))\n",
    "edges.append(pf.Edge(verts[5], verts[6], pos_cell_idx=3))\n",
    "edges.append(pf.Edge(verts[6], verts[7], pos_cell_idx=0))\n",
    "edges.append(pf.Edge(verts[7], verts[0], pos_cell_idx=0))\n",
    "edges.append(pf.Edge(verts[1], verts[6], pos_cell_idx=0, neg_cell_idx=3))\n",
    "edges.append(pf.Edge(verts[2], verts[5], pos_cell_idx=3, neg_cell_idx=7))\n",
    "\n",
    "# pacman\n",
    "edges.append(pf.Edge(verts[8], verts[9], pos_cell_idx=1, neg_cell_idx=0))\n",
    "edges.append(\n",
    "    pf.Edge(\n",
    "        verts[9],\n",
    "        verts[10],\n",
    "        pos_cell_idx=1,\n",
    "        neg_cell_idx=0,\n",
    "        curve_type=\"circular_arc_deg\",\n",
    "        theta0=300,\n",
    "    )\n",
    ")\n",
    "edges.append(pf.Edge(verts[10], verts[8], pos_cell_idx=1, neg_cell_idx=0))\n",
    "edges.append(\n",
    "    pf.Edge(\n",
    "        verts[11],\n",
    "        verts[11],\n",
    "        pos_cell_idx=2,\n",
    "        neg_cell_idx=1,\n",
    "        curve_type=\"circle\",\n",
    "        radius=0.25 * pacman_scale,\n",
    "    )\n",
    ")\n",
    "\n",
    "# dots\n",
    "edges.append(\n",
    "    pf.Edge(\n",
    "        verts[12],\n",
    "        verts[12],\n",
    "        pos_cell_idx=4,\n",
    "        neg_cell_idx=3,\n",
    "        curve_type=\"circle\",\n",
    "        radius=0.1,\n",
    "    )\n",
    ")\n",
    "edges.append(\n",
    "    pf.Edge(\n",
    "        verts[13],\n",
    "        verts[13],\n",
    "        pos_cell_idx=5,\n",
    "        neg_cell_idx=3,\n",
    "        curve_type=\"circle\",\n",
    "        radius=0.1,\n",
    "    )\n",
    ")\n",
    "edges.append(\n",
    "    pf.Edge(\n",
    "        verts[14],\n",
    "        verts[14],\n",
    "        pos_cell_idx=6,\n",
    "        neg_cell_idx=3,\n",
    "        curve_type=\"circle\",\n",
    "        radius=0.1,\n",
    "    )\n",
    ")\n",
    "\n",
    "# ghost\n",
    "edges.append(\n",
    "    pf.Edge(\n",
    "        verts[15],\n",
    "        verts[16],\n",
    "        pos_cell_idx=8,\n",
    "        neg_cell_idx=7,\n",
    "        curve_type=\"sine_wave\",\n",
    "        amp=0.1,\n",
    "        freq=6,\n",
    "    )\n",
    ")\n",
    "edges.append(pf.Edge(verts[16], verts[17], pos_cell_idx=8, neg_cell_idx=7))\n",
    "edges.append(\n",
    "    pf.Edge(\n",
    "        verts[17],\n",
    "        verts[18],\n",
    "        pos_cell_idx=8,\n",
    "        neg_cell_idx=7,\n",
    "        curve_type=\"circular_arc_deg\",\n",
    "        theta0=180,\n",
    "    )\n",
    ")\n",
    "edges.append(pf.Edge(verts[18], verts[15], pos_cell_idx=8, neg_cell_idx=7))\n",
    "edges.append(\n",
    "    pf.Edge(\n",
    "        verts[19],\n",
    "        verts[19],\n",
    "        pos_cell_idx=9,\n",
    "        neg_cell_idx=8,\n",
    "        curve_type=\"ellipse\",\n",
    "        a=0.15 * ghost_scale,\n",
    "        b=0.2 * ghost_scale,\n",
    "    )\n",
    ")\n",
    "edges.append(\n",
    "    pf.Edge(\n",
    "        verts[20],\n",
    "        verts[20],\n",
    "        pos_cell_idx=10,\n",
    "        neg_cell_idx=8,\n",
    "        curve_type=\"ellipse\",\n",
    "        a=0.15 * ghost_scale,\n",
    "        b=0.2 * ghost_scale,\n",
    "    )\n",
    ")"
   ]
  },
  {
   "cell_type": "markdown",
   "metadata": {},
   "source": [
    "## Create a mesh\n",
    "With all of the edges of the mesh defined, we are prepared to define a\n",
    "`planar_mesh` object."
   ]
  },
  {
   "cell_type": "code",
   "execution_count": null,
   "metadata": {},
   "outputs": [],
   "source": [
    "T = pf.PlanarMesh(edges)"
   ]
  },
  {
   "cell_type": "markdown",
   "metadata": {},
   "source": [
    "Let's visualize the mesh skeleton, but first we should remember to parameterize\n",
    "the edges."
   ]
  },
  {
   "cell_type": "code",
   "execution_count": null,
   "metadata": {},
   "outputs": [],
   "source": [
    "pf.plot.MeshPlot(T.edges).draw(show_axis=False)"
   ]
  },
  {
   "cell_type": "markdown",
   "metadata": {},
   "source": [
    "Moreover, we can visualize an individual cell of the mesh:"
   ]
  },
  {
   "cell_type": "code",
   "execution_count": null,
   "metadata": {},
   "outputs": [],
   "source": [
    "cell_idx = 8\n",
    "K = T.get_cell(cell_idx)\n",
    "pf.plot.MeshPlot(K.get_edges()).draw()"
   ]
  }
 ],
 "metadata": {
  "kernelspec": {
   "display_name": "Python 3",
   "language": "python",
   "name": "python3"
  },
  "language_info": {
   "codemirror_mode": {
    "name": "ipython",
    "version": 3
   },
   "file_extension": ".py",
   "mimetype": "text/x-python",
   "name": "python",
   "nbconvert_exporter": "python",
   "pygments_lexer": "ipython3",
   "version": "3.11.6"
  },
  "vscode": {
   "interpreter": {
    "hash": "916dbcbb3f70747c44a77c7bcd40155683ae19c65e1c03b4aa3499c5328201f1"
   }
  }
 },
 "nbformat": 4,
 "nbformat_minor": 2
}
