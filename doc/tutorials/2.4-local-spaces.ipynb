{
 "cells": [
  {
   "cell_type": "markdown",
   "metadata": {},
   "source": [
    "# Tutorial 2.4: Local Poisson Spaces\n",
    "\n",
    "**Coming soon!**\n",
    "\n",
    "This tutorial covers spaces of local Poisson functions."
   ]
  }
 ],
 "metadata": {
  "language_info": {
   "name": "python"
  }
 },
 "nbformat": 4,
 "nbformat_minor": 2
}
