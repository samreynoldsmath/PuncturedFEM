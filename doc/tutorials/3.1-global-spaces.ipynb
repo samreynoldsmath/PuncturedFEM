{
 "cells": [
  {
   "cell_type": "markdown",
   "metadata": {},
   "source": [
    "# Tutorial 3.1: Global Poisson Spaces\n",
    "\n",
    "**Coming soon!**\n",
    "\n",
    "This tutorial discusses how local Poisson spaces can be used in a finite element method."
   ]
  }
 ],
 "metadata": {
  "language_info": {
   "name": "python"
  }
 },
 "nbformat": 4,
 "nbformat_minor": 2
}
