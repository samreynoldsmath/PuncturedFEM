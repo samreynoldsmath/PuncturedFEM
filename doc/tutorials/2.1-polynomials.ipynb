{
 "cells": [
  {
   "cell_type": "markdown",
   "metadata": {},
   "source": [
    "# Tutorial 2.1: Polynomials\n",
    "\n",
    "**Coming soon!**\n",
    "\n",
    "This tutorial explores the `Polynomial` object, which is used to represent polynomials in two variables."
   ]
  }
 ],
 "metadata": {
  "language_info": {
   "name": "python"
  }
 },
 "nbformat": 4,
 "nbformat_minor": 2
}
