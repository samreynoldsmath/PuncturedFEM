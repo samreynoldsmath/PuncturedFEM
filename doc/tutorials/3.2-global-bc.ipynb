{
 "cells": [
  {
   "cell_type": "markdown",
   "metadata": {},
   "source": [
    "# Tutorial 3.2: Global Boundary Conditions\n",
    "\n",
    "**Coming soon!**\n",
    "\n",
    "This tutorial demonstrates how to impose Dirichlet and Neumann boundary conditions."
   ]
  }
 ],
 "metadata": {
  "language_info": {
   "name": "python"
  }
 },
 "nbformat": 4,
 "nbformat_minor": 2
}
