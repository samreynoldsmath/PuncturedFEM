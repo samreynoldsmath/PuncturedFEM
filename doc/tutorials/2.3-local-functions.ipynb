{
 "cells": [
  {
   "cell_type": "markdown",
   "metadata": {},
   "source": [
    "# Tutorial 2.3: Local Poisson Functions\n",
    "\n",
    "**Coming soon!**\n",
    "\n",
    "This tutorial covers local Poisson functions, and their close relatives."
   ]
  }
 ],
 "metadata": {
  "language_info": {
   "name": "python"
  }
 },
 "nbformat": 4,
 "nbformat_minor": 2
}
