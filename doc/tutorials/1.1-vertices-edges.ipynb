{
 "cells": [
  {
   "cell_type": "markdown",
   "metadata": {},
   "source": [
    "# Tutorial 1.1: Vertices and Edges\n",
    "\n",
    "This tutorial introduces the notion of vertices and edges, which will be used to construct curvilinear meshes in the next tutorial.\n",
    "\n",
    "We begin by importing the `puncturedfem` package, \n",
    "as well as `numpy` and `matplotlib` for the sake of this example."
   ]
  },
  {
   "cell_type": "code",
   "execution_count": null,
   "metadata": {},
   "outputs": [],
   "source": [
    "import puncturedfem as pf\n",
    "import numpy as np\n",
    "import matplotlib.pyplot as plt"
   ]
  },
  {
   "cell_type": "markdown",
   "metadata": {},
   "source": [
    "## Creating an edge\n",
    "The simplest type of edge is a straight line segment, which is the default\n",
    "when initializing an `Edge` object."
   ]
  },
  {
   "cell_type": "code",
   "execution_count": null,
   "metadata": {},
   "outputs": [],
   "source": [
    "# define vertices\n",
    "v1 = pf.Vert(x=0.0, y=0.0)\n",
    "v2 = pf.Vert(x=1.0, y=2.0)\n",
    "\n",
    "# define a straight edge\n",
    "e1 = pf.Edge(v1, v2)"
   ]
  },
  {
   "cell_type": "markdown",
   "metadata": {},
   "source": [
    "For curvilinear edges, we can supply additional arguments to define the edge.\n",
    "The `curvetype` string is the name of a module located in\n",
    "```puncturedfem/mesh/edgelib```\n",
    "where the functions defining the parameterization of this curve are located.\n",
    "We can also pass in any keyword arguments used to define the edge.\n",
    "\n",
    "For instance, we can create a circular arc corresponding to a $120^\\circ$ angle\n",
    "as follows:"
   ]
  },
  {
   "cell_type": "code",
   "execution_count": null,
   "metadata": {},
   "outputs": [],
   "source": [
    "# create a circular arc\n",
    "e2 = pf.Edge(v1, v2, curve_type=\"circular_arc_deg\", theta0=120)"
   ]
  },
  {
   "cell_type": "markdown",
   "metadata": {},
   "source": [
    "Some of the common `curvetype`s used in these examples are\n",
    "\n",
    "|`curvetype` \t\t| keyword argument(s) \t|\n",
    "|-------------------|-----------------------|\n",
    "|`'circle'`\t\t\t| `'radius'`\t\t\t|\n",
    "|`'circular_arc'`\t| `'theta0'`\t\t\t|\n",
    "|`'ellipse'`\t\t|`'a'`, `'b'`\t\t\t|\n",
    "|`'line'`\t\t\t|\t\t\t\t\t\t|\n",
    "|`'sine_wave'`\t\t|`'amp'`, `'freq'`\t\t|\n",
    "\n",
    "To define a custom `curvetype`, see the appendix at the end of this notebook."
   ]
  },
  {
   "cell_type": "markdown",
   "metadata": {},
   "source": [
    "## Visualizing Edges\n",
    "We can plot the edges using the `MeshPlot` class:"
   ]
  },
  {
   "cell_type": "code",
   "execution_count": null,
   "metadata": {},
   "outputs": [],
   "source": [
    "pf.plot.MeshPlot([e1, e2]).draw()"
   ]
  },
  {
   "cell_type": "markdown",
   "metadata": {},
   "source": [
    "We can visualize the orientation of each edge by setting the \n",
    "`show_orientation` keyword argument to `True`. \n",
    "We can also introduce grid lines by setting the `show_grid` keyword argument\n",
    "to `True`."
   ]
  },
  {
   "cell_type": "code",
   "execution_count": null,
   "metadata": {},
   "outputs": [],
   "source": [
    "pf.plot.MeshPlot([e1, e2]).draw(show_orientation=True, show_grid=True)"
   ]
  },
  {
   "cell_type": "markdown",
   "metadata": {},
   "source": [
    "## Custom parameterizations\n",
    "To create the points $0=t_0 < t_1 < \\cdots < t_{2n}=2\\pi$ where $x(t)$ \n",
    "will be sampled, we will create a `QuadDict` object using the `get_quad_dict()` function.\n",
    "The `QuadDict` object is a dictionary containing `Quad` objects, which are used to sample the curve parameterization."
   ]
  },
  {
   "cell_type": "code",
   "execution_count": null,
   "metadata": {},
   "outputs": [],
   "source": [
    "quad_dict = pf.get_quad_dict(n=32)\n",
    "print(quad_dict)"
   ]
  },
  {
   "cell_type": "markdown",
   "metadata": {},
   "source": [
    "The points for the trapezoidal (`\"trap\"`) quadrature scheme are,\n",
    "of course, sampled at equidistant nodes \n",
    "$t_k = hk$, where $h=\\pi / n$ for a chosen natural number $n$."
   ]
  },
  {
   "cell_type": "code",
   "execution_count": null,
   "metadata": {},
   "outputs": [],
   "source": [
    "plt.figure()\n",
    "plt.plot(quad_dict[\"trap\"].t, \"k.\")\n",
    "plt.title(\"Trapezoid quadrature points\")\n",
    "plt.grid(\"on\")\n",
    "plt.show()"
   ]
  },
  {
   "cell_type": "markdown",
   "metadata": {},
   "source": [
    "The Kress (`\"kress\"`) quadrature should always be used to parameterized edges that terminate at a corner.\n",
    "Since this is the most common case in practice, it is the default method to parameterize an edge.\n",
    "We can see that the Kress scheme samples points more heavily near the endpoints: "
   ]
  },
  {
   "cell_type": "code",
   "execution_count": null,
   "metadata": {},
   "outputs": [],
   "source": [
    "plt.figure()\n",
    "plt.plot(quad_dict[\"kress\"].t, \"k.\")\n",
    "plt.title(\"Kress quadrature points\")\n",
    "plt.grid(\"on\")\n",
    "plt.show()"
   ]
  },
  {
   "cell_type": "markdown",
   "metadata": {},
   "source": [
    "## Creating an Edge with a Cubic Spline\n",
    "\n",
    "The `curve_type=\"spline\"` can be used to construct an `Edge` by passing in the keyword argument `pts`, which is a list of two `numpy.ndarray`s, one with the $x$-coordinates, the other with the $y$-coordinates. "
   ]
  },
  {
   "cell_type": "code",
   "execution_count": null,
   "metadata": {},
   "outputs": [],
   "source": [
    "x = np.array([0.7, 0.3, 0.5, 0.2])\n",
    "y = np.array([1.0, 0.6, 0.4, 0.4])\n",
    "\n",
    "anchor = pf.Vert(x[0], y[0])\n",
    "endpnt = pf.Vert(x[-1], y[-1])\n",
    "\n",
    "cubic_spline_edge = pf.Edge(\n",
    "    anchor=anchor, endpnt=endpnt, curve_type=\"spline\", pts=[x, y]\n",
    ")\n",
    "pf.plot.MeshPlot([cubic_spline_edge]).draw(\n",
    "    show_grid=True, show_orientation=True\n",
    ")"
   ]
  },
  {
   "cell_type": "markdown",
   "metadata": {},
   "source": [
    "## Splitting an Edge\n",
    "\n",
    "We can use the `split_edge()` function to split an `Edge` into two separate `Edge`s."
   ]
  },
  {
   "cell_type": "code",
   "execution_count": null,
   "metadata": {},
   "outputs": [],
   "source": [
    "anchor = pf.Vert(x=1, y=1)\n",
    "endpnt = pf.Vert(x=3, y=2)\n",
    "sinusoid_edge = pf.Edge(\n",
    "    anchor=anchor, endpnt=endpnt, curve_type=\"sine_wave\", amp=0.2, freq=7\n",
    ")\n",
    "pf.plot.MeshPlot([sinusoid_edge]).draw(show_orientation=True, show_grid=True)"
   ]
  },
  {
   "cell_type": "markdown",
   "metadata": {},
   "source": [
    "We provide the `Edge` object we wish to split, and `t_split`, the value of $t$ where we wish to split the edge parameterized by $x(t)$.\n",
    "Curves defined in `puncturedfem`'s edge library are by default defined from $0$ to $2\\pi$.\n",
    "The default value of `t_split` is $\\pi$."
   ]
  },
  {
   "cell_type": "code",
   "execution_count": null,
   "metadata": {},
   "outputs": [],
   "source": [
    "e1, e2 = pf.split_edge(sinusoid_edge, t_split=np.pi / 2)"
   ]
  },
  {
   "cell_type": "markdown",
   "metadata": {},
   "source": [
    "Let's take a look at our new edges:"
   ]
  },
  {
   "cell_type": "code",
   "execution_count": null,
   "metadata": {},
   "outputs": [],
   "source": [
    "pf.plot.MeshPlot([e1, e2]).draw(show_orientation=True, show_grid=True)\n",
    "pf.plot.MeshPlot([e1]).draw(show_orientation=True, show_grid=True)\n",
    "pf.plot.MeshPlot([e2]).draw(show_orientation=True, show_grid=True)"
   ]
  },
  {
   "cell_type": "markdown",
   "metadata": {},
   "source": [
    "## Defining a custom `curvetype`\n",
    "\n",
    "**(!) Warning:** This method of defining custom edges will be deprecated in a future release.\n",
    "\n",
    "An edge $e$ is taken to be a $C^2$ smooth curve in $\\mathbb{R}^2$\n",
    "parameterized by $x(t)$ for $0\\leq t\\leq 2\\pi$.\n",
    "We refer to $x(0)$ as the *anchor point* and $x(2\\pi)$ as the \n",
    "*terminal point*, and $x(0),x(2\\pi)$ are referred to collectively as the \n",
    "*endpoints*. We make the following assumptions:\n",
    "* The edge $e$ is nontrivial: $e$ is not a single point.\n",
    "* The edge $e$ is nonselfintersecting: $x(t_1)\\neq x(t_2)$ \n",
    "  for all $0<t_1<t_2<2\\pi$.\n",
    "* $x(\\cdot)$ is regularizable: there is some fixed $\\sigma>0$ such that\n",
    "  $|x'(t)|\\geq\\sigma$ for all $0 < t < 2\\pi$.\n",
    "\n",
    "In the event that we need an edge that is not provided in the \n",
    "`puncturedfem/mesh/edgelib` folder,\n",
    "we can add to the edge library as follows. \n",
    "1. Create a file `puncturedfem/mesh/edgelib/mycurve.py`, where `mycurve` will\n",
    "   be the name of the curve that will be called during the initialization \n",
    "   of the edge object. \n",
    "2. Import the `numpy` package.\n",
    "3. In `mycurve.py`, define three functions called `X()`, `DX()`, and `DDX()`.\n",
    "   These will define $x(t)$, $x'(t)$, and $x''(t)$ respectively.\n",
    "4. Each of these three functions will return a $2\\times (2n+1)$ array,\n",
    "   where $2n+1$ is the number of sampled points specified by the chosen\n",
    "   `Quad` object.\n",
    "5. Row 0 of each array contains the $x_1$ component, and row 1 contains the \n",
    "   $x_2$ component.\n",
    "6. Unpack any additional arguments from `**kwargs`.\n",
    "\n",
    "The contents of `mycurve.py` will look generically like the following:\n",
    "```python\n",
    "\"\"\"\n",
    "A short description of the curve.\n",
    "\n",
    "A description of any parameters that are used.\n",
    "\"\"\"\n",
    "\n",
    "import numpy as np\n",
    "\n",
    "def X(t, **kwargs):\n",
    "\n",
    "   my_parameter = kwargs[\"my_parameter\"]\n",
    "\n",
    "   x = np.zeros((2,len(t)))\n",
    "   x[0,:] = \t# the x_1 component\n",
    "   x[1,:] = \t# the x_2 component\n",
    "\n",
    "   return x\n",
    "\n",
    "def DX(t, **kwargs):\n",
    "\n",
    "   my_parameter = kwargs[\"my_parameter\"]\n",
    "\n",
    "   dx = np.zeros((2,len(t)))\n",
    "   dx[0,:] = \t# the derivative of the x_1 component wrt t\n",
    "   dx[1,:] = \t# the derivative of the x_2 component wrt t\n",
    "\n",
    "   return dx\n",
    "\n",
    "def DDX(t, **kwargs):\n",
    "\n",
    "   my_parameter = kwargs[\"my_parameter\"]\n",
    "\n",
    "   ddx = np.zeros((2,len(t)))\n",
    "   ddx[0,:] = \t# the second derivative of the x_1 component wrt t\n",
    "   ddx[1,:] = \t# the second derivative of the x_2 component wrt t\n",
    "\n",
    "   return ddx\n",
    "```"
   ]
  }
 ],
 "metadata": {
  "kernelspec": {
   "display_name": "Python 3",
   "language": "python",
   "name": "python3"
  },
  "language_info": {
   "codemirror_mode": {
    "name": "ipython",
    "version": 3
   },
   "file_extension": ".py",
   "mimetype": "text/x-python",
   "name": "python",
   "nbconvert_exporter": "python",
   "pygments_lexer": "ipython3",
   "version": "3.11.6"
  },
  "vscode": {
   "interpreter": {
    "hash": "916dbcbb3f70747c44a77c7bcd40155683ae19c65e1c03b4aa3499c5328201f1"
   }
  }
 },
 "nbformat": 4,
 "nbformat_minor": 2
}
