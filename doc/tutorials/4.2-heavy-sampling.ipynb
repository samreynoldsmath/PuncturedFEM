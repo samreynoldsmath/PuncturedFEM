{
 "cells": [
  {
   "cell_type": "markdown",
   "metadata": {},
   "source": [
    "# Tutorial 4.2: Heavy Sampling of an Intricate Edge\n",
    "\n",
    "We may sometimes have an edge that has fine details that need to be resolved by increasing the sampling parameter $n$, with the edge being sampled at $2n+1$ points, including the end points.\n",
    "\n",
    "## When Things Go Right\n",
    "\n",
    "For example, consider a unit square with one of the edges being sinusoidal."
   ]
  },
  {
   "cell_type": "code",
   "execution_count": null,
   "metadata": {},
   "outputs": [],
   "source": [
    "import puncturedfem as pf\n",
    "\n",
    "# define vertices\n",
    "verts: list[pf.Vert] = []\n",
    "verts.append(pf.Vert(x=0.0, y=0.0))\n",
    "verts.append(pf.Vert(x=1.0, y=0.0))\n",
    "verts.append(pf.Vert(x=1.0, y=1.0))\n",
    "verts.append(pf.Vert(x=0.0, y=1.0))\n",
    "\n",
    "# define edges\n",
    "edges: list[pf.Edge] = []\n",
    "edges.append(\n",
    "    pf.Edge(\n",
    "        verts[0],\n",
    "        verts[1],\n",
    "        pos_cell_idx=0,\n",
    "        curve_type=\"sine_wave\",\n",
    "        amp=0.1,\n",
    "        freq=4,\n",
    "    )\n",
    ")\n",
    "edges.append(pf.Edge(verts[1], verts[2], pos_cell_idx=0))\n",
    "edges.append(pf.Edge(verts[2], verts[3], pos_cell_idx=0))\n",
    "edges.append(pf.Edge(verts[3], verts[0], pos_cell_idx=0))\n",
    "\n",
    "# define mesh cell\n",
    "K_simple = pf.MeshCell(idx=0, edges=edges)\n",
    "\n",
    "# parameterize edges\n",
    "K_simple.parameterize(quad_dict=pf.get_quad_dict(n=64))\n",
    "\n",
    "# set up Nystrom solver\n",
    "nyst = pf.NystromSolver(K_simple, debug=True)\n",
    "\n",
    "# plot boundary\n",
    "pf.plot.MeshPlot(K_simple.get_edges()).draw()"
   ]
  },
  {
   "cell_type": "markdown",
   "metadata": {},
   "source": [
    "It is simple to verify that $v\\in V_1(K)$ given by $v(x_1,x_2) = x_2$ has a square $L^2$ norm of\n",
    "\\begin{align*}\n",
    "    \\int_K v^2 ~dx = \\frac13~.\n",
    "\\end{align*}\n",
    "Let's verify this:"
   ]
  },
  {
   "cell_type": "code",
   "execution_count": null,
   "metadata": {},
   "outputs": [],
   "source": [
    "# define v to have a Dirichlet trace of x_2 on each edge\n",
    "x2 = pf.Polynomial([(1.0, 0, 1)])\n",
    "v_trace = pf.DirichletTrace(edges=K_simple.get_edges(), funcs=x2)\n",
    "\n",
    "# the local function v = x_2 is harmonic\n",
    "v = pf.LocalPoissonFunction(nyst=nyst, trace=v_trace, evaluate_interior=False)\n",
    "\n",
    "# compute area and error\n",
    "L2_exact = 1 / 3\n",
    "L2_computed = v.get_l2_inner_prod(v)\n",
    "print(f\"Error = {abs(L2_exact - L2_computed):.4e}\")"
   ]
  },
  {
   "cell_type": "markdown",
   "metadata": {},
   "source": [
    "## When Things Go Wrong\n",
    "\n",
    "Let's make this example more interesting by increasing the frequency of the sinusoid on the bottom of the square."
   ]
  },
  {
   "cell_type": "code",
   "execution_count": null,
   "metadata": {},
   "outputs": [],
   "source": [
    "# crazy edge\n",
    "edges[0] = pf.Edge(\n",
    "    verts[0],\n",
    "    verts[1],\n",
    "    pos_cell_idx=0,\n",
    "    curve_type=\"sine_wave\",\n",
    "    amp=0.1,\n",
    "    freq=32,  # increase frequency\n",
    ")\n",
    "\n",
    "# define and parameterize a new mesh cell\n",
    "K = pf.MeshCell(idx=0, edges=edges)\n",
    "K.parameterize(quad_dict=pf.get_quad_dict(n=64))\n",
    "\n",
    "# and look at it\n",
    "pf.plot.MeshPlot(K.get_edges()).draw()"
   ]
  },
  {
   "cell_type": "markdown",
   "metadata": {},
   "source": [
    "That doesn't look right... \n",
    "We can change the sampling parameter $n$ when initializing a `MeshPlot` instance to get more resolution. We also need to set the `reparameterize` flag to `True`."
   ]
  },
  {
   "cell_type": "code",
   "execution_count": null,
   "metadata": {},
   "outputs": [],
   "source": [
    "pf.plot.MeshPlot(K.get_edges(), reparameterize=True, n=512).draw()"
   ]
  },
  {
   "cell_type": "markdown",
   "metadata": {},
   "source": [
    "That looks pretty good, but note that `MeshPlot` didn't overwrite the sampled points we got above with `n=64`:"
   ]
  },
  {
   "cell_type": "code",
   "execution_count": null,
   "metadata": {},
   "outputs": [],
   "source": [
    "print(f\"n = {K.num_pts // K.num_edges // 2}\")"
   ]
  },
  {
   "cell_type": "markdown",
   "metadata": {},
   "source": [
    "Since this is not a high enough sampling rate to capture the high frequency of the bottom edge, we might expect our computation of the area to not be very accurate.\n",
    "Let's confirm this suspicion:"
   ]
  },
  {
   "cell_type": "code",
   "execution_count": null,
   "metadata": {},
   "outputs": [],
   "source": [
    "# set up Nystrom solver\n",
    "nyst = pf.NystromSolver(K, debug=True)\n",
    "\n",
    "# the harmonic function v = x_2\n",
    "v = pf.LocalPoissonFunction(nyst=nyst, trace=v_trace, evaluate_interior=False)\n",
    "\n",
    "# compute square L^2 norm and error\n",
    "L2_exact = 1 / 3\n",
    "L2_computed = v.get_l2_inner_prod(v)\n",
    "print(f\"Error = {abs(L2_exact - L2_computed):.4e}\")"
   ]
  },
  {
   "cell_type": "markdown",
   "metadata": {},
   "source": [
    "One might expect that if we increase the sampling parameter, this error will get smaller. \n",
    "However, we soon discover that this crashes the `NystromSolver` initialization."
   ]
  },
  {
   "cell_type": "code",
   "execution_count": null,
   "metadata": {},
   "outputs": [],
   "source": [
    "# get 1024 sampled points on each edge\n",
    "K.parameterize(quad_dict=pf.get_quad_dict(n=512))\n",
    "\n",
    "try:\n",
    "    # (WARNING!) this line will result in an exception being thrown\n",
    "    nyst = pf.NystromSolver(K, debug=True)\n",
    "except ZeroDivisionError as e:\n",
    "    print(\"Indeed, an exception was thrown!\\n\", e)"
   ]
  },
  {
   "cell_type": "markdown",
   "metadata": {},
   "source": [
    "## Changing the Kress parameter (optional)\n",
    "As we saw in [Tutorial 1.1](1.1-vertices-edges.ipynb), we can change the Kress parameter $p$ to adjust how much the sampled points are \"clustered\" near the endpoints. \n",
    "The default value is $p=7$, but changing this to its lowest value $p=2$ results in sampled points that are more spread out, perhaps enough so that we can avoid division by machine zero.\n",
    "\n",
    "**NOTE:** The condition number of the Nyström matrix is very high and GMRES will not converge quickly, if at all. Uncomment the following cell to see this."
   ]
  },
  {
   "cell_type": "code",
   "execution_count": null,
   "metadata": {},
   "outputs": [],
   "source": [
    "# # get 1024 sampled points on each edge with lower Kress parameter\n",
    "# K.parameterize(quad_dict=pf.get_quad_dict(n=512, p=2))\n",
    "# nyst = pf.NystromSolver(K, debug=True)\n",
    "\n",
    "# # the harmonic function v = x_2\n",
    "# v = pf.LocalFunction(nyst=nyst, trace=v_trace)\n",
    "\n",
    "# # (WARNING!) this line will take a long time to run\n",
    "# v.compute_all()\n",
    "\n",
    "# # compute square L^2 norm and error\n",
    "# L2_exact = 1 / 3\n",
    "# L2_computed = v.get_l2_inner_prod(v)\n",
    "# print(f\"Error = {abs(L2_exact - L2_computed):.4e}\")"
   ]
  },
  {
   "cell_type": "markdown",
   "metadata": {},
   "source": [
    "## Splitting Edges\n",
    "\n",
    "As we saw in [Example 0.1](ex0.1-mesh-building.ipynb), we can split edges in two using the `split_edge()` function. Let's try splitting the 'bad' edge into smaller edges."
   ]
  },
  {
   "cell_type": "code",
   "execution_count": null,
   "metadata": {},
   "outputs": [],
   "source": [
    "# replace edge 0 with eight new edges\n",
    "edges += pf.split_edge(edges[0], num_edges=8)\n",
    "del edges[0]\n",
    "\n",
    "# define mesh cell\n",
    "K = pf.MeshCell(idx=0, edges=edges)"
   ]
  },
  {
   "cell_type": "markdown",
   "metadata": {},
   "source": [
    "In the previous section, we tried sampling each edge with $2n = 1024$ points. Notice, though, that only the bottom edge is problematic, and we might get away with sampling the straight edges at a lower rate. To keep the number of sampled points on the bottom edge the same, which has now been split into 8 edges, we need to set the sampling parameter to $n=64=512/8$."
   ]
  },
  {
   "cell_type": "code",
   "execution_count": null,
   "metadata": {},
   "outputs": [],
   "source": [
    "# bottom edge sampled at 1024 points\n",
    "K.parameterize(quad_dict=pf.get_quad_dict(n=64))\n",
    "\n",
    "# set up Nystrom solver\n",
    "nyst = pf.NystromSolver(K, debug=True)"
   ]
  },
  {
   "cell_type": "markdown",
   "metadata": {},
   "source": [
    "The `NystromSolver` didn't crash this time. Let's define the local function $v = x_2$ and take a peek at its trace:"
   ]
  },
  {
   "cell_type": "code",
   "execution_count": null,
   "metadata": {},
   "outputs": [],
   "source": [
    "# Dirichlet trace of the harmonic function v = x_2\n",
    "x2 = pf.Polynomial([(1.0, 0, 1)])\n",
    "v_trace = pf.DirichletTrace(K, funcs=x2)\n",
    "\n",
    "# the harmonic function v = x_2\n",
    "v = pf.LocalPoissonFunction(nyst=nyst, trace=v_trace, evaluate_interior=False)\n",
    "\n",
    "# plot the trace of v\n",
    "pf.plot.TracePlot(v_trace, K, quad_dict=pf.get_quad_dict(n=64)).draw()"
   ]
  },
  {
   "cell_type": "markdown",
   "metadata": {},
   "source": [
    "Finally, let's see if we can accurately compute our quantity of interest:"
   ]
  },
  {
   "cell_type": "code",
   "execution_count": null,
   "metadata": {},
   "outputs": [],
   "source": [
    "L2_exact = 1 / 3\n",
    "L2_computed = v.get_l2_inner_prod(v)\n",
    "print(f\"Error = {abs(L2_exact - L2_computed):.4e}\")"
   ]
  }
 ],
 "metadata": {
  "kernelspec": {
   "display_name": "Python 3 (ipykernel)",
   "language": "python",
   "name": "python3"
  },
  "language_info": {
   "codemirror_mode": {
    "name": "ipython",
    "version": 3
   },
   "file_extension": ".py",
   "mimetype": "text/x-python",
   "name": "python",
   "nbconvert_exporter": "python",
   "pygments_lexer": "ipython3",
   "version": "3.9.19"
  }
 },
 "nbformat": 4,
 "nbformat_minor": 4
}
