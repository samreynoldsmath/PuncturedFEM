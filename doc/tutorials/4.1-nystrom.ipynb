{
 "cells": [
  {
   "cell_type": "markdown",
   "metadata": {},
   "source": [
    "# Tutorial 4.1: Nyström Solvers\n",
    "\n",
    "**Coming soon!**\n",
    "\n",
    "This tutorial explores the `NystomSolver` object, which is used to numerically solve some integral equations that arise in the `puncturedfem` package."
   ]
  }
 ],
 "metadata": {
  "language_info": {
   "name": "python"
  }
 },
 "nbformat": 4,
 "nbformat_minor": 2
}
