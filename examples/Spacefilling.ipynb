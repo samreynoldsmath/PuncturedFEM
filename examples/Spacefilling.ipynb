{
 "cells": [
  {
   "cell_type": "markdown",
   "metadata": {},
   "source": [
    "The curve below is part of a family of $C^2$, nonself-intersecting curves whose limit is surjective on the equilateral triangle. "
   ]
  },
  {
   "cell_type": "code",
   "execution_count": null,
   "metadata": {},
   "outputs": [],
   "source": [
    "import os\n",
    "import sys\n",
    "import functools as ft\n",
    "\n",
    "current_dir = os.getcwd()\n",
    "parent_dir = os.path.abspath(os.path.join(current_dir, \"..\"))\n",
    "sys.path.append(parent_dir)\n",
    "\n",
    "import puncturedfem as pf\n",
    "\n",
    "import numpy as np\n",
    "import matplotlib.pyplot as plt\n",
    "import scipy.interpolate as interpolate\n",
    "\n",
    "\n",
    "# accepts the vertices of a triangle to find the coordinates of a space filling curve\n",
    "def SFC(A, B, C, n, p):\n",
    "    # switch on the top 2 bits of n.\n",
    "    if p == 0:\n",
    "        return [\n",
    "            2 * A / 3 + (A + B + C) / 9,\n",
    "            2 * (A / 6 + 2 * B / 3 + C / 6) / 3 + (A + B + C) / 9,\n",
    "            2 * C / 3 + (A + B + C) / 9,\n",
    "        ]\n",
    "    match n >> 2 * (p - 1) & 3:\n",
    "        case 0:\n",
    "            return SFC(A, (A + C) / 2, (A + B) / 2, n, p - 1)\n",
    "        case 1:\n",
    "            return SFC((A + B) / 2, B, (C + B) / 2, n, p - 1)\n",
    "        case 2:\n",
    "            return SFC((B + C) / 2, (A + B) / 2, (A + C) / 2, n, p - 1)\n",
    "        case 3:\n",
    "            return SFC((A + C) / 2, (B + C) / 2, C, n, p - 1)\n",
    "\n",
    "\n",
    "family_param = 3\n",
    "idxs = np.arange(3 * 4**family_param)\n",
    "A = np.array([0, 0])\n",
    "B = np.array([1.0 / 2, np.sqrt(3) / 2])\n",
    "C = np.array([1, 0])\n",
    "D = (A + B + C) / 3\n",
    "A_ = (1 - 1 / 4**family_param) * A + 1 / 4**family_param * D\n",
    "B_ = (1 - 1 / 4**family_param) * B + 1 / 4**family_param * D\n",
    "C_ = (1 - 1 / 4**family_param) * C + 1 / 4**family_param * D\n",
    "\n",
    "\n",
    "def myfun_x(n):\n",
    "    return SFC(A_, B_, C_, n // 3, family_param)[n % 3][0]\n",
    "\n",
    "\n",
    "def myfun_y(n):\n",
    "    return SFC(A_, B_, C_, n // 3, family_param)[n % 3][1]\n",
    "\n",
    "\n",
    "xs = np.append(\n",
    "    [0, A_[0]], np.append(np.array([myfun_x(n) for n in idxs]), [C_[0], 1])\n",
    ")\n",
    "ys = np.append([0, 0], np.append(np.array([myfun_y(n) for n in idxs]), [0, 0]))\n",
    "\n",
    "# tck,u= interpolate.splprep([xs,ys],s=0)"
   ]
  },
  {
   "cell_type": "markdown",
   "metadata": {},
   "source": [
    "## Construct the mesh cell\n"
   ]
  },
  {
   "cell_type": "code",
   "execution_count": null,
   "metadata": {},
   "outputs": [],
   "source": [
    "vA = pf.Vert(0, 0, 0)\n",
    "vB = pf.Vert(1 / 2, np.sqrt(3) / 2, 1)\n",
    "vC = pf.Vert(1, 0, 2)\n",
    "badedge = pf.Edge(vA, vC, curve_type=\"spline\", pos_cell_idx=0, pts=[xs, ys])\n",
    "\n",
    "\n",
    "def Bd(edge, n, l, r):\n",
    "    if n <= 0:\n",
    "        return [edge]\n",
    "    e0, e1 = pf.split_edge(e=edge, t_split=(l + r) / 2)\n",
    "    return Bd(e0, n - 1, l, (l + r) / 2) + Bd(e1, n - 1, (l + r) / 2, r)\n",
    "\n",
    "\n",
    "edges = Bd(badedge, 2 * (family_param - 1), 0, 2 * np.pi) + [\n",
    "    pf.Edge(vC, vB, pos_cell_idx=0, idx=1),\n",
    "    pf.Edge(vB, vA, pos_cell_idx=0, idx=2),\n",
    "]\n",
    "# Todo: this is a hack, since edges are responsible for defining their indices, splitting edges has no\n",
    "# way to know which indices are available.\n",
    "for i, e in enumerate(edges):\n",
    "    e.idx = i"
   ]
  },
  {
   "cell_type": "markdown",
   "metadata": {},
   "source": [
    "With the edges defined, let's make the mesh cell $K$."
   ]
  },
  {
   "cell_type": "code",
   "execution_count": null,
   "metadata": {},
   "outputs": [],
   "source": [
    "K = pf.MeshCell(idx=0, edges=edges)"
   ]
  },
  {
   "cell_type": "markdown",
   "metadata": {},
   "source": [
    "Let's parameterize the edges, and plot the edges to check that we have what we \n",
    "want. These curves are a little too close to the boundary, and we can fix that easily, but we'll ignore it for the moment"
   ]
  },
  {
   "cell_type": "code",
   "execution_count": null,
   "metadata": {},
   "outputs": [],
   "source": [
    "quad_dict = pf.get_quad_dict(n=64, p=7)\n",
    "K.parameterize(quad_dict)\n",
    "pf.plot.MeshPlot(K.get_edges()).draw()"
   ]
  },
  {
   "cell_type": "markdown",
   "metadata": {},
   "source": [
    "Since we have subdivided the bad edge, we must build our *bad* basis functions for $V_p^{\\partial K}$ by hand. "
   ]
  },
  {
   "cell_type": "code",
   "execution_count": null,
   "metadata": {},
   "outputs": [],
   "source": [
    "x1, x2 = K.get_boundary_points()\n",
    "# The trace functions here will be much easier to define in barycentric coordinates\n",
    "ones = np.ones(shape=x1.shape)\n",
    "rhv = np.stack([ones, x1, x2])\n",
    "M = np.transpose(\n",
    "    np.stack([np.append([1], A), np.append([1], B), np.append([1], C)])\n",
    ")\n",
    "M_ = np.linalg.inv(M)\n",
    "barycentric = np.matmul(M_, rhv)\n",
    "phi1_trace = barycentric[0]\n",
    "phi2_trace = barycentric[2]\n",
    "\n",
    "\n",
    "def phi3_trace_gen(a, b, c):\n",
    "    if min(abs(a), abs(c)) > 1e-15:\n",
    "        return 0\n",
    "    return b\n",
    "\n",
    "\n",
    "# This is a *terrible* way to define this function.\n",
    "def phi4_trace_gen(a, b, c):\n",
    "    if min(abs(a), abs(c)) < 1e-15:\n",
    "        # this threshold depends upon the quadrature scheme, but is just hardcoded here, and will not work for cusps\n",
    "        # I didn't see a way to define the trace per edge, but I didn't look very hard either.\n",
    "        if abs(b) > 1e-10:\n",
    "            if abs(a) < abs(c):\n",
    "                return a\n",
    "            else:\n",
    "                return c\n",
    "    return b\n",
    "\n",
    "\n",
    "phi3_trace = [phi3_trace_gen(a, b, c) for a, b, c in np.transpose(barycentric)]\n",
    "phi4_trace = [phi4_trace_gen(a, b, c) for a, b, c in np.transpose(barycentric)]\n",
    "bad_basis = [phi1_trace, phi2_trace, phi3_trace, phi4_trace]"
   ]
  },
  {
   "cell_type": "code",
   "execution_count": null,
   "metadata": {},
   "outputs": [],
   "source": [
    "nyst = pf.NystromSolver(K, verbose=True)\n",
    "\n",
    "\n",
    "def make_show_basis_fuction_from_trace(trace):\n",
    "    phi = pf.LocalFunction(nyst=nyst, has_poly_trace=False)\n",
    "    phi.set_trace_values(trace)\n",
    "    phi.compute_polynomial_part()\n",
    "    phi.compute_polynomial_part_trace()\n",
    "    phi.compute_harmonic_conjugate()\n",
    "    pf.plot.TracePlot(\n",
    "        traces=[phi.get_harmonic_conjugate()],\n",
    "        K=K,\n",
    "        title=\"\",\n",
    "        quad_dict=quad_dict,\n",
    "    ).draw()\n",
    "    phi.compute_harmonic_weighted_normal_derivative()\n",
    "    print(phi.get_h1_semi_inner_prod(phi))\n",
    "    phi.compute_interior_values()\n",
    "\n",
    "    phi_computed = phi.int_vals\n",
    "\n",
    "    plt.figure()\n",
    "    plt.contourf(K.int_x1, K.int_x2, phi_computed, levels=50)\n",
    "    plt.colorbar()\n",
    "    plt.title(\"Interior values of $\\phi$\")\n",
    "    plt.show()\n",
    "\n",
    "    return phi\n",
    "\n",
    "\n",
    "basis = list(map(make_show_basis_fuction_from_trace, bad_basis))"
   ]
  },
  {
   "cell_type": "code",
   "execution_count": null,
   "metadata": {},
   "outputs": [],
   "source": [
    "mat = np.zeros((4, 4))\n",
    "for i, vi in enumerate(basis):\n",
    "    for j, vj in enumerate(basis):\n",
    "        mat[i][j] = vi.get_h1_semi_inner_prod(vj)\n",
    "print(mat)\n",
    "print(np.linalg.eig(1 / 2 * (mat + np.transpose(mat))))"
   ]
  }
 ],
 "metadata": {
  "kernelspec": {
   "display_name": "PuncturedFEM",
   "language": "python",
   "name": "python3"
  },
  "language_info": {
   "codemirror_mode": {
    "name": "ipython",
    "version": 3
   },
   "file_extension": ".py",
   "mimetype": "text/x-python",
   "name": "python",
   "nbconvert_exporter": "python",
   "pygments_lexer": "ipython3",
   "version": "3.11.7"
  }
 },
 "nbformat": 4,
 "nbformat_minor": 2
}
