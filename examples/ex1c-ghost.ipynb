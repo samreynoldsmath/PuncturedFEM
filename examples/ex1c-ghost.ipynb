{
 "cells": [
  {
   "attachments": {},
   "cell_type": "markdown",
   "metadata": {},
   "source": [
    "# Example 1-C: Ghost\n",
    "\n",
    "This example computes the $H^1$ and $L^2$ (semi-)inner products of two \n",
    "functions, $v,w$ with the property that they are the sum of a harmonic \n",
    "function and a polynomial."
   ]
  },
  {
   "cell_type": "code",
   "execution_count": null,
   "metadata": {},
   "outputs": [],
   "source": [
    "import sys\n",
    "import os\n",
    "\n",
    "current_dir = os.getcwd()\n",
    "parent_dir = os.path.abspath(os.path.join(current_dir, \"..\"))\n",
    "sys.path.append(parent_dir)\n",
    "\n",
    "import puncturedfem as pf\n",
    "import numpy as np\n",
    "import matplotlib.pyplot as plt\n",
    "\n",
    "# define quadrature schemes\n",
    "quad_dict = pf.get_quad_dict(n=64)\n",
    "\n",
    "# define vertices\n",
    "verts = []\n",
    "verts.append(pf.Vert(x=0.0, y=0.0))  # 0\n",
    "verts.append(pf.Vert(x=1.0, y=0.0))  # 1\n",
    "verts.append(pf.Vert(x=1.0, y=0.8))  # 2\n",
    "verts.append(pf.Vert(x=0.0, y=0.8))  # 3\n",
    "verts.append(pf.Vert(x=0.25, y=0.7))  # 4\n",
    "verts.append(pf.Vert(x=0.75, y=0.7))  # 5\n",
    "\n",
    "# define edges\n",
    "edges = []\n",
    "edges.append(\n",
    "    pf.Edge(\n",
    "        verts[0],\n",
    "        verts[1],\n",
    "        pos_cell_idx=0,\n",
    "        curve_type=\"sine_wave\",\n",
    "        amp=0.1,\n",
    "        freq=6,\n",
    "    )\n",
    ")\n",
    "edges.append(pf.Edge(verts[1], verts[2], pos_cell_idx=0))\n",
    "edges.append(\n",
    "    pf.Edge(\n",
    "        verts[2],\n",
    "        verts[3],\n",
    "        pos_cell_idx=0,\n",
    "        curve_type=\"circular_arc_deg\",\n",
    "        theta0=180,\n",
    "    )\n",
    ")\n",
    "edges.append(pf.Edge(verts[3], verts[0], pos_cell_idx=0))\n",
    "edges.append(\n",
    "    pf.Edge(\n",
    "        verts[4], verts[4], neg_cell_idx=0, curve_type=\"ellipse\", a=0.15, b=0.2\n",
    "    )\n",
    ")\n",
    "edges.append(\n",
    "    pf.Edge(\n",
    "        verts[5], verts[5], neg_cell_idx=0, curve_type=\"ellipse\", a=0.15, b=0.2\n",
    "    )\n",
    ")\n",
    "\n",
    "# define mesh cell\n",
    "K = pf.MeshCell(idx=0, edges=edges)\n",
    "\n",
    "# parameterize edges\n",
    "K.parameterize(quad_dict)\n",
    "\n",
    "# plot boundary\n",
    "pf.plot.MeshPlot(K.get_edges()).draw()\n",
    "\n",
    "# set up Nyström solver\n",
    "nyst = pf.NystromSolver(K, verbose=True)"
   ]
  },
  {
   "attachments": {},
   "cell_type": "markdown",
   "metadata": {},
   "source": [
    "## Define local functions\n",
    "Consider the functions\n",
    "\\begin{align*}\n",
    "\tv(x) &= \\frac{x_1 - 0.25}{(x_1 - 0.25)^2 + (x_2 - 0.7)^2}\n",
    "\t+ x_1^3 x_2 + x_2^2\n",
    "\t~,\n",
    "\t\\\\[12pt]\n",
    "\tw(x) &= \\ln\\big[(x_1 - 0.75)^2 + (x_2 - 0.7)^2\\big] \n",
    "\t+ x_1^2 x_2^2 - x_1 x_2^3\n",
    "\t~.\n",
    "\\end{align*}\n",
    "It holds that \n",
    "\\begin{align*}\n",
    "\t\\Delta v(x) &= 6 x_1 x_2 +2\n",
    "\t~,\n",
    "\t\\\\[12pt]\n",
    "\t\\Delta w(x) &= 2 x_1^2 - 6 x_1 x_2 + 2 x_2^2\n",
    "\t~.\n",
    "\\end{align*}"
   ]
  },
  {
   "cell_type": "code",
   "execution_count": null,
   "metadata": {},
   "outputs": [],
   "source": [
    "# get coordinates of boundary points\n",
    "x1, x2 = K.get_boundary_points()\n",
    "\n",
    "################################################################################\n",
    "\n",
    "# trace of v\n",
    "v_trace = (\n",
    "    (x1 - 0.25) / ((x1 - 0.25) ** 2 + (x2 - 0.7) ** 2)\n",
    "    + (x1**3) * x2\n",
    "    + x2**2\n",
    ")\n",
    "\n",
    "# Laplacian of v\n",
    "v_laplacian = pf.Polynomial([[6.0, 1, 1], [2.0, 0, 0]])\n",
    "\n",
    "# store v as a local function object\n",
    "v = pf.LocalFunction(nyst=nyst, lap_poly=v_laplacian, has_poly_trace=False)\n",
    "v.set_trace_values(v_trace)\n",
    "\n",
    "################################################################################\n",
    "\n",
    "# trace of w\n",
    "w_trace = (\n",
    "    np.log((x1 - 0.75) ** 2 + (x2 - 0.7) ** 2)\n",
    "    + (x1**2) * (x2**2)\n",
    "    - x1 * (x2**3)\n",
    ")\n",
    "\n",
    "# Laplacian of w\n",
    "w_laplacian = pf.Polynomial([[2.0, 2, 0], [-6.0, 1, 1], [2.0, 0, 2]])\n",
    "\n",
    "# store w as a local function object\n",
    "w = pf.LocalFunction(nyst=nyst, lap_poly=w_laplacian, has_poly_trace=False)\n",
    "w.set_trace_values(w_trace)\n",
    "\n",
    "# compute quantities needed for integration\n",
    "v.compute_all()\n",
    "w.compute_all()"
   ]
  },
  {
   "attachments": {},
   "cell_type": "markdown",
   "metadata": {},
   "source": [
    "## $H^1$ semi-inner product\n",
    "\n",
    "Let's compute the $H^1$ semi-inner product \n",
    "\\begin{align*}\n",
    "\t\\int_K \\nabla v \\cdot \\nabla w ~dx\n",
    "\t&\\approx\n",
    "\t-6.311053612386\n",
    "\t\\pm 3.6161 \\times 10^{-12}\n",
    "\\end{align*}\n",
    "whose approximate value was obtained with *Mathematica*. "
   ]
  },
  {
   "cell_type": "code",
   "execution_count": null,
   "metadata": {},
   "outputs": [],
   "source": [
    "h1_vw_computed = v.get_h1_semi_inner_prod(w)\n",
    "print(\"Computed H^1 semi-inner product = \", h1_vw_computed)\n",
    "\n",
    "h1_vw_exact = -6.311053612386\n",
    "h1_vw_error = abs(h1_vw_computed - h1_vw_exact)\n",
    "print(\"Error in H^1 semi-inner product = %.4e\" % (h1_vw_error))"
   ]
  },
  {
   "attachments": {},
   "cell_type": "markdown",
   "metadata": {},
   "source": [
    "Let's do the same for the $L^2$ inner product\n",
    "\\begin{align*}\n",
    "\t\\int_K v \\, w ~dx\n",
    "\t&\\approx -3.277578636852\n",
    "\t\\pm 1.0856\\times 10^{-13}\n",
    "\\end{align*}"
   ]
  },
  {
   "cell_type": "code",
   "execution_count": null,
   "metadata": {},
   "outputs": [],
   "source": [
    "l2_vw_computed = v.get_l2_inner_prod(w)\n",
    "print(\"Computed L^2 inner product = \", l2_vw_computed)\n",
    "\n",
    "l2_vw_exact = -3.277578636852\n",
    "l2_vw_error = abs(l2_vw_computed - l2_vw_exact)\n",
    "print(\"Error in L^2 inner product = %.4e\" % l2_vw_error)"
   ]
  },
  {
   "attachments": {},
   "cell_type": "markdown",
   "metadata": {},
   "source": [
    "## Convergence Study\n",
    "\n",
    "|\tn\t|\tH1 error\t|\tL2 error\t|\n",
    "|-------|---------------|---------------|\n",
    "|\t4\t|\t2.4336e+00\t|\t5.9408e-03\t|\n",
    "|\t8\t|\t1.0269e-02\t|\t1.3086e-02\t|\n",
    "|\t16\t|\t1.5273e-03\t|\t1.3783e-04\t|\n",
    "|\t32\t|\t5.3219e-07\t|\t8.1747e-07\t|\n",
    "|\t64\t|\t1.5430e-11\t|\t4.6189e-11\t|"
   ]
  },
  {
   "cell_type": "code",
   "execution_count": null,
   "metadata": {},
   "outputs": [],
   "source": [
    "print(\"H^1 error (vw) = %.4e\" % h1_vw_error)\n",
    "print(\"L^2 error (vw) = %.4e\" % l2_vw_error)"
   ]
  },
  {
   "attachments": {},
   "cell_type": "markdown",
   "metadata": {},
   "source": [
    "## Interior values\n",
    "The interior values are not computed by default with the `compute_all()` method.\n",
    "We need to call the `compute_interior_values()` method."
   ]
  },
  {
   "cell_type": "code",
   "execution_count": null,
   "metadata": {},
   "outputs": [],
   "source": [
    "v.compute_interior_values()"
   ]
  },
  {
   "cell_type": "markdown",
   "metadata": {},
   "source": [
    "Let's choose a color map."
   ]
  },
  {
   "cell_type": "code",
   "execution_count": null,
   "metadata": {},
   "outputs": [],
   "source": [
    "cmap_name = \"seismic\"\n",
    "cm = plt.colormaps[cmap_name]"
   ]
  },
  {
   "cell_type": "markdown",
   "metadata": {},
   "source": [
    "We can use the `LocalFunctionPlot` class to plot the local function values and \n",
    "the gradient components."
   ]
  },
  {
   "cell_type": "code",
   "execution_count": null,
   "metadata": {},
   "outputs": [],
   "source": [
    "pf.plot.LocalFunctionPlot(v).draw(colormap=cm)\n",
    "pf.plot.LocalFunctionPlot(v).draw_grad_x1(colormap=cm)\n",
    "pf.plot.LocalFunctionPlot(v).draw_grad_x2(colormap=cm)"
   ]
  },
  {
   "cell_type": "markdown",
   "metadata": {},
   "source": [
    "To compute the pointwise errors, we will need to define the exact values and compute the difference.  "
   ]
  },
  {
   "cell_type": "code",
   "execution_count": null,
   "metadata": {},
   "outputs": [],
   "source": [
    "# computed values\n",
    "v_computed = v.int_vals\n",
    "v_x1_computed = v.int_grad1\n",
    "v_x2_computed = v.int_grad2\n",
    "\n",
    "# coordinates of interior points\n",
    "y1 = K.int_x1\n",
    "y2 = K.int_x2\n",
    "\n",
    "# exact values\n",
    "v_exact = (\n",
    "    (y1 - 0.25) / ((y1 - 0.25) ** 2 + (y2 - 0.7) ** 2)\n",
    "    + (y1**3) * y2\n",
    "    + y2**2\n",
    ")\n",
    "v_x1_exact = (\n",
    "    -((y1 - 0.25) ** 2 - (y2 - 0.7) ** 2)\n",
    "    / ((y1 - 0.25) ** 2 + (y2 - 0.7) ** 2) ** 2\n",
    "    + 3 * (y1**2) * y2\n",
    ")\n",
    "v_x2_exact = (\n",
    "    -2 * (y1 - 0.25) * (y2 - 0.7) / ((y1 - 0.25) ** 2 + (y2 - 0.7) ** 2) ** 2\n",
    "    + (y1**3)\n",
    "    + 2 * y2\n",
    ")\n",
    "\n",
    "# compute errors (log scale)\n",
    "v_error = np.log10(np.abs(v_computed - v_exact))\n",
    "v_x1_error = np.log10(np.abs(v_x1_computed - v_x1_exact))\n",
    "v_x2_error = np.log10(np.abs(v_x2_computed - v_x2_exact))\n",
    "v_grad_error = (v_x1_computed - v_x1_exact) ** 2 + (\n",
    "    v_x2_computed - v_x2_exact\n",
    ") ** 2\n",
    "v_grad_error = 0.5 * np.log10(v_grad_error)"
   ]
  },
  {
   "cell_type": "markdown",
   "metadata": {},
   "source": [
    "We are ready to plot the errors using the `matplotlib` library."
   ]
  },
  {
   "cell_type": "code",
   "execution_count": null,
   "metadata": {},
   "outputs": [],
   "source": [
    "# interior value errors\n",
    "plt.figure()\n",
    "for e in K.get_edges():\n",
    "    e_x1, e_x2 = e.get_sampled_points()\n",
    "    plt.plot(e_x1, e_x2, \"k\")\n",
    "plt.contourf(y1, y2, v_error, levels=50, cmap=cm)\n",
    "plt.colorbar()\n",
    "plt.title(\"Interior errors ($\\log_{10}$)\")\n",
    "plt.axis(\"equal\")\n",
    "plt.ylim([-0.15, 1.35])\n",
    "\n",
    "# first component of gradient errors\n",
    "plt.figure()\n",
    "for e in K.get_edges():\n",
    "    e_x1, e_x2 = e.get_sampled_points()\n",
    "    plt.plot(e_x1, e_x2, \"k\")\n",
    "plt.contourf(y1, y2, v_x1_error, levels=50, cmap=cm)\n",
    "plt.colorbar()\n",
    "plt.title(\"Gradient errors in $x_1$ ($\\log_{10}$)\")\n",
    "plt.axis(\"equal\")\n",
    "plt.ylim([-0.15, 1.35])\n",
    "\n",
    "# second component of gradient errors\n",
    "plt.figure()\n",
    "for e in K.get_edges():\n",
    "    e_x1, e_x2 = e.get_sampled_points()\n",
    "    plt.plot(e_x1, e_x2, \"k\")\n",
    "plt.contourf(y1, y2, v_x2_error, levels=50, cmap=cm)\n",
    "plt.colorbar()\n",
    "plt.title(\"Gradient errors in $x_2$ ($\\log_{10}$)\")\n",
    "plt.axis(\"equal\")\n",
    "plt.ylim([-0.15, 1.35])\n",
    "\n",
    "# norm of gradient errors\n",
    "plt.figure()\n",
    "for e in K.get_edges():\n",
    "    e_x1, e_x2 = e.get_sampled_points()\n",
    "    plt.plot(e_x1, e_x2, \"k\")\n",
    "plt.contourf(y1, y2, v_grad_error, levels=50, cmap=cm)\n",
    "plt.colorbar()\n",
    "plt.title(\"Norm of gradient errors ($\\log_{10}$)\")\n",
    "plt.axis(\"equal\")\n",
    "plt.ylim([-0.15, 1.35])\n",
    "\n",
    "plt.show()"
   ]
  },
  {
   "cell_type": "markdown",
   "metadata": {},
   "source": [
    "Let's collect all of the above figures in a single figure."
   ]
  },
  {
   "cell_type": "code",
   "execution_count": null,
   "metadata": {},
   "outputs": [],
   "source": [
    "plt.figure(figsize=(16, 14), dpi=100)\n",
    "\n",
    "plt.subplot(2, 3, 1)\n",
    "for e in K.get_edges():\n",
    "    e_x1, e_x2 = e.get_sampled_points()\n",
    "    plt.plot(e_x1, e_x2, \"k\")\n",
    "plt.contourf(y1, y2, v_computed, levels=np.linspace(-7, 7, 28 + 1), cmap=cm)\n",
    "plt.colorbar(location=\"bottom\")\n",
    "plt.title(\"Interior values of $v$\")\n",
    "plt.axis(\"equal\")\n",
    "plt.ylim([-0.15, 1.35])\n",
    "\n",
    "plt.subplot(2, 3, 2)\n",
    "for e in K.get_edges():\n",
    "    e_x1, e_x2 = e.get_sampled_points()\n",
    "    plt.plot(e_x1, e_x2, \"k\")\n",
    "plt.contourf(y1, y2, v_x1_computed, levels=50, cmap=cm)\n",
    "plt.colorbar(location=\"bottom\")\n",
    "plt.title(\"First component of grad $v$\")\n",
    "plt.axis(\"equal\")\n",
    "plt.ylim([-0.15, 1.35])\n",
    "\n",
    "plt.subplot(2, 3, 3)\n",
    "for e in K.get_edges():\n",
    "    e_x1, e_x2 = e.get_sampled_points()\n",
    "    plt.plot(e_x1, e_x2, \"k\")\n",
    "plt.contourf(y1, y2, v_x2_computed, levels=50, cmap=cm)\n",
    "plt.colorbar(location=\"bottom\")\n",
    "plt.title(\"Second component of grad $v$\")\n",
    "plt.axis(\"equal\")\n",
    "plt.ylim([-0.15, 1.35])\n",
    "\n",
    "# interior value errors\n",
    "plt.subplot(2, 3, 4)\n",
    "for e in K.get_edges():\n",
    "    e_x1, e_x2 = e.get_sampled_points()\n",
    "    plt.plot(e_x1, e_x2, \"k\")\n",
    "plt.contourf(y1, y2, v_error, levels=np.linspace(-16, 1, 18), cmap=cm)\n",
    "plt.colorbar(location=\"bottom\")\n",
    "plt.title(\"Interior errors ($\\log_{10}$)\")\n",
    "plt.axis(\"equal\")\n",
    "plt.ylim([-0.15, 1.35])\n",
    "\n",
    "# first component of gradient errors\n",
    "plt.subplot(2, 3, 5)\n",
    "for e in K.get_edges():\n",
    "    e_x1, e_x2 = e.get_sampled_points()\n",
    "    plt.plot(e_x1, e_x2, \"k\")\n",
    "plt.contourf(y1, y2, v_x1_error, levels=np.linspace(-16, 1, 18), cmap=cm)\n",
    "plt.colorbar(location=\"bottom\")\n",
    "plt.title(\"Gradient errors in $x_1$ ($\\log_{10}$)\")\n",
    "plt.axis(\"equal\")\n",
    "plt.ylim([-0.15, 1.35])\n",
    "\n",
    "# second component of gradient errors\n",
    "plt.subplot(2, 3, 6)\n",
    "for e in K.get_edges():\n",
    "    e_x1, e_x2 = e.get_sampled_points()\n",
    "    plt.plot(e_x1, e_x2, \"k\")\n",
    "plt.contourf(y1, y2, v_x2_error, levels=np.linspace(-16, 1, 18), cmap=cm)\n",
    "plt.colorbar(location=\"bottom\")\n",
    "plt.title(\"Gradient errors in $x_2$ ($\\log_{10}$)\")\n",
    "plt.axis(\"equal\")\n",
    "plt.ylim([-0.15, 1.35])\n",
    "\n",
    "# save figure as PDF\n",
    "plt.savefig(f\"ghost-fig-{cmap_name}.pdf\", format=\"pdf\", bbox_inches=\"tight\")\n",
    "\n",
    "# show figure\n",
    "plt.show()"
   ]
  }
 ],
 "metadata": {
  "kernelspec": {
   "display_name": "Python 3",
   "language": "python",
   "name": "python3"
  },
  "language_info": {
   "codemirror_mode": {
    "name": "ipython",
    "version": 3
   },
   "file_extension": ".py",
   "mimetype": "text/x-python",
   "name": "python",
   "nbconvert_exporter": "python",
   "pygments_lexer": "ipython3",
   "version": "3.11.6"
  },
  "orig_nbformat": 4,
  "vscode": {
   "interpreter": {
    "hash": "916dbcbb3f70747c44a77c7bcd40155683ae19c65e1c03b4aa3499c5328201f1"
   }
  }
 },
 "nbformat": 4,
 "nbformat_minor": 2
}
