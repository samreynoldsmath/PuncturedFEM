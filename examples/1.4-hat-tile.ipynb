{
 "cells": [
  {
   "cell_type": "markdown",
   "metadata": {},
   "source": [
    "# 1.4: Hat tile\n",
    "### Sam Reynolds, 2023\n",
    "\n",
    "This example generates a basis of the local Poisson space $V_p(K)$ on a \"hat tile\" $K$.\n",
    "The hat tile has been shown to nonperiodically tile the plane:\n",
    "[D. Smith, J. S. Myers, C. S. Kaplan, and C. Goodman-Strauss. An aperiodic monotile, 2023.](https://arxiv.org/abs/2303.10798)\n",
    "\n",
    "Each element $v$ of $V_p(K)$ has a polynomial Laplacian \n",
    "$\\Delta v \\in \\mathbb{P}_{p-2}(K)$, and a piecewise polynomial trace \n",
    "$v|_{\\partial K} \\in \\mathbb{P}_{p}^*(\\partial K)$ such that the restriction \n",
    "to the boundary $v|_{\\partial K}$ is continuous and the restriction to each edge\n",
    "$v|_{e}$ is the trace of a polynomial of degree at most $p$ on $e$.\n",
    "In the lowest order case, $V_1(K)$ consists of harmonic functions with a \n",
    "piecewise linear trace."
   ]
  },
  {
   "cell_type": "markdown",
   "metadata": {},
   "source": [
    "## Imports\n",
    "As usual, we import the `puncturedfem` package. \n",
    "We will also need `numpy` and `matplotlib`."
   ]
  },
  {
   "cell_type": "code",
   "execution_count": null,
   "metadata": {},
   "outputs": [],
   "source": [
    "import puncturedfem as pf\n",
    "import numpy as np\n",
    "import matplotlib.pyplot as plt"
   ]
  },
  {
   "cell_type": "markdown",
   "metadata": {},
   "source": [
    "## Construct the mesh cell\n"
   ]
  },
  {
   "cell_type": "markdown",
   "metadata": {},
   "source": [
    "The hat tile can be constructed by joining the vertices of three regular\n",
    "hexagons, along with the centers of the hexagons and midpoints of the faces.\n",
    "We will generate all such points, including those we don't need, and then \n",
    "joining a subset of them to form the boundary of the hat tile."
   ]
  },
  {
   "cell_type": "code",
   "execution_count": null,
   "metadata": {},
   "outputs": [],
   "source": [
    "r = np.sqrt(0.5 * (1 + np.cos(np.pi / 3.0)))\n",
    "\n",
    "verts: list[pf.Vert] = []\n",
    "\n",
    "for shift, i in zip([0, 1, 1], [0, 0, 1]):\n",
    "    gamma = np.pi * (-2 * i + 1) / 6.0\n",
    "    c_x = 2 * r * shift * np.cos(gamma)\n",
    "    c_y = 2 * r * shift * np.sin(gamma)\n",
    "\n",
    "    verts.append(pf.Vert(c_x, c_y))\n",
    "\n",
    "    for j in range(6):\n",
    "        alpha = np.pi * j / 3.0\n",
    "        a_x = np.cos(alpha)\n",
    "        a_y = np.sin(alpha)\n",
    "\n",
    "        beta = np.pi * (2 * j + 1) / 6.0\n",
    "        b_x = r * np.cos(beta)\n",
    "        b_y = r * np.sin(beta)\n",
    "\n",
    "        verts.append(pf.Vert(a_x + c_x, a_y + c_y))\n",
    "        verts.append(pf.Vert(b_x + c_x, b_y + c_y))"
   ]
  },
  {
   "cell_type": "markdown",
   "metadata": {},
   "source": [
    "We have generated some redudant points, so let's remove them."
   ]
  },
  {
   "cell_type": "code",
   "execution_count": null,
   "metadata": {},
   "outputs": [],
   "source": [
    "unique_verts: list[pf.Vert] = []\n",
    "for v in verts:\n",
    "    v_is_in_unique_verts = False\n",
    "    for w in unique_verts:\n",
    "        if v == w:\n",
    "            v_is_in_unique_verts = True\n",
    "            break\n",
    "    if not v_is_in_unique_verts:\n",
    "        unique_verts.append(v)\n",
    "verts = unique_verts\n",
    "for i, v in enumerate(verts):\n",
    "    v.set_idx(i)"
   ]
  },
  {
   "cell_type": "markdown",
   "metadata": {},
   "source": [
    "Let's plot the points to make sure we have what we want. We will also include \n",
    "the indices of the points, so we know which ones to connect with edges."
   ]
  },
  {
   "cell_type": "code",
   "execution_count": null,
   "metadata": {},
   "outputs": [],
   "source": [
    "plt.figure()\n",
    "for v in verts:\n",
    "    plt.plot(v.x, v.y, \"ko\")\n",
    "    plt.text(v.x + 0.1, v.y + 0.1, f\"{v.idx}\", fontsize=12)\n",
    "plt.axis(\"equal\")\n",
    "plt.grid(\"on\")\n",
    "plt.show()"
   ]
  },
  {
   "cell_type": "markdown",
   "metadata": {},
   "source": [
    "Next, we make a list of the vertices that we want to connect with edges."
   ]
  },
  {
   "cell_type": "code",
   "execution_count": null,
   "metadata": {},
   "outputs": [],
   "source": [
    "path_idx: list[int] = [0, 8, 9, 11, 12, 23, 25, 21, 20, 13, 19, 3, 4, 0]"
   ]
  },
  {
   "cell_type": "markdown",
   "metadata": {},
   "source": [
    "We are finally prepared to join the vertices with edges. "
   ]
  },
  {
   "cell_type": "code",
   "execution_count": null,
   "metadata": {},
   "outputs": [],
   "source": [
    "path: list[pf.Vert] = []\n",
    "for idx in path_idx:\n",
    "    v = [v for v in verts if v.idx == idx][0]\n",
    "    path.append(v)\n",
    "edges = [\n",
    "    pf.Edge(anchor=path[i], endpnt=path[i + 1], pos_cell_idx=0, idx=i)\n",
    "    for i in range(len(path) - 1)\n",
    "]"
   ]
  },
  {
   "cell_type": "markdown",
   "metadata": {},
   "source": [
    "With the edges defined, let's make the mesh cell $K$."
   ]
  },
  {
   "cell_type": "code",
   "execution_count": null,
   "metadata": {},
   "outputs": [],
   "source": [
    "K = pf.MeshCell(idx=0, edges=edges)"
   ]
  },
  {
   "cell_type": "markdown",
   "metadata": {},
   "source": [
    "Let's parameterize the edges, and plot the edges to check that we have what we \n",
    "want."
   ]
  },
  {
   "cell_type": "code",
   "execution_count": null,
   "metadata": {},
   "outputs": [],
   "source": [
    "quad_dict = pf.get_quad_dict(n=32)\n",
    "K.parameterize(quad_dict)\n",
    "pf.plot.MeshPlot(K.get_edges()).draw(show_grid=True)"
   ]
  },
  {
   "cell_type": "markdown",
   "metadata": {},
   "source": [
    "## Build local Poisson space\n",
    "With the mesh cell $K$ defined, we are prepared to construct the local Poisson\n",
    "space $V_p(K)$.\n",
    "The polynomial degree $p$ is specified by the user by passing the `deg`\n",
    "keyword argument to the `LocalPoissonSpace` constructor.\n",
    "\n",
    "Depending on the degree and the edge discretization parameter `n` we chose \n",
    "above, this may take a couple of minutes."
   ]
  },
  {
   "cell_type": "code",
   "execution_count": null,
   "metadata": {},
   "outputs": [],
   "source": [
    "V = pf.LocalPoissonSpace(K, deg=2)"
   ]
  },
  {
   "cell_type": "markdown",
   "metadata": {},
   "source": [
    "It holds that the dimension of the local Poisson space is given by \n",
    "$$\n",
    "    \\dim V_p(K) = {p \\choose 2}\n",
    "    -|E(\\partial K)|\n",
    "    + \\sum_{e \\in E(\\partial K)} \\dim \\mathbb{P}_p(e)\n",
    "$$\n",
    "where $E(\\partial K)$ is the set of edges of the boundary of $K$,\n",
    "and $\\dim \\mathbb{P}_p(e)$ is the dimension of the *edge space* on $e$,\n",
    "consisting of traces of polynomials of degree at most $p$ on $e$.\n",
    "The dimension of this edge space depends on the nature of the edge $e$.\n",
    "In our case, each edge of the boundary is a line segment, so\n",
    "$$\n",
    "    \\dim \\mathbb{P}_p(e) = p + 1\n",
    "$$\n",
    "so we have\n",
    "$$\n",
    "    \\dim V_p(K) = {p \\choose 2} + p \\, \\underbrace{|E(\\partial K)|}_{=13}.\n",
    "$$\n",
    "Here is a table of the dimensions of the local Poisson spaces for the first\n",
    "few values of $p$.\n",
    "\n",
    "| $p$ | $\\dim V_p(K)$ |\n",
    "| --- | --- |\n",
    "| 1 | 13 |\n",
    "| 2 | 27 |\n",
    "| 3 | 42 |\n",
    "\n",
    "Let's verify that the dimension of the local Poisson space is what we expect."
   ]
  },
  {
   "cell_type": "code",
   "execution_count": null,
   "metadata": {},
   "outputs": [],
   "source": [
    "print(f\"polynomial degree: p = {V.deg}\")\n",
    "print(f\"number of edges: {K.num_edges}\")\n",
    "print(f\"dim(V_{V.deg}(K)) = {V.num_funs}\")"
   ]
  },
  {
   "cell_type": "markdown",
   "metadata": {},
   "source": [
    "## Plot the basis functions\n",
    "Let's plot the basis functions to see what they look like."
   ]
  },
  {
   "cell_type": "code",
   "execution_count": null,
   "metadata": {},
   "outputs": [],
   "source": [
    "for i, v in enumerate(V.get_basis()):\n",
    "    pf.plot.LocalFunctionPlot(v).draw(\n",
    "        filename=f\"out/monotile_deg{V.deg}_{v.key.fun_type}_{i}.pdf\",\n",
    "        show_plot=True,\n",
    "        fill=False,\n",
    "        show_colorbar=False,\n",
    "        show_axis=False,\n",
    "    )"
   ]
  },
  {
   "cell_type": "code",
   "execution_count": null,
   "metadata": {},
   "outputs": [],
   "source": []
  }
 ],
 "metadata": {
  "kernelspec": {
   "display_name": "PuncturedFEM",
   "language": "python",
   "name": "python3"
  },
  "language_info": {
   "codemirror_mode": {
    "name": "ipython",
    "version": 3
   },
   "file_extension": ".py",
   "mimetype": "text/x-python",
   "name": "python",
   "nbconvert_exporter": "python",
   "pygments_lexer": "ipython3",
   "version": "3.9.19"
  }
 },
 "nbformat": 4,
 "nbformat_minor": 2
}
