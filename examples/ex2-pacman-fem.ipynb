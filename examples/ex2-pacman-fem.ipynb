{
 "cells": [
  {
   "cell_type": "markdown",
   "metadata": {},
   "source": [
    "# Finite Elements on a Pac-Man Mesh\n",
    "This example demonstrates how to set up and solve a finite element problem on a\n",
    "punctured mesh. \n",
    "The model problem under consideration is a simple diffusion-reaction problem\n",
    "\\begin{align*}\n",
    "\t-\\nabla\\cdot(a \\, \\nabla u) + c \\, u &= f \\quad \\text{in } \\Omega, \\\\\n",
    "\tu &= 0 \\quad \\text{on } \\partial\\Omega,\n",
    "\\end{align*}\n",
    "where $a, c$ are constant scalars and $f$ is a polynomial.\n",
    "The associated weak form is\n",
    "\\begin{align*}\n",
    "\t\\int_\\Omega a \\, \\nabla u \\cdot \\nabla v \\, dx\n",
    "\t+ \\int_\\Omega c \\, u \\, v \\, dx\n",
    "\t&= \\int_\\Omega f \\, v \\, dx\n",
    "\t\\quad \\forall v \\in H^1_0(\\Omega).\n",
    "\\end{align*}\n",
    "In previous examples, we saw that we can evalate these integrals on each cell\n",
    "$K$ in a mesh $\\mathcal{T}$ of the domain $\\Omega$, provided that $u$ and $v$\n",
    "are elements of a *local Poisson space* $V_p(K)$.\n",
    "We define the *global Poisson space* $V_p(\\mathcal{T})$ as the space of\n",
    "continuous functions in $H^1_0(\\Omega)$ whose restriction to each cell $K$ is\n",
    "an element of $V_p(K)$.\n",
    "By constructing a basis $\\{\\phi_1, \\dots, \\phi_N\\}$ of $V_p(\\mathcal{T})$ by \n",
    "continuously \"stitching\" the local basis functions together,\n",
    "we seek a finite element solution $\\tilde{u} \\in V_p(\\mathcal{T})$ such that\n",
    "\\begin{align*}\n",
    "\t&\\tilde{u} = \\sum_{i=1}^N u_i \\, \\phi_i,\n",
    "\t\\\\\n",
    "\t&\\int_\\Omega a \\, u_i \\nabla \\phi_i \\cdot \\nabla \\phi_j \\, dx\n",
    "\t+ \\int_\\Omega c \\, u_i \\, \\phi_i \\, \\phi_j \\, dx\n",
    "\t= \\int_\\Omega f \\, \\phi_j \\, dx\n",
    "\\end{align*}"
   ]
  },
  {
   "cell_type": "code",
   "execution_count": null,
   "metadata": {},
   "outputs": [],
   "source": [
    "import sys\n",
    "import os\n",
    "\n",
    "current_dir = os.getcwd()\n",
    "parent_dir = os.path.abspath(os.path.join(current_dir, \"..\"))\n",
    "sys.path.append(parent_dir)\n",
    "\n",
    "import puncturedfem as pf"
   ]
  },
  {
   "cell_type": "markdown",
   "metadata": {},
   "source": [
    "Let's set a few parameters before we go any further. \n",
    "`deg` is the polynomial degree of global Poisson space,\n",
    "`n` is edge sampling parameter (as used in previous examples).\n",
    "\n",
    "**(!) WARNING:** \n",
    "Higher order spaces (`deg > 1`) are still under development."
   ]
  },
  {
   "cell_type": "code",
   "execution_count": null,
   "metadata": {},
   "outputs": [],
   "source": [
    "deg = 1\n",
    "n = 64"
   ]
  },
  {
   "cell_type": "markdown",
   "metadata": {},
   "source": [
    "## Mesh construction\n",
    "The mesh we will use for this example was constructed in \n",
    "[Example 0](ex0-mesh-building.ipynb).\n",
    "For convenience, the same mesh can be constructed by calling the `pacman_mesh`\n",
    "function in the `mesh.meshlib` module."
   ]
  },
  {
   "cell_type": "code",
   "execution_count": null,
   "metadata": {},
   "outputs": [],
   "source": [
    "T = pf.meshlib.pacman_subdiv()"
   ]
  },
  {
   "cell_type": "markdown",
   "metadata": {},
   "source": [
    "Let's take a look at the mesh by using the `MeshPlot` class."
   ]
  },
  {
   "cell_type": "code",
   "execution_count": null,
   "metadata": {},
   "outputs": [],
   "source": [
    "pf.plot.MeshPlot(T.edges, n).draw(show_axis=False, pad=0.0)"
   ]
  },
  {
   "cell_type": "markdown",
   "metadata": {},
   "source": [
    "## Build global function space \n",
    "The global function space $V_p(\\mathcal{T})\\subset H^1(\\Omega)$ \n",
    "is the space of continuous functions such that each function belongs to \n",
    "$V_p(K)$ when restricted to any cell $K\\in\\mathcal{T}$.\n",
    "(Note that we use `deg` to denote the polynomial degree $p$.)\n",
    "\n",
    "To proceed with the computation, we define the quadrature scheme(s) used to \n",
    "parameterize the edges of the mesh."
   ]
  },
  {
   "cell_type": "code",
   "execution_count": null,
   "metadata": {},
   "outputs": [],
   "source": [
    "quad_dict = pf.get_quad_dict(n)"
   ]
  },
  {
   "cell_type": "markdown",
   "metadata": {},
   "source": [
    "The global function space `V` is built from the mesh `T`, along with the `deg`\n",
    "parameter and the information necessary to parameterize the edges of the mesh."
   ]
  },
  {
   "cell_type": "code",
   "execution_count": null,
   "metadata": {},
   "outputs": [],
   "source": [
    "V = pf.GlobalFunctionSpace(T, deg, quad_dict)"
   ]
  },
  {
   "cell_type": "markdown",
   "metadata": {},
   "source": [
    "## Define a bilinear form\n",
    "The bilinear form \n",
    "\\begin{align*}\n",
    "\tB(u,v) = \n",
    "\t\\int_\\Omega a \\, \\nabla u \\cdot \\nabla v ~dx\n",
    "\t+ \\int_\\Omega c \\, u \\, v ~dx\n",
    "\\end{align*}\n",
    "and the right-hand side linear functional\n",
    "\\begin{align*}\n",
    "\tF(v) = \\int_\\Omega f \\, v ~dx\n",
    "\\end{align*}\n",
    "are declared as follows,\n",
    "with `diffusion_coefficient` $a = 1$, \n",
    "`reaction_coefficient` $c = 1$,\n",
    "and `rhs_poly` $f(x) = 1 \\cdot x^{(0, 0)}$."
   ]
  },
  {
   "cell_type": "code",
   "execution_count": null,
   "metadata": {},
   "outputs": [],
   "source": [
    "a = 1.0\n",
    "c = 1.0\n",
    "f = pf.Polynomial([(1.0, 0, 0)])\n",
    "\n",
    "B = pf.BilinearForm(\n",
    "    diffusion_constant=a,\n",
    "    reaction_constant=c,\n",
    "    rhs_poly=f,\n",
    ")\n",
    "\n",
    "print(B)"
   ]
  },
  {
   "cell_type": "markdown",
   "metadata": {},
   "source": [
    "## Set up the finite element solver\n",
    "A finite element solver needs two things: the global function space and the bilinear form. "
   ]
  },
  {
   "cell_type": "code",
   "execution_count": null,
   "metadata": {},
   "outputs": [],
   "source": [
    "solver = pf.Solver(V, B)"
   ]
  },
  {
   "cell_type": "markdown",
   "metadata": {},
   "source": [
    "To assemble the matrix and right-hand side vector for the global system, we \n",
    "call the `assemble()` method.\n",
    "Zero Dirichlet boundary conditions are incorporated by default.\n",
    "\n",
    "This can take a while. You may want to grab a cup of coffee."
   ]
  },
  {
   "cell_type": "code",
   "execution_count": null,
   "metadata": {},
   "outputs": [],
   "source": [
    "solver.assemble()"
   ]
  },
  {
   "cell_type": "markdown",
   "metadata": {},
   "source": [
    "The `matplotlib.pyplot` module has a handy function for inspecting the sparsity\n",
    "pattern of a matrix.  Let's take a look at the global matrix."
   ]
  },
  {
   "cell_type": "code",
   "execution_count": null,
   "metadata": {},
   "outputs": [],
   "source": [
    "import matplotlib.pyplot as plt\n",
    "\n",
    "plt.figure()\n",
    "plt.spy(solver.glob_mat)\n",
    "plt.grid(True)\n",
    "plt.show()"
   ]
  },
  {
   "cell_type": "markdown",
   "metadata": {},
   "source": [
    "## Solving the global linear system\n",
    "To solve the system we worked hard to set up, we can call the `solve()` method\n",
    "on the `Solver` object."
   ]
  },
  {
   "cell_type": "code",
   "execution_count": null,
   "metadata": {},
   "outputs": [],
   "source": [
    "solver.solve()"
   ]
  },
  {
   "cell_type": "markdown",
   "metadata": {},
   "source": [
    "## Plot solution\n",
    "We can visualize the solution by \n",
    "creating an instance of the `GlobalFunctionPlot` class.\n",
    "There are two types of plots available: \n",
    "a conventional contour plot (`fill=False`)\n",
    "or a heat map (`fill=True`).\n",
    "To view the figure in this notebook, set `show_fig = True`.\n",
    "To save it to a file, set the `filename` keyword argument in the \n",
    "`draw()` method."
   ]
  },
  {
   "cell_type": "code",
   "execution_count": null,
   "metadata": {},
   "outputs": [],
   "source": [
    "cm = plt.colormaps[\"seismic\"]\n",
    "pf.plot.GlobalFunctionPlot(solver).draw(pad=0.0, show_axis=False, colormap=cm)"
   ]
  },
  {
   "cell_type": "markdown",
   "metadata": {},
   "source": [
    "## Plot global basis functions\n",
    "Let's take a look at the global basis functions."
   ]
  },
  {
   "cell_type": "code",
   "execution_count": null,
   "metadata": {},
   "outputs": [],
   "source": [
    "import numpy as np\n",
    "\n",
    "for idx in range(V.num_funs):\n",
    "    coef = np.zeros(V.num_funs)\n",
    "    coef[idx] = 1.0\n",
    "    pf.plot.GlobalFunctionPlot(solver, coef).draw(pad=0.0, show_axis=False)"
   ]
  }
 ],
 "metadata": {
  "kernelspec": {
   "display_name": "Python 3",
   "language": "python",
   "name": "python3"
  },
  "language_info": {
   "codemirror_mode": {
    "name": "ipython",
    "version": 3
   },
   "file_extension": ".py",
   "mimetype": "text/x-python",
   "name": "python",
   "nbconvert_exporter": "python",
   "pygments_lexer": "ipython3",
   "version": "3.11.6"
  },
  "orig_nbformat": 4
 },
 "nbformat": 4,
 "nbformat_minor": 2
}
