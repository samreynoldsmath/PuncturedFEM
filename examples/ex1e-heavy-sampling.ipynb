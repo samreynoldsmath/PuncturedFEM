{
 "cells": [
  {
   "cell_type": "markdown",
   "metadata": {},
   "source": [
    "# Example 1.E: Heavy Sampling of an Intricate Edge\n",
    "### Sam Reynolds, 2024\n",
    "\n",
    "**NOTE**: This is example is a work in progress. \n",
    "\n",
    "We may sometimes have an edge that has fine details that need to be resolved by increasing the sampling parameter $n$, with the edge being sampled at $2n+1$ points, including the end points.\n",
    "\n",
    "## When Things Go Right\n",
    "\n",
    "For example, consider a unit square with one of the edges being sinusoidal."
   ]
  },
  {
   "cell_type": "code",
   "execution_count": null,
   "metadata": {},
   "outputs": [],
   "source": [
    "import sys\n",
    "import os\n",
    "\n",
    "current_dir = os.getcwd()\n",
    "parent_dir = os.path.abspath(os.path.join(current_dir, \"..\"))\n",
    "sys.path.append(parent_dir)\n",
    "\n",
    "import puncturedfem as pf\n",
    "\n",
    "# define vertices\n",
    "verts: list[pf.Vert] = []\n",
    "verts.append(pf.Vert(x=0.0, y=0.0))\n",
    "verts.append(pf.Vert(x=1.0, y=0.0))\n",
    "verts.append(pf.Vert(x=1.0, y=1.0))\n",
    "verts.append(pf.Vert(x=0.0, y=1.0))\n",
    "\n",
    "# define edges\n",
    "edges: list[pf.Edge] = []\n",
    "edges.append(\n",
    "    pf.Edge(\n",
    "        verts[0],\n",
    "        verts[1],\n",
    "        pos_cell_idx=0,\n",
    "        curve_type=\"sine_wave\",\n",
    "        amp=0.1,\n",
    "        freq=4,\n",
    "    )\n",
    ")\n",
    "edges.append(pf.Edge(verts[1], verts[2], pos_cell_idx=0))\n",
    "edges.append(pf.Edge(verts[2], verts[3], pos_cell_idx=0))\n",
    "edges.append(pf.Edge(verts[3], verts[0], pos_cell_idx=0))\n",
    "\n",
    "# define mesh cell\n",
    "K_simple = pf.MeshCell(idx=0, edges=edges)\n",
    "\n",
    "# parameterize edges\n",
    "K_simple.parameterize(quad_dict=pf.get_quad_dict(n=64))\n",
    "\n",
    "# set up Nystrom solver\n",
    "nyst = pf.NystromSolver(K_simple, debug=True)\n",
    "\n",
    "# plot boundary\n",
    "pf.plot.MeshPlot(K_simple.get_edges()).draw()"
   ]
  },
  {
   "cell_type": "markdown",
   "metadata": {},
   "source": [
    "It is simple to verify that $v\\in V_1(K)$ given by $v(x_1,x_2) = x_2$ has a square $L^2$ norm of\n",
    "\\begin{align*}\n",
    "    \\int_K v^2 ~dx = \\frac13~.\n",
    "\\end{align*}\n",
    "Let's verify this:"
   ]
  },
  {
   "cell_type": "code",
   "execution_count": null,
   "metadata": {},
   "outputs": [],
   "source": [
    "# define v to have a Dirichlet trace of x_2 on each edge\n",
    "x2 = pf.Polynomial([(1.0, 0, 1)])\n",
    "v_trace = pf.PiecewisePolynomial(num_polys=4, polys=[x2, x2, x2, x2])\n",
    "\n",
    "# the local function v = x_2 is harmonic\n",
    "v = pf.LocalFunction(nyst=nyst, lap_poly=pf.Polynomial(), poly_trace=v_trace)\n",
    "v.compute_all()\n",
    "\n",
    "# compute area and error\n",
    "L2_exact = 1 / 3\n",
    "L2_computed = v.get_l2_inner_prod(v)\n",
    "print(f\"Error = {abs(L2_exact - L2_computed):.4e}\")"
   ]
  },
  {
   "cell_type": "markdown",
   "metadata": {},
   "source": [
    "## When Things Go Wrong\n",
    "\n",
    "Let's make this example more interesting by increasing the frequency of the sinusoid on the bottom of the square."
   ]
  },
  {
   "cell_type": "code",
   "execution_count": null,
   "metadata": {},
   "outputs": [],
   "source": [
    "# crazy edge\n",
    "edges[0] = pf.Edge(\n",
    "    verts[0],\n",
    "    verts[1],\n",
    "    pos_cell_idx=0,\n",
    "    curve_type=\"sine_wave\",\n",
    "    amp=0.1,\n",
    "    freq=64,  # increase frequency\n",
    ")\n",
    "\n",
    "# define and parameterize a new mesh cell\n",
    "K = pf.MeshCell(idx=0, edges=edges)\n",
    "K.parameterize(quad_dict=pf.get_quad_dict(n=64))\n",
    "\n",
    "# and look at it\n",
    "pf.plot.MeshPlot(K.get_edges()).draw()"
   ]
  },
  {
   "cell_type": "markdown",
   "metadata": {},
   "source": [
    "That doesn't look right... \n",
    "We can change the sampling parameter $n$ when initializing a `MeshPlot` instance to get more resolution. We also need to set the `reparameterize` flag to `True`."
   ]
  },
  {
   "cell_type": "code",
   "execution_count": null,
   "metadata": {},
   "outputs": [],
   "source": [
    "pf.plot.MeshPlot(K.get_edges(), reparameterize=True, n=512).draw()"
   ]
  },
  {
   "cell_type": "markdown",
   "metadata": {},
   "source": [
    "That looks pretty good, but note that `MeshPlot` didn't overwrite the sampled points we got above with `n=64`:"
   ]
  },
  {
   "cell_type": "code",
   "execution_count": null,
   "metadata": {},
   "outputs": [],
   "source": [
    "print(f\"n = {K.num_pts // K.num_edges // 2}\")"
   ]
  },
  {
   "cell_type": "markdown",
   "metadata": {},
   "source": [
    "Since this is not a high enough sampling rate to capture the high frequency of the bottom edge, we might expect our computation of the area to not be very accurate.\n",
    "Let's confirm this suspicion:"
   ]
  },
  {
   "cell_type": "code",
   "execution_count": null,
   "metadata": {},
   "outputs": [],
   "source": [
    "# set up Nystrom solver\n",
    "nyst = pf.NystromSolver(K, debug=True)\n",
    "\n",
    "# the harmonic function v = x_2\n",
    "v = pf.LocalFunction(nyst=nyst, lap_poly=pf.Polynomial(), poly_trace=v_trace)\n",
    "v.compute_all()\n",
    "\n",
    "# compute square L^2 norm and error\n",
    "L2_exact = 1 / 3\n",
    "L2_computed = v.get_l2_inner_prod(v)\n",
    "print(f\"Error = {abs(L2_exact - L2_computed):.4e}\")"
   ]
  },
  {
   "cell_type": "code",
   "execution_count": null,
   "metadata": {},
   "outputs": [],
   "source": [
    "# DEBUG\n",
    "\n",
    "import numpy as np\n",
    "import matplotlib.pyplot as plt\n",
    "\n",
    "A = nyst._get_operator_matrix(nyst.A_simple)\n",
    "\n",
    "B = np.log10(np.abs(A))\n",
    "B[B < -1.5] = np.nan\n",
    "plt.figure()\n",
    "plt.imshow(B)\n",
    "plt.colorbar()\n",
    "plt.xlabel(\"y\")\n",
    "plt.ylabel(\"x\")\n",
    "plt.show()\n",
    "\n",
    "C = np.log10(np.transpose(A) @ A)\n",
    "C[C < 0] = np.nan\n",
    "# C = C[:128, :128]\n",
    "plt.figure()\n",
    "plt.imshow(C)\n",
    "plt.colorbar()\n",
    "plt.xlabel(\"y\")\n",
    "plt.ylabel(\"x\")\n",
    "plt.show()"
   ]
  },
  {
   "cell_type": "code",
   "execution_count": null,
   "metadata": {},
   "outputs": [],
   "source": [
    "plt.figure()\n",
    "curvature = np.zeros((K.num_pts,))\n",
    "start = 0\n",
    "for e in K.get_edges():\n",
    "    curvature[start : start + e.num_pts - 1] = e.curvature[:-1]\n",
    "    start += e.num_pts - 1\n",
    "plt.plot(curvature)\n",
    "plt.show()"
   ]
  },
  {
   "cell_type": "code",
   "execution_count": null,
   "metadata": {},
   "outputs": [],
   "source": [
    "plt.figure()\n",
    "plt.plot(np.log10(np.abs(curvature)))\n",
    "plt.show()"
   ]
  },
  {
   "cell_type": "markdown",
   "metadata": {},
   "source": [
    "One might expect that if we increase the sampling parameter, this error will get smaller. \n",
    "However, we soon discover that this crashes the `NystromSolver` initialization."
   ]
  },
  {
   "cell_type": "code",
   "execution_count": null,
   "metadata": {},
   "outputs": [],
   "source": [
    "# get 1024 sampled points on each edge\n",
    "K.parameterize(quad_dict=pf.get_quad_dict(n=512))\n",
    "\n",
    "# (WARNING!) this line will result in an exception being thrown\n",
    "nyst = pf.NystromSolver(K, debug=True)"
   ]
  },
  {
   "cell_type": "markdown",
   "metadata": {},
   "source": [
    "## Changing the Kress parameter (optional)\n",
    "As we saw in [Example 0](ex0-mesh-building.ipynb), we can change the Kress parameter $p$ to adjust how much the sampled points are \"clustered\" near the endpoints. \n",
    "The default value is $p=7$, but changing this to its lowest value $p=2$ results in sampled points that are more spread out, perhaps enough so that we can avoid division by machine zero. Let's try it (this may take a while):"
   ]
  },
  {
   "cell_type": "code",
   "execution_count": null,
   "metadata": {},
   "outputs": [],
   "source": [
    "# get 1024 sampled points on each edge with lower Kress parameter\n",
    "K.parameterize(quad_dict=pf.get_quad_dict(n=512, p=2))\n",
    "nyst = pf.NystromSolver(K, debug=True)"
   ]
  },
  {
   "cell_type": "markdown",
   "metadata": {},
   "source": [
    "The `NystromSolver` initialized without errors, so let's try to compute our quantity of interest.\n",
    "\n",
    "**NOTE:** The condition number of the Nystöm matrix is very high and GMRES will not converge quickly, if at all."
   ]
  },
  {
   "cell_type": "code",
   "execution_count": null,
   "metadata": {},
   "outputs": [],
   "source": [
    "# the harmonic function v = x_2\n",
    "v = pf.LocalFunction(nyst=nyst, lap_poly=pf.Polynomial(), poly_trace=v_trace)\n",
    "\n",
    "# (WARNING!) this line will take a long time to run\n",
    "v.compute_all()\n",
    "\n",
    "# compute square L^2 norm and error\n",
    "L2_exact = 1 / 3\n",
    "L2_computed = v.get_l2_inner_prod(v)\n",
    "print(f\"Error = {abs(L2_exact - L2_computed)}\")"
   ]
  },
  {
   "cell_type": "markdown",
   "metadata": {},
   "source": [
    "## Splitting Edges\n",
    "\n",
    "As we saw in [Example 0](ex0-mesh-building.ipynb), we can split edges in two using the `split_edge()` function. Let's try splitting the 'bad' edge into smaller edges."
   ]
  },
  {
   "cell_type": "code",
   "execution_count": null,
   "metadata": {},
   "outputs": [],
   "source": [
    "from numpy import pi as PI\n",
    "\n",
    "# split edge 0 in half\n",
    "e1, e2 = pf.split_edge(e=edges[0], t_split=PI)\n",
    "\n",
    "# split into quarters\n",
    "e1_1, e1_2 = pf.split_edge(e1, t_split=PI / 2)\n",
    "e2_1, e2_2 = pf.split_edge(e2, t_split=3 * PI / 2)\n",
    "\n",
    "# split into eighths\n",
    "e1_1_1, e1_1_2 = pf.split_edge(e1_1, t_split=PI / 4)\n",
    "e1_2_1, e1_2_2 = pf.split_edge(e1_2, t_split=3 * PI / 4)\n",
    "e2_1_1, e2_1_2 = pf.split_edge(e2_1, t_split=5 * PI / 4)\n",
    "e2_2_1, e2_2_2 = pf.split_edge(e2_2, t_split=7 * PI / 4)\n",
    "\n",
    "# replace edge 0 with eight new edges\n",
    "edges += [e1_1_1, e1_1_2, e1_2_1, e1_2_2, e2_1_1, e2_1_2, e2_2_1, e2_2_2]\n",
    "del edges[0]\n",
    "\n",
    "# define mesh cell\n",
    "K = pf.MeshCell(idx=0, edges=edges)"
   ]
  },
  {
   "cell_type": "markdown",
   "metadata": {},
   "source": [
    "In the previous section, we tried sampling each edge with $2n = 1024$ points. Notice, though, that only the bottom edge is problematic, and we might get away with sampling the straight edges at a lower rate. To keep the number of sampled points on the bottom edge the same, which has now been split into 8 edges, we need to set the sampling parameter to $n=64=512/8$."
   ]
  },
  {
   "cell_type": "code",
   "execution_count": null,
   "metadata": {},
   "outputs": [],
   "source": [
    "# bottom edge sampled at 1024 points\n",
    "K.parameterize(quad_dict=pf.get_quad_dict(n=64))\n",
    "\n",
    "# set up Nystrom solver\n",
    "nyst = pf.NystromSolver(K, debug=True)"
   ]
  },
  {
   "cell_type": "markdown",
   "metadata": {},
   "source": [
    "The `NystromSolver` didn't crash this time. \n",
    "Let's see if we can accurately compute our quantity of interest:"
   ]
  },
  {
   "cell_type": "code",
   "execution_count": null,
   "metadata": {},
   "outputs": [],
   "source": [
    "# Dirichlet trace of the harmonic function v = x_2\n",
    "x2 = pf.Polynomial([(1.0, 0, 1)])\n",
    "v_trace = pf.PiecewisePolynomial(\n",
    "    num_polys=K.num_edges, polys=K.num_edges * [x2]\n",
    ")\n",
    "\n",
    "# the harmonic function v = x_2\n",
    "v = pf.LocalFunction(nyst=nyst, lap_poly=pf.Polynomial(), poly_trace=v_trace)\n",
    "v.compute_all()\n",
    "\n",
    "# compute square L^2 norm and error\n",
    "L2_exact = 1 / 3\n",
    "L2_computed = v.get_l2_inner_prod(v)\n",
    "print(f\"Error = {abs(L2_exact - L2_computed)}\")"
   ]
  },
  {
   "cell_type": "markdown",
   "metadata": {},
   "source": [
    "This gave us a much better error than changing the Kress parameter, and the computation was much faster."
   ]
  },
  {
   "cell_type": "markdown",
   "metadata": {},
   "source": [
    "## Using the `DirchletTrace` Class on `MeshCells` with Split Edges\n",
    "*Note:* The technique used in this section is likely to be automated in future releases.\n",
    "\n",
    "Consider the harmonic function $v \\in V_1(K)$ with a linear trace \n",
    "\\begin{align*}\n",
    "    v|_{\\partial K}(x,y) = y\n",
    "\\end{align*}\n",
    "on the bottom edge of the square, and zero on the other three edges.\n",
    "We will use the `DirichletTrace` class to define the corresponding `LocalFunction` object.\n",
    "\n",
    "The `DirichletTrace` class is initialized with a list of `Edge` objects, or, alternatively, a `MeshCell` object, on which the trace is to be defined.\n",
    "We have several ways to set the trace values. \n",
    "- We can define a function $f : \\mathbb{R}^2 \\to \\mathbb{R}$ and pass this function to the `set_funcs()` method. **Note:** The function $f$ must be typed, e.g. `def f(x: float, y: float) -> float: return x*y`. Untyped functions will throw an exception. The types can be `float`, `int`, or `numpy.ndarray`.\n",
    "- We can set the trace function on a specific edge with the `set_funcs_on_edge()` method, which accepts the index of the edge (i.e. its position in the list of edges) and a function $f$ as above.\n",
    "- We can set the trace values directly with the `set_values()` method, which accepts a `numpy.ndarray` of shape `(N,1)`, where `N` is the number of points on the edge.  We can set the trace to a constant by passing a `float` or `int` instead of an array.\n",
    "- We can set the trace values on a single edge with the `set_values_on_edge()` method, which accepts a `numpy.ndarray` of shape `(2n,1)`, where `2n` is the number of points on the edge, excluding the terminal point. Again, we can set the trace to a constant by passing a `float` or `int` instead of an array.\n",
    "\n",
    "Below, we use the `set_funcs()` method to define the same trace function on all the edges."
   ]
  },
  {
   "cell_type": "code",
   "execution_count": null,
   "metadata": {},
   "outputs": [],
   "source": [
    "v_trace = pf.DirichletTrace(K, custom=True)\n",
    "\n",
    "\n",
    "def f(x: float, y: float) -> float:\n",
    "    return y\n",
    "\n",
    "\n",
    "v_trace.set_funcs(f)\n",
    "v_trace.find_values()"
   ]
  },
  {
   "cell_type": "markdown",
   "metadata": {},
   "source": [
    "We can set the trace values on the three straight edges (which have indices 0, 1,  and 2) to zero by using the `set_values_on_edge()` method."
   ]
  },
  {
   "cell_type": "code",
   "execution_count": null,
   "metadata": {},
   "outputs": [],
   "source": [
    "for k in [0, 1, 2]:\n",
    "    v_trace.set_trace_values_on_edge(k, 0)"
   ]
  },
  {
   "cell_type": "markdown",
   "metadata": {},
   "source": [
    "Let's take a look at a plot of the trace values:"
   ]
  },
  {
   "cell_type": "code",
   "execution_count": null,
   "metadata": {},
   "outputs": [],
   "source": [
    "pf.plot.TracePlot(v_trace.values, K, quad_dict=pf.get_quad_dict(n=64)).draw()"
   ]
  },
  {
   "cell_type": "markdown",
   "metadata": {},
   "source": [
    "Let's define the `LocalFunction` object and compute the harmonic conjugate, normal derivative, etc."
   ]
  },
  {
   "cell_type": "code",
   "execution_count": null,
   "metadata": {},
   "outputs": [],
   "source": [
    "v = pf.LocalFunction(nyst=nyst, lap_poly=pf.Polynomial(), has_poly_trace=False)\n",
    "v.set_trace_values(v_trace.values)\n",
    "v.compute_all()"
   ]
  },
  {
   "cell_type": "markdown",
   "metadata": {},
   "source": [
    "The `compute_all()` method does not compute interior values, so let's do that now and take a look at the plot:"
   ]
  },
  {
   "cell_type": "code",
   "execution_count": null,
   "metadata": {},
   "outputs": [],
   "source": [
    "v.compute_interior_values()\n",
    "pf.plot.LocalFunctionPlot(v).draw()"
   ]
  },
  {
   "cell_type": "markdown",
   "metadata": {},
   "source": [
    "## TODO: Creating a LocalFunctionSpace on a MeshCell with a Split Edge\n",
    "This is a [planned feature](../doc/TODO.md)."
   ]
  }
 ],
 "metadata": {
  "kernelspec": {
   "display_name": "PuncturedFEM",
   "language": "python",
   "name": "python3"
  },
  "language_info": {
   "codemirror_mode": {
    "name": "ipython",
    "version": 3
   },
   "file_extension": ".py",
   "mimetype": "text/x-python",
   "name": "python",
   "nbconvert_exporter": "python",
   "pygments_lexer": "ipython3",
   "version": "3.11.6"
  }
 },
 "nbformat": 4,
 "nbformat_minor": 2
}
