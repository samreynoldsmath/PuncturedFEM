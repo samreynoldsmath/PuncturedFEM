{
 "cells": [
  {
   "cell_type": "markdown",
   "metadata": {},
   "source": [
    "# Example 1.E: Heavy Sampling of an Intricate Edge\n",
    "\n",
    "We may sometimes have an edge that has fine details that need to be resolved by increasing the sampling parameter $n$, with the edge being sampled at $2n+1$ points, including the end points.\n",
    "\n",
    "## When Things Go Right\n",
    "\n",
    "For example, consider a unit square with one of the edges being sinusoidal."
   ]
  },
  {
   "cell_type": "code",
   "execution_count": null,
   "metadata": {},
   "outputs": [],
   "source": [
    "import sys\n",
    "import os\n",
    "\n",
    "current_dir = os.getcwd()\n",
    "parent_dir = os.path.abspath(os.path.join(current_dir, \"..\"))\n",
    "sys.path.append(parent_dir)\n",
    "\n",
    "import puncturedfem as pf\n",
    "import numpy as np\n",
    "import matplotlib.pyplot as plt\n",
    "\n",
    "# define vertices\n",
    "verts: list[pf.Vert] = []\n",
    "verts.append(pf.Vert(x=0.0, y=0.0))\n",
    "verts.append(pf.Vert(x=1.0, y=0.0))\n",
    "verts.append(pf.Vert(x=1.0, y=1.0))\n",
    "verts.append(pf.Vert(x=0.0, y=1.0))\n",
    "\n",
    "# define edges\n",
    "edges: list[pf.Edge] = []\n",
    "edges.append(\n",
    "    pf.Edge(\n",
    "        verts[0],\n",
    "        verts[1],\n",
    "        pos_cell_idx=0,\n",
    "        curve_type=\"sine_wave\",\n",
    "        amp=0.1,\n",
    "        freq=8,\n",
    "    )\n",
    ")\n",
    "edges.append(pf.Edge(verts[1], verts[2], pos_cell_idx=0))\n",
    "edges.append(pf.Edge(verts[2], verts[3], pos_cell_idx=0))\n",
    "edges.append(pf.Edge(verts[3], verts[0], pos_cell_idx=0))\n",
    "\n",
    "# define mesh cell\n",
    "K_simple = pf.MeshCell(idx=0, edges=edges)\n",
    "\n",
    "# parameterize edges\n",
    "K_simple.parameterize(quad_dict=pf.get_quad_dict(n=64))\n",
    "\n",
    "# set up Nystrom solver\n",
    "nyst = pf.NystromSolver(K_simple)\n",
    "\n",
    "# plot boundary\n",
    "pf.plot.MeshPlot(K_simple.get_edges()).draw()"
   ]
  },
  {
   "cell_type": "markdown",
   "metadata": {},
   "source": [
    "Notice that the area of the mesh cell $K$ is $|K|=1$.\n",
    "We could compute this by integrating the constant function $v=1$:\n",
    "\\begin{align*}\n",
    "    1 = \\int_K v^2~dx~.\n",
    "\\end{align*}"
   ]
  },
  {
   "cell_type": "code",
   "execution_count": null,
   "metadata": {},
   "outputs": [],
   "source": [
    "# define v to have a Dirichlet trace of 1 on each edge\n",
    "one = pf.Polynomial([(1.0, 0, 0)])\n",
    "v_trace = pf.PiecewisePolynomial(num_polys=4, polys=[one, one, one, one])\n",
    "\n",
    "# the constant function v = 1 is harmonic\n",
    "v = pf.LocalFunction(nyst=nyst, lap_poly=pf.Polynomial(), poly_trace=v_trace)\n",
    "v.compute_all()\n",
    "\n",
    "# compute area and error\n",
    "area_exact = 1.0\n",
    "area_computed = v.get_l2_inner_prod(v)\n",
    "print(f\"Error in computed area = {np.abs(area_exact - area_computed)}\")"
   ]
  },
  {
   "cell_type": "markdown",
   "metadata": {},
   "source": [
    "## When Things Go Wrong\n",
    "\n",
    "Let's make this example more interesting by increasing the frequency of the sinusoid on the bottom of the square."
   ]
  },
  {
   "cell_type": "code",
   "execution_count": null,
   "metadata": {},
   "outputs": [],
   "source": [
    "# crazy edge\n",
    "edges[0] = pf.Edge(\n",
    "    verts[0],\n",
    "    verts[1],\n",
    "    pos_cell_idx=0,\n",
    "    curve_type=\"sine_wave\",\n",
    "    amp=0.1,\n",
    "    freq=128,  # this is scary\n",
    ")\n",
    "\n",
    "# define and parameterize a new mesh cell\n",
    "K = pf.MeshCell(idx=0, edges=edges)\n",
    "K.parameterize(quad_dict=pf.get_quad_dict(n=64))\n",
    "\n",
    "# and look at it\n",
    "pf.plot.MeshPlot(K.get_edges()).draw()"
   ]
  },
  {
   "cell_type": "markdown",
   "metadata": {},
   "source": [
    "That doesn't look right... \n",
    "We can change the sampling parameter $n$ when initializing a `MeshPlot` instance to get more resolution. We also need to set the `reparameterize` flag to `True`."
   ]
  },
  {
   "cell_type": "code",
   "execution_count": null,
   "metadata": {},
   "outputs": [],
   "source": [
    "pf.plot.MeshPlot(K.get_edges(), reparameterize=True, n=512).draw()"
   ]
  },
  {
   "cell_type": "markdown",
   "metadata": {},
   "source": [
    "That looks pretty good, but note that `MeshPlot` didn't overwrite the sampled points we got above with `n=64`:"
   ]
  },
  {
   "cell_type": "code",
   "execution_count": null,
   "metadata": {},
   "outputs": [],
   "source": [
    "print(f\"n = {K.num_pts // K.num_edges // 2}\")"
   ]
  },
  {
   "cell_type": "markdown",
   "metadata": {},
   "source": [
    "Since this is not a high enough sampling rate to capture the high frequency of the bottom edge, we might expect our computation of the area to not be very accurate.\n",
    "Let's confirm this suspicion:"
   ]
  },
  {
   "cell_type": "code",
   "execution_count": null,
   "metadata": {},
   "outputs": [],
   "source": [
    "# set up Nystrom solver\n",
    "nyst = pf.NystromSolver(K, verbose=True)\n",
    "\n",
    "# the constant function v = 1\n",
    "v = pf.LocalFunction(nyst=nyst, lap_poly=pf.Polynomial(), poly_trace=v_trace)\n",
    "v.compute_all()\n",
    "\n",
    "# compute area and error\n",
    "area_exact = 1.0\n",
    "area_computed = v.get_l2_inner_prod(v)\n",
    "print(f\"Error in computed area = {np.abs(area_exact - area_computed)}\")"
   ]
  },
  {
   "cell_type": "markdown",
   "metadata": {},
   "source": [
    "One might expect that if we increase the sampling parameter, this error will get smaller. \n",
    "However, we soon discover that this crashes the `NystromSolver` initialization."
   ]
  },
  {
   "cell_type": "code",
   "execution_count": null,
   "metadata": {},
   "outputs": [],
   "source": [
    "# get 1024 sampled points on each edge\n",
    "K.parameterize(quad_dict=pf.get_quad_dict(n=512))\n",
    "\n",
    "# (WARNING!) this line will result in an exception being thrown\n",
    "nyst = pf.NystromSolver(K, verbose=True)"
   ]
  },
  {
   "cell_type": "markdown",
   "metadata": {},
   "source": [
    "## Changing the Kress parameter\n",
    "As we saw in [Example 0](ex0-mesh-building.ipynb), we can change the Kress parameter $p$ to adjust how much the sampled points are \"clustered\" near the endpoints. \n",
    "The default value is $p=7$, but changing this to its lowest value $p=2$ results in sampled points that are more spread out, perhaps enough so that we can avoid division by machine zero. Let's try it (this may take a while):"
   ]
  },
  {
   "cell_type": "code",
   "execution_count": null,
   "metadata": {},
   "outputs": [],
   "source": [
    "# get 1024 sampled points on each edge with lower Kress parameter\n",
    "K.parameterize(quad_dict=pf.get_quad_dict(n=512, p=2))\n",
    "nyst = pf.NystromSolver(K, verbose=True)"
   ]
  },
  {
   "cell_type": "markdown",
   "metadata": {},
   "source": [
    "The `NystromSolver` initialized without errors, so let's try to compute our quantity of interest:"
   ]
  },
  {
   "cell_type": "code",
   "execution_count": null,
   "metadata": {},
   "outputs": [],
   "source": [
    "# the constant function v = 1\n",
    "v = pf.LocalFunction(nyst=nyst, lap_poly=pf.Polynomial(), poly_trace=v_trace)\n",
    "v.compute_all()\n",
    "\n",
    "# compute area and error\n",
    "area_exact = 1.0\n",
    "area_computed = v.get_l2_inner_prod(v)\n",
    "print(f\"Error in computed area = {np.abs(area_exact - area_computed)}\")"
   ]
  },
  {
   "cell_type": "markdown",
   "metadata": {},
   "source": [
    "This worked well enough, but $10^{-6}$ is kind of a big error for the amount of work we had to do. Let's see if we can do better with a different strategy."
   ]
  },
  {
   "cell_type": "markdown",
   "metadata": {},
   "source": [
    "## Splitting Edges\n",
    "\n",
    "As we saw in [Example 0](ex0-mesh-building.ipynb), we can split edges in two using the `split_edge()` function. Let's try splitting the 'bad' edge into smaller edges."
   ]
  },
  {
   "cell_type": "code",
   "execution_count": null,
   "metadata": {},
   "outputs": [],
   "source": [
    "# split edge 0 in half\n",
    "e1, e2 = pf.split_edge(e=edges[0], t_split=np.pi)\n",
    "# split into quarters\n",
    "e1_a, e1_b = pf.split_edge(e1, t_split=np.pi / 2)\n",
    "e2_a, e2_b = pf.split_edge(e2, t_split=3 * np.pi / 2)\n",
    "\n",
    "# replace edge 0 with quarter edges\n",
    "edges += [e1_a, e1_b, e2_a, e2_b]\n",
    "del edges[0]\n",
    "\n",
    "# define mesh cell\n",
    "K = pf.MeshCell(idx=0, edges=edges)\n",
    "\n",
    "# bottom edge sampled at 1024 points\n",
    "K.parameterize(quad_dict=pf.get_quad_dict(n=128))\n",
    "\n",
    "# set up Nystrom solver\n",
    "nyst = pf.NystromSolver(K, verbose=True)"
   ]
  },
  {
   "cell_type": "markdown",
   "metadata": {},
   "source": [
    "The `NystromSolver` didn't crash this time. \n",
    "Let's see if we can accurately compute the area:"
   ]
  },
  {
   "cell_type": "code",
   "execution_count": null,
   "metadata": {},
   "outputs": [],
   "source": [
    "# Dirichlet trace of constant function v = 1\n",
    "v_trace = pf.PiecewisePolynomial(\n",
    "    num_polys=K.num_edges, polys=K.num_edges * [one]\n",
    ")\n",
    "\n",
    "# constant function v = 1\n",
    "v = pf.LocalFunction(nyst=nyst, lap_poly=pf.Polynomial(), poly_trace=v_trace)\n",
    "v.compute_all()\n",
    "\n",
    "# compute area and error\n",
    "area_exact = 1.0\n",
    "area_computed = v.get_l2_inner_prod(v)\n",
    "print(f\"Error in computed area = {np.abs(area_exact-area_computed)}\")"
   ]
  },
  {
   "cell_type": "markdown",
   "metadata": {},
   "source": [
    "This gave us a much better error than changing the Kress parameter, and the computation was much faster."
   ]
  }
 ],
 "metadata": {
  "kernelspec": {
   "display_name": "PuncturedFEM",
   "language": "python",
   "name": "python3"
  },
  "language_info": {
   "codemirror_mode": {
    "name": "ipython",
    "version": 3
   },
   "file_extension": ".py",
   "mimetype": "text/x-python",
   "name": "python",
   "nbconvert_exporter": "python",
   "pygments_lexer": "ipython3",
   "version": "3.11.6"
  }
 },
 "nbformat": 4,
 "nbformat_minor": 2
}
