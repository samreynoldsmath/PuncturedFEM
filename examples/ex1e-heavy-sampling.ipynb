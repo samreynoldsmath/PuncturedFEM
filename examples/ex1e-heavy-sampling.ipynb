{
 "cells": [
  {
   "attachments": {},
   "cell_type": "markdown",
   "metadata": {},
   "source": [
    "# Example 1.E: Heavy Sampling of Edges\n",
    "### Sam Reynolds, 2024\n",
    "\n",
    "This example revisits the computations in [Example 1.A](ex1a-square-hole.ipynb), but this time we are interested in changing the number of sampled points on each edge of the mesh cell. In particular, we will demonstrate that heavy sampling is computationally feasible when combined with trigonometric interpolation.\n",
    "\n",
    "As usual, we begin with importing the necessary packages."
   ]
  },
  {
   "cell_type": "code",
   "execution_count": 85,
   "metadata": {},
   "outputs": [],
   "source": [
    "import sys\n",
    "import os\n",
    "\n",
    "current_dir = os.getcwd()\n",
    "parent_dir = os.path.abspath(os.path.join(current_dir, \"..\"))\n",
    "sys.path.append(parent_dir)\n",
    "\n",
    "import puncturedfem as pf\n",
    "import numpy as np\n",
    "from time import time"
   ]
  },
  {
   "cell_type": "markdown",
   "metadata": {},
   "source": [
    "## Using Interpolation to Boost Performance\n",
    "\n",
    "The most important change we will make is in the following line. \n",
    "The `interp` parameter of the `get_quad_dict()` function will define two parallel quadrature schemes:\n",
    "1. the standard one that samples $2n+1$ points per edge, and\n",
    "2. a \"reduced\" version that samples $2m+1$ points per edge, with $m = n / k$, where $k=$`interp`. Obviously, **we need $k$ to be a divisor of $n$**. Furthermore, we require that $m \\geq 4$. "
   ]
  },
  {
   "cell_type": "code",
   "execution_count": 86,
   "metadata": {},
   "outputs": [],
   "source": [
    "# define quadrature schemes\n",
    "interp = 8\n",
    "quad_dict = pf.get_quad_dict(n=4*interp, interp=interp)"
   ]
  },
  {
   "cell_type": "markdown",
   "metadata": {},
   "source": [
    "## Set Up the Problem\n",
    "\n",
    "### Define a Mesh Cell\n",
    "\n",
    "We then proceed as usual; next we define the mesh cell $K$."
   ]
  },
  {
   "cell_type": "code",
   "execution_count": 87,
   "metadata": {},
   "outputs": [],
   "source": [
    "# define vertices\n",
    "verts: list[pf.Vert] = []\n",
    "verts.append(pf.Vert(x=0.0, y=0.0))\n",
    "verts.append(pf.Vert(x=1.0, y=0.0))\n",
    "verts.append(pf.Vert(x=1.0, y=1.0))\n",
    "verts.append(pf.Vert(x=0.0, y=1.0))\n",
    "verts.append(pf.Vert(x=0.5, y=0.5))  # center of circle\n",
    "\n",
    "# define edges\n",
    "edges: list[pf.Edge] = []\n",
    "edges.append(pf.Edge(verts[0], verts[1], pos_cell_idx=0))\n",
    "edges.append(pf.Edge(verts[1], verts[2], pos_cell_idx=0))\n",
    "edges.append(pf.Edge(verts[2], verts[3], pos_cell_idx=0))\n",
    "edges.append(pf.Edge(verts[3], verts[0], pos_cell_idx=0))\n",
    "edges.append(\n",
    "    pf.Edge(\n",
    "        verts[4],\n",
    "        verts[4],\n",
    "        neg_cell_idx=0,\n",
    "        curve_type=\"circle\",\n",
    "        quad_type=\"trap\",\n",
    "        radius=0.25,\n",
    "    )\n",
    ")\n",
    "\n",
    "# define mesh cell\n",
    "K = pf.MeshCell(idx=0, edges=edges)\n",
    "\n",
    "# parameterize edges\n",
    "K.parameterize(quad_dict)"
   ]
  },
  {
   "cell_type": "markdown",
   "metadata": {},
   "source": [
    "### Define the Nyström solver\n",
    "\n",
    "The Nyström solver will use the reduced-sampled version of $K$ to set up the linear systems for obtaining the harmonic conjugate and anti-Laplacian. "
   ]
  },
  {
   "cell_type": "code",
   "execution_count": 88,
   "metadata": {},
   "outputs": [],
   "source": [
    "nyst = pf.NystromSolver(K)"
   ]
  },
  {
   "attachments": {},
   "cell_type": "markdown",
   "metadata": {},
   "source": [
    "### Define Local Functions\n",
    "\n",
    "As in [Example 1.A](ex1a-square-hole.ipynb), we define the local function $v$ as\n",
    "\\begin{align*}\n",
    "\tv(x) = e^{x_1} \\, \\cos x_2 + a \\ln|x-\\xi| + x_1^3 x_2 + x_1 x_2^3\n",
    "\t~,\n",
    "\\end{align*}\n",
    "where $a = 1$ and $\\xi = (0.5, 0.5)$,"
   ]
  },
  {
   "cell_type": "code",
   "execution_count": 89,
   "metadata": {},
   "outputs": [],
   "source": [
    "# set target value of logarithmic coefficient\n",
    "a_exact = 1.0\n",
    "\n",
    "# set point in hole interior\n",
    "xi = [0.5, 0.5]\n",
    "\n",
    "# get the coordinates of sampled boundary points\n",
    "x1, x2 = K.get_boundary_points()\n",
    "\n",
    "# define trace of v\n",
    "v_trace = (\n",
    "    np.exp(x1) * np.cos(x2)\n",
    "    + 0.5 * a_exact * np.log((x1 - xi[0]) ** 2 + (x2 - xi[1]) ** 2)\n",
    "    + x1**3 * x2\n",
    "    + x1 * x2**3\n",
    ")\n",
    "\n",
    "# create Polynomial object\n",
    "v_laplacian = pf.Polynomial([[12.0, 1, 1]])\n",
    "\n",
    "# create local function object\n",
    "v = pf.LocalFunction(nyst=nyst, lap_poly=v_laplacian, has_poly_trace=False)\n",
    "v.set_trace_values(v_trace)"
   ]
  },
  {
   "cell_type": "markdown",
   "metadata": {},
   "source": [
    "The local function $w$ is given by\n",
    "\\begin{align*}\n",
    "\tw(x) = \\frac{x_1 - 0.5}{(x_1 - 0.5)^2 + (y - 0.5)^2} + x_1^3 + x_1 x_2^2\n",
    "\t~.\n",
    "\\end{align*}\n",
    "Again, we have that $w = \\psi + Q$ is the sum of a harmonic function and \n",
    "a polynomial, with\n",
    "\\begin{align*}\n",
    "\t\\psi(x) = \\frac{x_1 - 0.5}{(x_1 - 0.5)^2 + (y - 0.5)^2} \n",
    "\t~,\n",
    "\t\\quad\n",
    "\tQ(x) = x_1^3 + x_1 x_2^2\n",
    "\t~.\n",
    "\\end{align*}"
   ]
  },
  {
   "cell_type": "code",
   "execution_count": 90,
   "metadata": {},
   "outputs": [],
   "source": [
    "# trace of w\n",
    "w_trace = (\n",
    "    (x1 - 0.5) / ((x1 - 0.5) ** 2 + (x2 - 0.5) ** 2) + x1**3 + x1 * x2**2\n",
    ")\n",
    "\n",
    "# define a monomial term by specifying its multi-index and coefficient\n",
    "w_laplacian = pf.Polynomial([[8.0, 1, 0]])\n",
    "\n",
    "# declare w as local function object\n",
    "w = pf.LocalFunction(nyst, lap_poly=w_laplacian, has_poly_trace=False)\n",
    "w.set_trace_values(w_trace)"
   ]
  },
  {
   "cell_type": "markdown",
   "metadata": {},
   "source": [
    "We then compute all of the function metadata, such as the harmonic conjugate, normal derivative, anit-Laplacian, etc.\n",
    "\n",
    "**Suggestion:** Try changing the `interp` parameter above, and note the difference in computation time."
   ]
  },
  {
   "cell_type": "code",
   "execution_count": 91,
   "metadata": {},
   "outputs": [
    {
     "name": "stdout",
     "output_type": "stream",
     "text": [
      "3.38e-02\n"
     ]
    }
   ],
   "source": [
    "ti = time()\n",
    "v.compute_all()\n",
    "w.compute_all()\n",
    "tf = time()\n",
    "print(f\"{tf-ti:.2e}\")"
   ]
  },
  {
   "attachments": {},
   "cell_type": "markdown",
   "metadata": {},
   "source": [
    "## Errors in Intermediate Quantities\n",
    "\n",
    "### Error in Logarithmic Coefficient"
   ]
  },
  {
   "cell_type": "code",
   "execution_count": 92,
   "metadata": {},
   "outputs": [
    {
     "name": "stdout",
     "output_type": "stream",
     "text": [
      "Computed logarithmic coefficient =  1.0017044962332027\n",
      "Error = 1.70e-03\n"
     ]
    }
   ],
   "source": [
    "print(\"Computed logarithmic coefficient = \", v.log_coef[0])\n",
    "print(f\"Error = {abs(v.log_coef[0] - a_exact):.2e}\")"
   ]
  },
  {
   "attachments": {},
   "cell_type": "markdown",
   "metadata": {},
   "source": [
    "### Error in Harmonic Conjugate Trace  "
   ]
  },
  {
   "cell_type": "code",
   "execution_count": 93,
   "metadata": {},
   "outputs": [
    {
     "data": {
      "image/png": "[encoded data removed]",
      "text/plain": [
       "<Figure size 640x480 with 1 Axes>"
      ]
     },
     "metadata": {},
     "output_type": "display_data"
    },
    {
     "name": "stdout",
     "output_type": "stream",
     "text": [
      "Max pointwise error = 2.8106e-01\n",
      "L^2 norm of error = 6.1581e-02\n"
     ]
    }
   ],
   "source": [
    "# get computed value of psi_hat\n",
    "psi_hat_computed = v.get_harmonic_conjugate()\n",
    "\n",
    "# get exact trace of psi_hat\n",
    "psi_hat_exact = np.exp(x1) * np.sin(x2)\n",
    "\n",
    "# average square distance between values\n",
    "boundary_length = K.integrate_over_boundary(np.ones((K.num_pts,)))\n",
    "integrated_difference = K.integrate_over_boundary(\n",
    "    psi_hat_exact - psi_hat_computed\n",
    ")\n",
    "c = -integrated_difference / boundary_length\n",
    "\n",
    "# compute errors in harmonic conjugate\n",
    "psi_hat_error = np.abs(psi_hat_exact - psi_hat_computed + c)\n",
    "\n",
    "# plot harmonic conjugate pointwise errors\n",
    "pf.plot.TracePlot(\n",
    "    traces=psi_hat_error,\n",
    "    fmt=\"k.\",\n",
    "    title=\"Harmonic conjugate error\",\n",
    "    K=K,\n",
    "    quad_dict=quad_dict,\n",
    "    log_scale=True,\n",
    ").draw()\n",
    "\n",
    "# compute L^2(\\partial K) error\n",
    "max_hc_error = max(psi_hat_error)\n",
    "l2_hc_error = np.sqrt(K.integrate_over_boundary(psi_hat_error**2))\n",
    "print(\"Max pointwise error = %.4e\" % max_hc_error)\n",
    "print(\"L^2 norm of error = %.4e\" % l2_hc_error)"
   ]
  },
  {
   "cell_type": "markdown",
   "metadata": {},
   "source": [
    "### Error in the Weighted Normal Derivative"
   ]
  },
  {
   "cell_type": "code",
   "execution_count": 94,
   "metadata": {},
   "outputs": [
    {
     "data": {
      "image/png": "[encoded data removed]",
      "text/plain": [
       "<Figure size 640x480 with 1 Axes>"
      ]
     },
     "metadata": {},
     "output_type": "display_data"
    },
    {
     "name": "stdout",
     "output_type": "stream",
     "text": [
      "Max pointwise error = 4.4688e-01\n",
      "L^2 norm of wnd error = 2.1547e-01\n"
     ]
    }
   ],
   "source": [
    "# define the components of the gradient of phi\n",
    "phi_x1 = np.exp(x1) * np.cos(x2) + a_exact * (x1 - xi[0]) / (\n",
    "    (x1 - xi[0]) ** 2 + (x2 - xi[1]) ** 2\n",
    ")\n",
    "phi_x2 = -np.exp(x1) * np.sin(x2) + a_exact * (x2 - xi[1]) / (\n",
    "    (x1 - xi[0]) ** 2 + (x2 - xi[1]) ** 2\n",
    ")\n",
    "\n",
    "# compute exact weighted normal derivative\n",
    "phi_nd = K.dot_with_normal(phi_x1, phi_x2)\n",
    "phi_wnd_exact = K.multiply_by_dx_norm(phi_nd)\n",
    "\n",
    "# get computed values\n",
    "phi_wnd_computed = v.get_harmonic_weighted_normal_derivative()\n",
    "\n",
    "# compute errors\n",
    "wnd_error = np.abs(phi_wnd_computed - phi_wnd_exact)\n",
    "\n",
    "# plot weighted normal derivative pointwise errors\n",
    "pf.plot.TracePlot(\n",
    "    traces=wnd_error,\n",
    "    fmt=\"k.\",\n",
    "    title=\"Weighted normal derivative error\",\n",
    "    K=K,\n",
    "    quad_dict=quad_dict,\n",
    "    log_scale=True,\n",
    ").draw()\n",
    "\n",
    "# compute and print errors\n",
    "max_wnd_error = max(wnd_error)\n",
    "l2_wnd_error = np.sqrt(K.integrate_over_boundary(wnd_error**2))\n",
    "print(\"Max pointwise error = %.4e\" % max_wnd_error)\n",
    "print(\"L^2 norm of wnd error = %.4e\" % l2_wnd_error)"
   ]
  },
  {
   "cell_type": "markdown",
   "metadata": {},
   "source": [
    "### Anti-Laplacian Errors"
   ]
  },
  {
   "cell_type": "code",
   "execution_count": 95,
   "metadata": {},
   "outputs": [
    {
     "data": {
      "image/png": "[encoded data removed]",
      "text/plain": [
       "<Figure size 640x480 with 1 Axes>"
      ]
     },
     "metadata": {},
     "output_type": "display_data"
    },
    {
     "name": "stdout",
     "output_type": "stream",
     "text": [
      "Max pointwise error = 2.0077e-02\n",
      "L^2 norm of error = 1.0166e-02\n"
     ]
    }
   ],
   "source": [
    "# an exact anti-Laplacian\n",
    "PHI_exact = 0.25 * np.exp(x1) * (\n",
    "    x1 * np.cos(x2) + x2 * np.sin(x2)\n",
    ") + a_exact * 0.25 * ((x1 - xi[0]) ** 2 + (x2 - xi[1]) ** 2) * (\n",
    "    0.5 * np.log((x1 - xi[0]) ** 2 + (x2 - xi[1]) ** 2) - 1\n",
    ")\n",
    "\n",
    "# computed anti-Laplacian\n",
    "PHI_computed = v.get_anti_laplacian_harmonic_part()\n",
    "\n",
    "# compute difference between expected and computed\n",
    "PHI_diff = PHI_exact - PHI_computed\n",
    "\n",
    "# correct with least squares linear regression\n",
    "X = np.zeros((K.num_pts, 2))\n",
    "X[:, 0] = x1\n",
    "X[:, 1] = x2\n",
    "XX = np.transpose(X) @ X\n",
    "Xy = np.transpose(X) @ PHI_diff\n",
    "aa = np.linalg.solve(XX, Xy)\n",
    "PHI_diff_fit = X @ aa\n",
    "\n",
    "# compute errors\n",
    "PHI_diff_error = np.abs(PHI_diff_fit - PHI_diff)\n",
    "\n",
    "# plot anti-Laplacian pointwise errors\n",
    "pf.plot.TracePlot(\n",
    "    traces=PHI_diff_error,\n",
    "    fmt=\"k.\",\n",
    "    title=\"Anti-Laplacian difference error\",\n",
    "    K=K,\n",
    "    quad_dict=quad_dict,\n",
    "    log_scale=True,\n",
    ").draw()\n",
    "\n",
    "# compute and print error\n",
    "max_PHI_error = max(PHI_diff_error)\n",
    "l2_PHI_error = np.sqrt(K.integrate_over_boundary(PHI_diff_error**2))\n",
    "print(\"Max pointwise error = %.4e\" % max_PHI_error)\n",
    "print(\"L^2 norm of error = %.4e\" % l2_PHI_error)"
   ]
  },
  {
   "attachments": {},
   "cell_type": "markdown",
   "metadata": {},
   "source": [
    "### $H^1$ Semi-inner Product Error"
   ]
  },
  {
   "cell_type": "code",
   "execution_count": 96,
   "metadata": {},
   "outputs": [
    {
     "name": "stdout",
     "output_type": "stream",
     "text": [
      "H^1 error (vw) =  0.012081279877119044\n"
     ]
    }
   ],
   "source": [
    "h1_vw_computed = v.get_h1_semi_inner_prod(w)\n",
    "h1_vw_exact = 4.46481780319135\n",
    "print(\"H^1 error (vw) = \", abs(h1_vw_computed - h1_vw_exact))"
   ]
  },
  {
   "attachments": {},
   "cell_type": "markdown",
   "metadata": {},
   "source": [
    "### $L^2$ Inner Product Error"
   ]
  },
  {
   "cell_type": "code",
   "execution_count": 97,
   "metadata": {},
   "outputs": [
    {
     "name": "stdout",
     "output_type": "stream",
     "text": [
      "L^2 error (vw) =  0.0033170663933517197\n"
     ]
    }
   ],
   "source": [
    "l2_vw_computed = v.get_l2_inner_prod(w)\n",
    "l2_vw_exact = 1.39484950156676\n",
    "print(\"L^2 error (vw) = \", abs(l2_vw_computed - l2_vw_exact))"
   ]
  },
  {
   "attachments": {},
   "cell_type": "markdown",
   "metadata": {},
   "source": [
    "## Convergence Studies\n",
    "\n",
    "\n",
    "\n",
    "| n | k | n/k | a_1 error | hc error |\twnd error |\tal error | H1 error | L2 error | time |\n",
    "|--|--|--|--|--|--|--|--|--|--|\n",
    "|\n",
    "| 4  | 1  | 4 |  \n",
    "| 8  | 2  | 4 |  \n",
    "| 16 | 4  | 4 |  \n",
    "| 32 | 8  | 4 |  \n",
    "| 64 | 16 | 4 |  \n",
    "|\n",
    "| 8  | 1 | 8 |  \n",
    "| 16 | 2 | 8 |  \n",
    "| 32 | 4 | 8 |  \n",
    "| 64 | 8 | 8 |  \n",
    "|\n",
    "| 16 | 1 | 16 |  \n",
    "| 32 | 2 | 16 |  \n",
    "| 64 | 4 | 16 |  \n",
    "|\n",
    "| 32 | 1 | 32 | 3.5993e-13 | 2.3095e-09 | 1.0434e-08 | 1.9430e-09 | 1.0860e-09 | 2.7719e-11 | 1.19e-01 |\n",
    "| 64 | 2 | 32 | 3.5993e-13 | 2.3108e-09 | 1.0133e-08 | 1.9431e-09 | 1.0896e-09 | 2.6992e-11 | 1.74e-01 |\n",
    "| 128 | 4 | 32 | 3.5993e-13 | 2.3108e-09 | 1.0133e-08 | 1.9431e-09 | 1.0896e-09 | 2.6990e-11 | 2.66e-01 |\n",
    "| 256 | 8 | 32 | 3.5993e-13 | 2.3108e-09 | 1.0133e-08 | 1.9431e-09 | 1.0896e-09 | 2.6990e-11 | 1.17e-01 |\n",
    "|\n",
    "| 64  | 1 | 64 | 1.8430e-14 | 1.6313e-12 | 6.4776e-11 | 7.0728e-12 | 9.5124e-13 | 1.1391e-13 | 1.78e-01 |\n",
    "| 128 | 2 | 64 | 1.8430e-14 | 1.7754e-12 | 4.6746e-11 | 7.0734e-12 | 9.3792e-13 | 1.1657e-13 | 2.28e-01 |\n",
    "| 256 | 4 | 64 | 1.8430e-14 | 1.7754e-12 | 4.6745e-11 | 7.0734e-12 | 9.3436e-13 | 1.1591e-13 | 4.77e-01 |\n",
    "| 512 | 8 | 64 | 1.8430e-14 | 1.7754e-12 | 4.6745e-11 | 7.0735e-12 | 9.3969e-13 | 1.1591e-13 | 3.39e-01 |\n",
    "|\n",
    "| 128  | 1 | 128 | 2.7756e-14 | 3.5113e-13 | 2.6898e-11 | 1.4908e-13 | 1.4921e-12 | 1.2967e-13 | 4.33e-01 |\n",
    "| 256  | 2 | 128 | 2.7756e-14 | 3.8116e-13 | 1.9051e-11 | 1.9134e-13 | 1.4939e-12 | 1.2790e-13 | 4.36e-01 |\n",
    "| 512  | 4 | 128 | 2.7756e-14 | 3.8116e-13 | 1.9052e-11 | 1.9275e-13 | 1.4913e-12 | 1.2879e-13 | 5.71e-01 |\n",
    "| 1024 | 8 | 128 | 2.7756e-14 | 3.8116e-13 | 1.9053e-11 | 1.9228e-13 | 1.4930e-12 | 1.2879e-13 | 7.29e-01 |\n"
   ]
  },
  {
   "cell_type": "code",
   "execution_count": 98,
   "metadata": {},
   "outputs": [
    {
     "name": "stdout",
     "output_type": "stream",
     "text": [
      "32 8 4\n",
      "\n",
      "log coef error = 1.7045e-03\n",
      "L^2 norm of hc error = 6.1581e-02\n",
      "L^2 norm of wnd error = 2.1547e-01\n",
      "L^2 norm of antilap error = 1.0166e-02\n",
      "\n",
      "H^1 error (vw) = 1.2081e-02\n",
      "L^2 error (vw) = 3.3171e-03\n",
      "time = 3.38e-02\n"
     ]
    }
   ],
   "source": [
    "n = quad_dict[\"kress\"].n\n",
    "interp = quad_dict[\"interp\"]\n",
    "print(n, interp, n // interp)\n",
    "\n",
    "print(\"\")\n",
    "\n",
    "print(\"log coef error = %.4e\" % abs(v.log_coef[0] - a_exact))\n",
    "print(\"L^2 norm of hc error = %.4e\" % l2_hc_error)\n",
    "print(\"L^2 norm of wnd error = %.4e\" % l2_wnd_error)\n",
    "print(\"L^2 norm of antilap error = %.4e\" % l2_PHI_error)\n",
    "\n",
    "print(\"\")\n",
    "\n",
    "print(\"H^1 error (vw) = %.4e\" % abs(h1_vw_computed - h1_vw_exact))\n",
    "print(\"L^2 error (vw) = %.4e\" % abs(l2_vw_computed - l2_vw_exact))\n",
    "\n",
    "print(f\"time = {tf-ti:.2e}\")"
   ]
  }
 ],
 "metadata": {
  "kernelspec": {
   "display_name": "Python 3 (ipykernel)",
   "language": "python",
   "name": "python3"
  },
  "language_info": {
   "codemirror_mode": {
    "name": "ipython",
    "version": 3
   },
   "file_extension": ".py",
   "mimetype": "text/x-python",
   "name": "python",
   "nbconvert_exporter": "python",
   "pygments_lexer": "ipython3",
   "version": "3.11.6"
  },
  "orig_nbformat": 4,
  "vscode": {
   "interpreter": {
    "hash": "916dbcbb3f70747c44a77c7bcd40155683ae19c65e1c03b4aa3499c5328201f1"
   }
  }
 },
 "nbformat": 4,
 "nbformat_minor": 2
}
