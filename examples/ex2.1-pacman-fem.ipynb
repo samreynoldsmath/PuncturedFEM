{
 "cells": [
  {
   "cell_type": "markdown",
   "metadata": {},
   "source": [
    "# 2.1: Finite Elements on a Pac-Man Mesh\n",
    "### Sam Reynolds, 2023\n",
    "\n",
    "This example demonstrates how to set up and solve a finite element problem on a\n",
    "punctured mesh. \n",
    "The model problem under consideration is a simple diffusion-reaction problem\n",
    "\\begin{align*}\n",
    "\t-\\nabla\\cdot(a \\, \\nabla u) + c \\, u &= f \\quad \\text{in } \\Omega, \\\\\n",
    "\tu &= 0 \\quad \\text{on } \\partial\\Omega,\n",
    "\\end{align*}\n",
    "where $a, c$ are constant scalars and $f$ is a polynomial.\n",
    "The associated weak form is\n",
    "\\begin{align*}\n",
    "\t\\int_\\Omega a \\, \\nabla u \\cdot \\nabla v \\, dx\n",
    "\t+ \\int_\\Omega c \\, u \\, v \\, dx\n",
    "\t&= \\int_\\Omega f \\, v \\, dx\n",
    "\t\\quad \\forall v \\in H^1_0(\\Omega).\n",
    "\\end{align*}\n",
    "In previous examples, we saw that we can evalate these integrals on each cell\n",
    "$K$ in a mesh $\\mathcal{T}$ of the domain $\\Omega$, provided that $u$ and $v$\n",
    "are elements of a *local Poisson space* $V_p(K)$.\n",
    "We define the *global Poisson space* $V_p(\\mathcal{T})$ as the space of\n",
    "continuous functions in $H^1_0(\\Omega)$ whose restriction to each cell $K$ is\n",
    "an element of $V_p(K)$.\n",
    "By constructing a basis $\\{\\phi_1, \\dots, \\phi_N\\}$ of $V_p(\\mathcal{T})$ by \n",
    "continuously \"stitching\" the local basis functions together,\n",
    "we seek a finite element solution $\\tilde{u} \\in V_p(\\mathcal{T})$ such that\n",
    "\\begin{align*}\n",
    "\t&\\tilde{u} = \\sum_{i=1}^N u_i \\, \\phi_i,\n",
    "\t\\\\\n",
    "\t&\\int_\\Omega a \\, u_i \\nabla \\phi_i \\cdot \\nabla \\phi_j \\, dx\n",
    "\t+ \\int_\\Omega c \\, u_i \\, \\phi_i \\, \\phi_j \\, dx\n",
    "\t= \\int_\\Omega f \\, \\phi_j \\, dx\n",
    "\\end{align*}\n",
    "Let's set a few parameters before we go any further. \n",
    "`deg` is the polynomial degree of global Poisson space,\n",
    "`n` is edge sampling parameter (as used in previous examples).\n",
    "\n",
    "**(!) WARNING:** \n",
    "Higher order spaces (`deg > 3`) are still under development."
   ]
  },
  {
   "cell_type": "code",
   "execution_count": null,
   "metadata": {},
   "outputs": [],
   "source": [
    "deg = 1\n",
    "n = 64"
   ]
  },
  {
   "cell_type": "markdown",
   "metadata": {},
   "source": [
    "## Mesh construction\n",
    "The mesh we will use for this example was constructed in \n",
    "[Example 0.1](ex0.1-mesh-building.ipynb).\n",
    "For convenience, the same mesh can be constructed by calling the `pacman_mesh`\n",
    "function in the `mesh.meshlib` module."
   ]
  },
  {
   "cell_type": "code",
   "execution_count": null,
   "metadata": {},
   "outputs": [],
   "source": [
    "import scipy as sp\n",
    "import matplotlib.pyplot as plt\n",
    "import numpy as np\n",
    "\n",
    "import puncturedfem as pf\n",
    "\n",
    "T = pf.meshlib.pacman_subdiv()\n",
    "# T = pf.meshlib.pacman()"
   ]
  },
  {
   "cell_type": "markdown",
   "metadata": {},
   "source": [
    "Let's take a look at the mesh by using the `MeshPlot` class."
   ]
  },
  {
   "cell_type": "code",
   "execution_count": null,
   "metadata": {},
   "outputs": [],
   "source": [
    "pf.plot.MeshPlot(T.edges, n).draw(show_axis=False, pad=0.0)"
   ]
  },
  {
   "cell_type": "markdown",
   "metadata": {},
   "source": [
    "## Build global function space \n",
    "The global function space $V_p(\\mathcal{T})\\subset H^1(\\Omega)$ \n",
    "is the space of continuous functions such that each function belongs to \n",
    "$V_p(K)$ when restricted to any cell $K\\in\\mathcal{T}$.\n",
    "(Note that we use `deg` to denote the polynomial degree $p$.)\n",
    "\n",
    "To proceed with the computation, we define the quadrature scheme(s) used to \n",
    "parameterize the edges of the mesh."
   ]
  },
  {
   "cell_type": "code",
   "execution_count": null,
   "metadata": {},
   "outputs": [],
   "source": [
    "quad_dict = pf.get_quad_dict(n)"
   ]
  },
  {
   "cell_type": "markdown",
   "metadata": {},
   "source": [
    "The global function space `V` is built from the mesh `T`, along with the `deg`\n",
    "parameter and the information necessary to parameterize the edges of the mesh."
   ]
  },
  {
   "cell_type": "code",
   "execution_count": null,
   "metadata": {},
   "outputs": [],
   "source": [
    "V = pf.GlobalFunctionSpace(T, deg, quad_dict)"
   ]
  },
  {
   "cell_type": "markdown",
   "metadata": {},
   "source": [
    "## Examine basis functions on a cell"
   ]
  },
  {
   "cell_type": "code",
   "execution_count": null,
   "metadata": {},
   "outputs": [],
   "source": [
    "# cell_idx = 8\n",
    "# vpk = V.build_local_function_space(cell_idx, verbose=True, compute_interior_values=True)"
   ]
  },
  {
   "cell_type": "code",
   "execution_count": null,
   "metadata": {},
   "outputs": [],
   "source": [
    "# print(vpk.num_funs)"
   ]
  },
  {
   "cell_type": "code",
   "execution_count": null,
   "metadata": {},
   "outputs": [],
   "source": [
    "# for j, v in enumerate(vpk.get_basis()):\n",
    "#     pf.plot.LocalFunctionPlot(v).draw(show_colorbar=False, show_axis=False, fill=True, filename=f\"out/ghost-basis-p{deg}-{v.key.fun_type}{v.key.glob_idx}.pdf\")"
   ]
  },
  {
   "cell_type": "markdown",
   "metadata": {},
   "source": [
    "## Define a bilinear form\n",
    "The bilinear form \n",
    "\\begin{align*}\n",
    "\tB(u,v) = \n",
    "\t\\int_\\Omega a \\, \\nabla u \\cdot \\nabla v ~dx\n",
    "\t+ \\int_\\Omega c \\, u \\, v ~dx\n",
    "\\end{align*}\n",
    "and the right-hand side linear functional\n",
    "\\begin{align*}\n",
    "\tF(v) = \\int_\\Omega f \\, v ~dx\n",
    "\\end{align*}\n",
    "are declared as follows,\n",
    "with `diffusion_coefficient` $a = 1$, \n",
    "`reaction_coefficient` $c = 1$,\n",
    "and `rhs_poly` $f(x) = 1 \\cdot x^{(0, 0)}$."
   ]
  },
  {
   "cell_type": "code",
   "execution_count": null,
   "metadata": {},
   "outputs": [],
   "source": [
    "a = 1.0\n",
    "c = 1.0\n",
    "f = pf.Polynomial([(1.0, 0, 0)])\n",
    "\n",
    "B = pf.BilinearForm(\n",
    "    diffusion_constant=a,\n",
    "    reaction_constant=c,\n",
    "    rhs_poly=f,\n",
    ")\n",
    "\n",
    "print(B)"
   ]
  },
  {
   "cell_type": "markdown",
   "metadata": {},
   "source": [
    "## Set up the finite element solver\n",
    "A finite element solver needs two things: the global function space and the bilinear form. "
   ]
  },
  {
   "cell_type": "code",
   "execution_count": null,
   "metadata": {},
   "outputs": [],
   "source": [
    "solver = pf.Solver(V, B, compute_interior_values=False)"
   ]
  },
  {
   "cell_type": "markdown",
   "metadata": {},
   "source": [
    "## Examine the finite element matrix"
   ]
  },
  {
   "cell_type": "code",
   "execution_count": null,
   "metadata": {},
   "outputs": [],
   "source": [
    "A = solver.glob_mat.todense()\n",
    "cond_num = np.linalg.cond(A)\n",
    "print(f\"dof = {V.num_funs}, cond_num = {cond_num:.4e}\")"
   ]
  },
  {
   "cell_type": "markdown",
   "metadata": {},
   "source": [
    "| p | dof | condition number | Jacobi |\n",
    "|---|-----|------------------|--------|\n",
    "| 1 | 38  | 6.7901e+02 | 1.2801e+02 |\n",
    "| 2 | 84  | 3.1345e+06 | 3.2949e+02 |\n",
    "| 3 | 142 | 6.8565e+10 | 7.5502e+05 |\n",
    "| 4 | 219 | 2.4033e+17 | 2.3654e+27 |"
   ]
  },
  {
   "cell_type": "code",
   "execution_count": null,
   "metadata": {},
   "outputs": [],
   "source": [
    "plt.figure()\n",
    "plt.imshow(A)\n",
    "plt.colorbar()"
   ]
  },
  {
   "cell_type": "code",
   "execution_count": null,
   "metadata": {},
   "outputs": [],
   "source": [
    "plt.figure()\n",
    "log10_abs_A = np.log10(np.abs(A))\n",
    "plt.imshow(log10_abs_A)\n",
    "plt.colorbar()"
   ]
  },
  {
   "cell_type": "code",
   "execution_count": null,
   "metadata": {},
   "outputs": [],
   "source": [
    "plt.figure()\n",
    "eigenvalues = np.linalg.eigvalsh(A)\n",
    "plt.plot(eigenvalues, \"o-\")\n",
    "plt.grid(True)"
   ]
  },
  {
   "cell_type": "code",
   "execution_count": null,
   "metadata": {},
   "outputs": [],
   "source": [
    "print(eigenvalues[abs(eigenvalues) < 0.1])"
   ]
  },
  {
   "cell_type": "markdown",
   "metadata": {},
   "source": [
    "## Reduced system (zero Dirichlet BCs)"
   ]
  },
  {
   "cell_type": "code",
   "execution_count": null,
   "metadata": {},
   "outputs": [],
   "source": [
    "non_boudary_indices = set()\n",
    "for abs_cell_idx in range(V.mesh.num_cells):\n",
    "    for key in V.cell_dofs[abs_cell_idx]:\n",
    "        if not key.is_on_boundary:\n",
    "            non_boudary_indices.add(key.glob_idx)\n",
    "non_boudary_indices = sorted(non_boudary_indices)\n",
    "\n",
    "A_reduced = A[non_boudary_indices, :][:, non_boudary_indices]\n",
    "cond_num_reduced = np.linalg.cond(A_reduced)\n",
    "print(f\"dof = {A_reduced.shape[0]}, cond_num = {cond_num_reduced:.4e}\")"
   ]
  },
  {
   "cell_type": "code",
   "execution_count": null,
   "metadata": {},
   "outputs": [],
   "source": [
    "plt.figure()\n",
    "plt.imshow(A_reduced)\n",
    "plt.colorbar()\n",
    "\n",
    "plt.figure()\n",
    "log10_abs_A_reduced = np.log10(np.abs(A_reduced))\n",
    "plt.imshow(log10_abs_A_reduced)\n",
    "plt.colorbar()"
   ]
  },
  {
   "cell_type": "code",
   "execution_count": null,
   "metadata": {},
   "outputs": [],
   "source": [
    "eigenvalues_reduced = np.linalg.eigvalsh(A_reduced)\n",
    "plt.figure()\n",
    "plt.plot(eigenvalues_reduced, \"o-\")\n",
    "plt.grid(True)\n",
    "\n",
    "print(eigenvalues_reduced[abs(eigenvalues_reduced) < 0.1])"
   ]
  },
  {
   "cell_type": "markdown",
   "metadata": {},
   "source": [
    "## Jacobi preconditioner"
   ]
  },
  {
   "cell_type": "code",
   "execution_count": null,
   "metadata": {},
   "outputs": [],
   "source": [
    "# Jacobi preconditioner\n",
    "D = np.diag(np.diag(A))\n",
    "M = np.linalg.inv(D)\n",
    "A_precond = M @ A\n",
    "cond_num_precond = np.linalg.cond(A_precond)\n",
    "print(f\"dof = {V.num_funs}, cond_num = {cond_num_precond:.4e}\")\n",
    "\n",
    "plt.figure()\n",
    "plt.imshow(A_precond)\n",
    "plt.colorbar()\n",
    "\n",
    "plt.figure()\n",
    "log10_abs_A_precond = np.log10(np.abs(A_precond))\n",
    "plt.imshow(log10_abs_A_precond)\n",
    "plt.colorbar()\n",
    "\n",
    "eigenvalues_precond = np.linalg.eigvalsh(A_precond)\n",
    "plt.figure()\n",
    "plt.plot(eigenvalues_precond, \"o-\")\n",
    "plt.grid(True)\n",
    "\n",
    "print(eigenvalues_precond[abs(eigenvalues_precond) < 0.1])"
   ]
  },
  {
   "cell_type": "code",
   "execution_count": null,
   "metadata": {},
   "outputs": [],
   "source": [
    "# preconditioned reduced system\n",
    "D = np.diag(np.diag(A_reduced))\n",
    "M = np.linalg.inv(D)\n",
    "A_reduced_precond = M @ A_reduced\n",
    "cond_num_reduced_precond = np.linalg.cond(A_reduced_precond)\n",
    "print(f\"dof = {A_reduced.shape[0]}, cond_num = {cond_num_reduced_precond:.4e}\")\n",
    "\n",
    "plt.figure()\n",
    "plt.imshow(A_reduced_precond)\n",
    "plt.colorbar()\n",
    "\n",
    "plt.figure()\n",
    "log10_abs_A_reduced_precond = np.log10(np.abs(A_reduced_precond))\n",
    "plt.imshow(log10_abs_A_reduced_precond)\n",
    "plt.colorbar()\n",
    "\n",
    "eigenvalues_reduced_precond = np.linalg.eigvalsh(A_reduced_precond)\n",
    "plt.figure()\n",
    "plt.plot(eigenvalues_reduced_precond, \"o-\")\n",
    "plt.grid(True)\n",
    "\n",
    "print(eigenvalues_reduced_precond[abs(eigenvalues_reduced_precond) < 0.1])"
   ]
  },
  {
   "cell_type": "markdown",
   "metadata": {},
   "source": [
    "## Solve the finite element system\n",
    "To solve the system we worked hard to set up, we can call the `solve()` method\n",
    "on the `Solver` object."
   ]
  },
  {
   "cell_type": "code",
   "execution_count": null,
   "metadata": {},
   "outputs": [],
   "source": [
    "solver.solve()"
   ]
  },
  {
   "cell_type": "markdown",
   "metadata": {},
   "source": [
    "## Compute the $H^1$ error\n",
    "The $H^1$ error is computed with \n",
    "\\begin{align*}\n",
    "    \\|u - \\tilde{u}\\|_{H^1(\\Omega)}^2\n",
    "    = \\|u\\|_{H^1(\\Omega)}^2 - \\|\\tilde{u}\\|_{H^1(\\Omega)}^2\n",
    "\\end{align*}\n",
    "where $\\tilde{u}$ is the finite element solution and $u$ is the exact solution.\n",
    "Computations with *Mathematica* give\n",
    "\\begin{align*}\n",
    "    \\|u\\|_{H^1(\\Omega)}^2\n",
    "    \\approx 0.257592478386321945\n",
    "\\end{align*}\n",
    "correct to all digits shown."
   ]
  },
  {
   "cell_type": "code",
   "execution_count": null,
   "metadata": {},
   "outputs": [],
   "source": [
    "u_h1_sq = 0.257592478386321945"
   ]
  },
  {
   "cell_type": "code",
   "execution_count": null,
   "metadata": {},
   "outputs": [],
   "source": [
    "S = solver.stiff_mat\n",
    "M = solver.mass_mat\n",
    "alpha = solver.soln\n",
    "u_tilde_h1_sq = alpha @ S @ alpha + alpha @ M @ alpha\n",
    "h1_error_sq = u_h1_sq - u_tilde_h1_sq\n",
    "h1_error = np.sqrt(np.abs(h1_error_sq))\n",
    "print(deg, h1_error)"
   ]
  },
  {
   "cell_type": "markdown",
   "metadata": {},
   "source": [
    "| p | $\\|u - \\tilde{u}\\|_{H^1(\\Omega)}$ | ratio |\n",
    "|---|-----------------------------------|-------|\n",
    "| 1 | 0.22515505298089233 | n/a |\n",
    "| 2 | 0.035927410348521906 | 6.266943561941293 |\n",
    "| 3 | 0.01110922569722671 | 3.2340157025966954 |"
   ]
  },
  {
   "cell_type": "code",
   "execution_count": null,
   "metadata": {},
   "outputs": [],
   "source": [
    "errors = [\n",
    "    0.22515505298089233,\n",
    "    0.035927410348521906,\n",
    "    0.01110922569722671,\n",
    "    0.0006352311617389737,\n",
    "    0.004537523786757339,\n",
    "]\n",
    "num_errors = len(errors)\n",
    "for p in range(1, num_errors):\n",
    "    print(p + 1, errors[p - 1] / errors[p])"
   ]
  },
  {
   "cell_type": "markdown",
   "metadata": {},
   "source": [
    "## Plot the solution\n",
    "We can visualize the solution by \n",
    "creating an instance of the `GlobalFunctionPlot` class.\n",
    "There are two types of plots available: \n",
    "a conventional contour plot (`fill=False`)\n",
    "or a heat map (`fill=True`).\n",
    "To view the figure in this notebook, set `show_fig = True`.\n",
    "To save it to a file, set the `filename` keyword argument in the \n",
    "`draw()` method."
   ]
  },
  {
   "cell_type": "code",
   "execution_count": null,
   "metadata": {},
   "outputs": [],
   "source": [
    "# global_plot = pf.plot.GlobalFunctionPlot(solver)"
   ]
  },
  {
   "cell_type": "code",
   "execution_count": null,
   "metadata": {},
   "outputs": [],
   "source": [
    "# global_plot.draw(filename=f\"../doc/logo/pacman.svg\")\n",
    "# print(global_plot.global_range)"
   ]
  },
  {
   "cell_type": "code",
   "execution_count": null,
   "metadata": {},
   "outputs": [],
   "source": [
    "# global_plot.draw(\n",
    "#     plot_type=\"grad_x1\",\n",
    "#     use_interp=False,\n",
    "#     filename=f\"out/pac-man-p{deg}-grad-x1.pdf\",\n",
    "# )\n",
    "# print(global_plot.global_grad1_range)"
   ]
  },
  {
   "cell_type": "markdown",
   "metadata": {},
   "source": [
    "## Plot the solution on a cell"
   ]
  },
  {
   "cell_type": "code",
   "execution_count": null,
   "metadata": {},
   "outputs": [],
   "source": [
    "# cell_idx = 8\n",
    "# v = global_plot.global_function[cell_idx]\n",
    "# local_plot = pf.plot.LocalFunctionPlot(v)\n",
    "# local_plot.draw()"
   ]
  },
  {
   "cell_type": "code",
   "execution_count": null,
   "metadata": {},
   "outputs": [],
   "source": [
    "# local_plot.draw(show_triangulation=True)"
   ]
  },
  {
   "cell_type": "markdown",
   "metadata": {},
   "source": [
    "## Plot a global basis function\n",
    "Let's take a look at one of the global basis functions."
   ]
  },
  {
   "cell_type": "code",
   "execution_count": null,
   "metadata": {},
   "outputs": [],
   "source": [
    "# import numpy as np\n",
    "\n",
    "# idx = 5\n",
    "# coef = np.zeros(V.num_funs)\n",
    "# coef[idx] = 1.0\n",
    "# pf.plot.GlobalFunctionPlot(solver, coef).draw()"
   ]
  }
 ],
 "metadata": {
  "kernelspec": {
   "display_name": "Python 3",
   "language": "python",
   "name": "python3"
  },
  "language_info": {
   "codemirror_mode": {
    "name": "ipython",
    "version": 3
   },
   "file_extension": ".py",
   "mimetype": "text/x-python",
   "name": "python",
   "nbconvert_exporter": "python",
   "pygments_lexer": "ipython3",
   "version": "3.12.3"
  }
 },
 "nbformat": 4,
 "nbformat_minor": 2
}
