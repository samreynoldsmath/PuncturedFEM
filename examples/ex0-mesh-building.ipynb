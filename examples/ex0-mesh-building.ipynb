{
 "cells": [
  {
   "cell_type": "markdown",
   "metadata": {},
   "source": [
    "# Example 0: Mesh Construction\n",
    "### Sam Reynolds, 2023\n",
    "\n",
    "This tutorial introduces the construction and manipulation of curvilinear \n",
    "meshes.\n",
    "\n",
    "A `PlanarMesh` object is fundamentally a list of curvilinear `Edge` objects.\n",
    "Each edge consists of a pair of vertices and enough information to \n",
    "parameterize the edge as a curve in the plane. Each edge also is assigned to \n",
    "two mesh cells to which the edge is part of the boundary. \n",
    "One of these cells is taken to be \"positive\" and the other \"negative.\"\n",
    "For the positive cell, the edge is oriented counterclockwise if it lies on the \n",
    "outer boundary of the cell (i.e. the edge is not the boundary of a hole in the\n",
    "cell), and clockwise otherwise. For the negative cell, the opposite is true.\n",
    "In this fashion, the entire mesh can be constructed from a list of edges.\n",
    "\n",
    "We begin by importing the `puncturedfem` package, \n",
    "as well as `numpy` and `matplotlib` for the sake of this example."
   ]
  },
  {
   "cell_type": "code",
   "execution_count": null,
   "metadata": {},
   "outputs": [],
   "source": [
    "import sys\n",
    "import os\n",
    "\n",
    "current_dir = os.getcwd()\n",
    "parent_dir = os.path.abspath(os.path.join(current_dir, \"..\"))\n",
    "sys.path.append(parent_dir)\n",
    "\n",
    "import puncturedfem as pf\n",
    "import numpy as np\n",
    "import matplotlib.pyplot as plt"
   ]
  },
  {
   "cell_type": "markdown",
   "metadata": {},
   "source": [
    "## Creating an edge\n",
    "The simplest type of edge is a straight line segment, which is the default\n",
    "when initializing an `Edge` object."
   ]
  },
  {
   "cell_type": "code",
   "execution_count": null,
   "metadata": {},
   "outputs": [],
   "source": [
    "# define vertices\n",
    "v1 = pf.Vert(x=0.0, y=0.0)\n",
    "v2 = pf.Vert(x=1.0, y=2.0)\n",
    "\n",
    "# define a straight edge\n",
    "e1 = pf.Edge(v1, v2)"
   ]
  },
  {
   "cell_type": "markdown",
   "metadata": {},
   "source": [
    "For curvilinear edges, we can supply additional arguments to define the edge.\n",
    "The `curvetype` string is the name of a module located in\n",
    "```puncturedfem/mesh/edgelib```\n",
    "where the functions defining the parameterization of this curve are located.\n",
    "We can also pass in any keyword arguments used to define the edge.\n",
    "\n",
    "For instance, we can create a circular arc corresponding to a $120^\\circ$ angle\n",
    "as follows:"
   ]
  },
  {
   "cell_type": "code",
   "execution_count": null,
   "metadata": {},
   "outputs": [],
   "source": [
    "# create a circular arc\n",
    "e2 = pf.Edge(v1, v2, curve_type=\"circular_arc_deg\", theta0=120)"
   ]
  },
  {
   "cell_type": "markdown",
   "metadata": {},
   "source": [
    "Some of the common `curvetype`s used in these examples are\n",
    "\n",
    "|`curvetype` \t\t| keyword argument(s) \t|\n",
    "|-------------------|-----------------------|\n",
    "|`'circle'`\t\t\t| `'radius'`\t\t\t|\n",
    "|`'circular_arc'`\t| `'theta0'`\t\t\t|\n",
    "|`'ellipse'`\t\t|`'a'`, `'b'`\t\t\t|\n",
    "|`'line'`\t\t\t|\t\t\t\t\t\t|\n",
    "|`'sine_wave'`\t\t|`'amp'`, `'freq'`\t\t|\n",
    "\n",
    "To define a custom `curvetype`, see the appendix at the end of this notebook."
   ]
  },
  {
   "cell_type": "markdown",
   "metadata": {},
   "source": [
    "## `Quad` objects\n",
    "To create the points $0=t_0 < t_1 < \\cdots < t_{2n}=2\\pi$ where $x(t)$ \n",
    "will be sampled, we will create a `QuadDict` object using the `get_quad_dict()` function.\n",
    "The `QuadDict` object is a dictionary containing `Quad` objects, which are used to sample the curve parameterization.\n",
    "It also contains an interpolation parameter, which will be discussed later."
   ]
  },
  {
   "cell_type": "code",
   "execution_count": null,
   "metadata": {},
   "outputs": [],
   "source": [
    "quad_dict = pf.get_quad_dict(n=32)\n",
    "print(quad_dict)"
   ]
  },
  {
   "cell_type": "markdown",
   "metadata": {},
   "source": [
    "The points for the trapezoidal (`\"trap\"`) quadrature scheme are,\n",
    "of course, sampled at equidistant nodes \n",
    "$t_k = hk$, where $h=\\pi / n$ for a chosen natural number $n$."
   ]
  },
  {
   "cell_type": "code",
   "execution_count": null,
   "metadata": {},
   "outputs": [],
   "source": [
    "plt.figure()\n",
    "plt.plot(quad_dict[\"trap\"].t, \"k.\")\n",
    "plt.title(\"Trapezoid quadrature points\")\n",
    "plt.grid(\"on\")\n",
    "plt.show()"
   ]
  },
  {
   "cell_type": "markdown",
   "metadata": {},
   "source": [
    "The Kress (`\"kress\"`) quadrature should always be used to parameterized edges that terminate at a corner.\n",
    "Since this is the most common case in practice, it is the default method to parameterize an edge.\n",
    "We can see that the Kress scheme samples points more heavily near the endpoints: "
   ]
  },
  {
   "cell_type": "code",
   "execution_count": null,
   "metadata": {},
   "outputs": [],
   "source": [
    "plt.figure()\n",
    "plt.plot(quad_dict[\"kress\"].t, \"k.\")\n",
    "plt.title(\"Kress quadrature points\")\n",
    "plt.grid(\"on\")\n",
    "plt.show()"
   ]
  },
  {
   "cell_type": "markdown",
   "metadata": {},
   "source": [
    "## Parameterizing an `Edge` object\n",
    "We are now prepared to parameterize our edges."
   ]
  },
  {
   "cell_type": "code",
   "execution_count": null,
   "metadata": {},
   "outputs": [],
   "source": [
    "e1.parameterize(quad_dict)\n",
    "e2.parameterize(quad_dict)"
   ]
  },
  {
   "cell_type": "markdown",
   "metadata": {},
   "source": [
    "We can plot the edges using the `MeshPlot` class:"
   ]
  },
  {
   "cell_type": "code",
   "execution_count": null,
   "metadata": {},
   "outputs": [],
   "source": [
    "pf.plot.MeshPlot([e1, e2]).draw()"
   ]
  },
  {
   "cell_type": "markdown",
   "metadata": {},
   "source": [
    "We can visualize the orientation of each edge by setting the \n",
    "`show_orientation` keyword argument to `True`. \n",
    "We can also introduce grid lines by setting the `show_grid` keyword argument\n",
    "to `True`."
   ]
  },
  {
   "cell_type": "code",
   "execution_count": null,
   "metadata": {},
   "outputs": [],
   "source": [
    "pf.plot.MeshPlot([e1, e2]).draw(show_orientation=True, show_grid=True)"
   ]
  },
  {
   "cell_type": "markdown",
   "metadata": {},
   "source": [
    "## Creating a mesh\n",
    "\n",
    "First we begin by defining the vertices of the mesh."
   ]
  },
  {
   "cell_type": "code",
   "execution_count": null,
   "metadata": {},
   "outputs": [],
   "source": [
    "verts: list[pf.Vert] = []\n",
    "\n",
    "# rectangle corners\n",
    "verts.append(pf.Vert(x=0.0, y=0.0))  # 0\n",
    "verts.append(pf.Vert(x=1.0, y=0.0))  # 1\n",
    "verts.append(pf.Vert(x=3.0, y=0.0))  # 2\n",
    "verts.append(pf.Vert(x=4.0, y=0.0))  # 3\n",
    "verts.append(pf.Vert(x=4.0, y=1.0))  # 4\n",
    "verts.append(pf.Vert(x=3.0, y=1.0))  # 5\n",
    "verts.append(pf.Vert(x=1.0, y=1.0))  # 6\n",
    "verts.append(pf.Vert(x=0.0, y=1.0))  # 7\n",
    "\n",
    "# pacman\n",
    "pacman_scale = 0.4\n",
    "verts.append(pf.Vert(x=0.5, y=0.5))  # 8\n",
    "verts.append(\n",
    "    pf.Vert(x=0.5 + pacman_scale * (np.sqrt(3) / 2), y=0.5 + pacman_scale * 0.5)\n",
    ")  # 9\n",
    "verts.append(\n",
    "    pf.Vert(x=0.5 + pacman_scale * (np.sqrt(3) / 2), y=0.5 - pacman_scale * 0.5)\n",
    ")  # 10\n",
    "verts.append(\n",
    "    pf.Vert(x=0.5 + pacman_scale * -0.1, y=0.5 + pacman_scale * 0.5)\n",
    ")  # 11\n",
    "\n",
    "# dots\n",
    "verts.append(pf.Vert(x=1.5, y=0.5))  # 12\n",
    "verts.append(pf.Vert(x=2.0, y=0.5))  # 13\n",
    "verts.append(pf.Vert(x=2.5, y=0.5))  # 14\n",
    "\n",
    "# ghost\n",
    "ghost_scale = 0.6\n",
    "ghost_x_shift = 3.5\n",
    "ghost_y_shift = 0.5\n",
    "verts.append(\n",
    "    pf.Vert(\n",
    "        x=ghost_x_shift + ghost_scale * (-0.5),\n",
    "        y=ghost_y_shift + ghost_scale * (-0.6),\n",
    "    )\n",
    ")  # 15\n",
    "verts.append(\n",
    "    pf.Vert(\n",
    "        x=ghost_x_shift + ghost_scale * (0.5),\n",
    "        y=ghost_y_shift + ghost_scale * (-0.6),\n",
    "    )\n",
    ")  # 16\n",
    "verts.append(\n",
    "    pf.Vert(\n",
    "        x=ghost_x_shift + ghost_scale * (0.5),\n",
    "        y=ghost_y_shift + ghost_scale * (0.2),\n",
    "    )\n",
    ")  # 17\n",
    "verts.append(\n",
    "    pf.Vert(\n",
    "        x=ghost_x_shift + ghost_scale * (-0.5),\n",
    "        y=ghost_y_shift + ghost_scale * (0.2),\n",
    "    )\n",
    ")  # 18\n",
    "verts.append(\n",
    "    pf.Vert(\n",
    "        x=ghost_x_shift + ghost_scale * (-0.25),\n",
    "        y=ghost_y_shift + ghost_scale * (0.1),\n",
    "    )\n",
    ")  # 19\n",
    "verts.append(\n",
    "    pf.Vert(\n",
    "        x=ghost_x_shift + ghost_scale * (0.25),\n",
    "        y=ghost_y_shift + ghost_scale * (0.1),\n",
    "    )\n",
    ")  # 20"
   ]
  },
  {
   "cell_type": "markdown",
   "metadata": {},
   "source": [
    "We need to label our vertices:"
   ]
  },
  {
   "cell_type": "code",
   "execution_count": null,
   "metadata": {},
   "outputs": [],
   "source": [
    "# TODO: future versions should do this automatically.\n",
    "for k in range(len(verts)):\n",
    "    verts[k].set_idx(k)"
   ]
  },
  {
   "cell_type": "markdown",
   "metadata": {},
   "source": [
    "Let's visualized these points:"
   ]
  },
  {
   "cell_type": "code",
   "execution_count": null,
   "metadata": {},
   "outputs": [],
   "source": [
    "plt.figure()\n",
    "for v in verts:\n",
    "    plt.plot(v.x, v.y, \"ko\")\n",
    "plt.axis(\"equal\")\n",
    "plt.grid(\"on\")\n",
    "plt.show()"
   ]
  },
  {
   "cell_type": "markdown",
   "metadata": {},
   "source": [
    "Next, we define the edges.\n",
    "The parameter `pos_cell_idx` is the index of the cell with this edge oriented\n",
    "counterclockwise on the outer boundary (or clockwise if on a hole boundary).\n",
    "In the event that this edge lies on the boundary of the domain and there is \n",
    "no such cell, `pos_cell_idx = -1` is taken as the default argument.\n",
    "The `neg_cell_idx` is the index of the cell where the opposite is true. "
   ]
  },
  {
   "cell_type": "code",
   "execution_count": null,
   "metadata": {},
   "outputs": [],
   "source": [
    "edges: list[pf.Edge] = []\n",
    "\n",
    "# rectangles\n",
    "edges.append(pf.Edge(verts[0], verts[1], pos_cell_idx=0))\n",
    "edges.append(pf.Edge(verts[1], verts[2], pos_cell_idx=3))\n",
    "edges.append(pf.Edge(verts[2], verts[3], pos_cell_idx=7))\n",
    "edges.append(pf.Edge(verts[3], verts[4], pos_cell_idx=7))\n",
    "edges.append(pf.Edge(verts[4], verts[5], pos_cell_idx=7))\n",
    "edges.append(pf.Edge(verts[5], verts[6], pos_cell_idx=3))\n",
    "edges.append(pf.Edge(verts[6], verts[7], pos_cell_idx=0))\n",
    "edges.append(pf.Edge(verts[7], verts[0], pos_cell_idx=0))\n",
    "edges.append(pf.Edge(verts[1], verts[6], pos_cell_idx=0, neg_cell_idx=3))\n",
    "edges.append(pf.Edge(verts[2], verts[5], pos_cell_idx=3, neg_cell_idx=7))\n",
    "\n",
    "# pacman\n",
    "edges.append(pf.Edge(verts[8], verts[9], pos_cell_idx=1, neg_cell_idx=0))\n",
    "edges.append(\n",
    "    pf.Edge(\n",
    "        verts[9],\n",
    "        verts[10],\n",
    "        pos_cell_idx=1,\n",
    "        neg_cell_idx=0,\n",
    "        curve_type=\"circular_arc_deg\",\n",
    "        theta0=300,\n",
    "    )\n",
    ")\n",
    "edges.append(pf.Edge(verts[10], verts[8], pos_cell_idx=1, neg_cell_idx=0))\n",
    "edges.append(\n",
    "    pf.Edge(\n",
    "        verts[11],\n",
    "        verts[11],\n",
    "        pos_cell_idx=2,\n",
    "        neg_cell_idx=1,\n",
    "        curve_type=\"circle\",\n",
    "        radius=0.25 * pacman_scale,\n",
    "    )\n",
    ")\n",
    "\n",
    "# dots\n",
    "edges.append(\n",
    "    pf.Edge(\n",
    "        verts[12],\n",
    "        verts[12],\n",
    "        pos_cell_idx=4,\n",
    "        neg_cell_idx=3,\n",
    "        curve_type=\"circle\",\n",
    "        radius=0.1,\n",
    "    )\n",
    ")\n",
    "edges.append(\n",
    "    pf.Edge(\n",
    "        verts[13],\n",
    "        verts[13],\n",
    "        pos_cell_idx=5,\n",
    "        neg_cell_idx=3,\n",
    "        curve_type=\"circle\",\n",
    "        radius=0.1,\n",
    "    )\n",
    ")\n",
    "edges.append(\n",
    "    pf.Edge(\n",
    "        verts[14],\n",
    "        verts[14],\n",
    "        pos_cell_idx=6,\n",
    "        neg_cell_idx=3,\n",
    "        curve_type=\"circle\",\n",
    "        radius=0.1,\n",
    "    )\n",
    ")\n",
    "\n",
    "# ghost\n",
    "edges.append(\n",
    "    pf.Edge(\n",
    "        verts[15],\n",
    "        verts[16],\n",
    "        pos_cell_idx=8,\n",
    "        neg_cell_idx=7,\n",
    "        curve_type=\"sine_wave\",\n",
    "        amp=0.1,\n",
    "        freq=6,\n",
    "    )\n",
    ")\n",
    "edges.append(pf.Edge(verts[16], verts[17], pos_cell_idx=8, neg_cell_idx=7))\n",
    "edges.append(\n",
    "    pf.Edge(\n",
    "        verts[17],\n",
    "        verts[18],\n",
    "        pos_cell_idx=8,\n",
    "        neg_cell_idx=7,\n",
    "        curve_type=\"circular_arc_deg\",\n",
    "        theta0=180,\n",
    "    )\n",
    ")\n",
    "edges.append(pf.Edge(verts[18], verts[15], pos_cell_idx=8, neg_cell_idx=7))\n",
    "edges.append(\n",
    "    pf.Edge(\n",
    "        verts[19],\n",
    "        verts[19],\n",
    "        pos_cell_idx=9,\n",
    "        neg_cell_idx=8,\n",
    "        curve_type=\"ellipse\",\n",
    "        a=0.15 * ghost_scale,\n",
    "        b=0.2 * ghost_scale,\n",
    "    )\n",
    ")\n",
    "edges.append(\n",
    "    pf.Edge(\n",
    "        verts[20],\n",
    "        verts[20],\n",
    "        pos_cell_idx=10,\n",
    "        neg_cell_idx=8,\n",
    "        curve_type=\"ellipse\",\n",
    "        a=0.15 * ghost_scale,\n",
    "        b=0.2 * ghost_scale,\n",
    "    )\n",
    ")"
   ]
  },
  {
   "cell_type": "markdown",
   "metadata": {},
   "source": [
    "With all of the edges of the mesh defined, we are prepared to define a\n",
    "`planar_mesh` object."
   ]
  },
  {
   "cell_type": "code",
   "execution_count": null,
   "metadata": {},
   "outputs": [],
   "source": [
    "T = pf.PlanarMesh(edges)"
   ]
  },
  {
   "cell_type": "markdown",
   "metadata": {},
   "source": [
    "Let's visualize the mesh skeleton, but first we should remember to parameterize\n",
    "the edges."
   ]
  },
  {
   "cell_type": "code",
   "execution_count": null,
   "metadata": {},
   "outputs": [],
   "source": [
    "# parameterize all edges of the mesh\n",
    "for e in T.edges:\n",
    "    e.parameterize(quad_dict)\n",
    "\n",
    "# plot the skeleton\n",
    "pf.plot.MeshPlot(T.edges).draw(show_axis=False)"
   ]
  },
  {
   "cell_type": "markdown",
   "metadata": {},
   "source": [
    "Moreover, we can visualize an individual cell of the mesh:"
   ]
  },
  {
   "cell_type": "code",
   "execution_count": null,
   "metadata": {},
   "outputs": [],
   "source": [
    "cell_idx = 8\n",
    "K = T.get_cells(cell_idx)\n",
    "pf.plot.MeshPlot(K.get_edges()).draw()"
   ]
  },
  {
   "cell_type": "markdown",
   "metadata": {},
   "source": [
    "## Appendix: Defining a custom `curvetype`\n",
    "An edge $e$ is taken to be a $C^2$ smooth curve in $\\mathbb{R}^2$\n",
    "parameterized by $x(t)$ for $0\\leq t\\leq 2\\pi$.\n",
    "We refer to $x(0)$ as the *anchor point* and $x(2\\pi)$ as the \n",
    "*terminal point*, and $x(0),x(2\\pi)$ are referred to collectively as the \n",
    "*endpoints*. We make the following assumptions:\n",
    "* The edge $e$ is nontrivial: $e$ is not a single point.\n",
    "* The edge $e$ is nonselfintersecting: $x(t_1)\\neq x(t_2)$ \n",
    "  for all $0<t_1<t_2<2\\pi$.\n",
    "* $x(\\cdot)$ is regularizable: there is some fixed $\\sigma>0$ such that\n",
    "  $|x'(t)|\\geq\\sigma$ for all $0 < t < 2\\pi$.\n",
    "\n",
    "In the event that we need an edge that is not provided in the \n",
    "`puncturedfem/mesh/edgelib` folder,\n",
    "we can add to the edge library as follows. \n",
    "1. Create a file `puncturedfem/mesh/edgelib/mycurve.py`, where `mycurve` will\n",
    "   be the name of the curve that will be called during the initialization \n",
    "   of the edge object. \n",
    "2. Import the `numpy` package.\n",
    "3. In `mycurve.py`, define three functions called `X()`, `DX()`, and `DDX()`.\n",
    "   These will define $x(t)$, $x'(t)$, and $x''(t)$ respectively.\n",
    "4. Each of these three functions will return a $2\\times (2n+1)$ array,\n",
    "   where $2n+1$ is the number of sampled points specified by the chosen\n",
    "   `Quad` object.\n",
    "5. Row 0 of each array contains the $x_1$ component, and row 1 contains the \n",
    "   $x_2$ component.\n",
    "6. Unpack any additional arguments from `**kwargs`.\n",
    "\n",
    "The contents of `mycurve.py` will look generically like the following:\n",
    "```python\n",
    "\"\"\"\n",
    "A short description of the curve.\n",
    "\n",
    "A description of any parameters that are used.\n",
    "\"\"\"\n",
    "\n",
    "import numpy as np\n",
    "\n",
    "def X(t, **kwargs):\n",
    "\n",
    "   my_parameter = kwargs[\"my_parameter\"]\n",
    "\n",
    "   x = np.zeros((2,len(t)))\n",
    "   x[0,:] = \t# the x_1 component\n",
    "   x[1,:] = \t# the x_2 component\n",
    "\n",
    "   return x\n",
    "\n",
    "def DX(t, **kwargs):\n",
    "\n",
    "   my_parameter = kwargs[\"my_parameter\"]\n",
    "\n",
    "   dx = np.zeros((2,len(t)))\n",
    "   dx[0,:] = \t# the derivative of the x_1 component wrt t\n",
    "   dx[1,:] = \t# the derivative of the x_2 component wrt t\n",
    "\n",
    "   return dx\n",
    "\n",
    "def DDX(t, **kwargs):\n",
    "\n",
    "   my_parameter = kwargs[\"my_parameter\"]\n",
    "\n",
    "   ddx = np.zeros((2,len(t)))\n",
    "   ddx[0,:] = \t# the second derivative of the x_1 component wrt t\n",
    "   ddx[1,:] = \t# the second derivative of the x_2 component wrt t\n",
    "\n",
    "   return ddx\n",
    "```"
   ]
  }
 ],
 "metadata": {
  "kernelspec": {
   "display_name": "Python 3",
   "language": "python",
   "name": "python3"
  },
  "language_info": {
   "codemirror_mode": {
    "name": "ipython",
    "version": 3
   },
   "file_extension": ".py",
   "mimetype": "text/x-python",
   "name": "python",
   "nbconvert_exporter": "python",
   "pygments_lexer": "ipython3",
   "version": "3.11.6"
  },
  "orig_nbformat": 4,
  "vscode": {
   "interpreter": {
    "hash": "916dbcbb3f70747c44a77c7bcd40155683ae19c65e1c03b4aa3499c5328201f1"
   }
  }
 },
 "nbformat": 4,
 "nbformat_minor": 2
}
