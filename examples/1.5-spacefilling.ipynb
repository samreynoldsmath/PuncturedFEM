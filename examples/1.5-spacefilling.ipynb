{
 "cells": [
  {
   "cell_type": "markdown",
   "metadata": {},
   "source": [
    "# Example 1.5: Spacefilling Curve\n",
    "### Zack Kenyon, 2024\n",
    "\n",
    "The curve below is part of a family of $C^2$, nonself-intersecting curves whose limit is surjective on the equilateral triangle. "
   ]
  },
  {
   "cell_type": "code",
   "execution_count": null,
   "metadata": {},
   "outputs": [],
   "source": [
    "import puncturedfem as pf\n",
    "import numpy as np"
   ]
  },
  {
   "cell_type": "code",
   "execution_count": null,
   "metadata": {},
   "outputs": [],
   "source": [
    "family_param = 3"
   ]
  },
  {
   "cell_type": "code",
   "execution_count": null,
   "metadata": {},
   "outputs": [],
   "source": [
    "# accepts the vertices of a triangle to find the coordinates of a space filling curve\n",
    "def SFC(A, B, C, n, p):\n",
    "    # switch on the top 2 bits of n.\n",
    "    if p == 0:\n",
    "        return [\n",
    "            2 * A / 3 + (A + B + C) / 9,\n",
    "            2 * (A / 6 + 2 * B / 3 + C / 6) / 3 + (A + B + C) / 9,\n",
    "            2 * C / 3 + (A + B + C) / 9,\n",
    "        ]\n",
    "\n",
    "    switch = n >> 2 * (p - 1) & 3\n",
    "\n",
    "    if switch == 0:\n",
    "        return SFC(A, (A + C) / 2, (A + B) / 2, n, p - 1)\n",
    "    elif switch == 1:\n",
    "        return SFC((A + B) / 2, B, (C + B) / 2, n, p - 1)\n",
    "    elif switch == 2:\n",
    "        return SFC((B + C) / 2, (A + B) / 2, (A + C) / 2, n, p - 1)\n",
    "    elif switch == 3:\n",
    "        return SFC((A + C) / 2, (B + C) / 2, C, n, p - 1)\n",
    "\n",
    "\n",
    "idxs = np.arange(3 * 4**family_param)\n",
    "A = np.array([0, 0])\n",
    "B = np.array([1.0 / 2, np.sqrt(3) / 2])\n",
    "C = np.array([1, 0])\n",
    "D = (A + B + C) / 3\n",
    "A_ = (1 - 1 / 4**family_param) * A + 1 / 4**family_param * D\n",
    "B_ = (1 - 1 / 4**family_param) * B + 1 / 4**family_param * D\n",
    "C_ = (1 - 1 / 4**family_param) * C + 1 / 4**family_param * D\n",
    "\n",
    "\n",
    "def myfun_x(n):\n",
    "    return SFC(A_, B_, C_, n // 3, family_param)[n % 3][0]\n",
    "\n",
    "\n",
    "def myfun_y(n):\n",
    "    return SFC(A_, B_, C_, n // 3, family_param)[n % 3][1]\n",
    "\n",
    "\n",
    "xs = np.append(\n",
    "    [0, A_[0]], np.append(np.array([myfun_x(n) for n in idxs]), [C_[0], 1])\n",
    ")\n",
    "ys = np.append([0, 0], np.append(np.array([myfun_y(n) for n in idxs]), [0, 0]))"
   ]
  },
  {
   "cell_type": "markdown",
   "metadata": {},
   "source": [
    "## Construct the mesh cell\n"
   ]
  },
  {
   "cell_type": "code",
   "execution_count": null,
   "metadata": {},
   "outputs": [],
   "source": [
    "vA = pf.Vert(0, 0, 0)\n",
    "vB = pf.Vert(1 / 2, np.sqrt(3) / 2, 1)\n",
    "vC = pf.Vert(1, 0, 2)\n",
    "badedge = pf.Edge(vA, vC, curve_type=\"spline\", pos_cell_idx=0, pts=[xs, ys])\n",
    "\n",
    "\n",
    "def Bd(edge, n, l, r):\n",
    "    if n <= 0:\n",
    "        return [edge]\n",
    "    e0, e1 = pf.split_edge(e=edge, t_split=(l + r) / 2)\n",
    "    return Bd(e0, n - 1, l, (l + r) / 2) + Bd(e1, n - 1, (l + r) / 2, r)\n",
    "\n",
    "\n",
    "edges = Bd(badedge, 2 * (family_param - 1), 0, 2 * np.pi) + [\n",
    "    pf.Edge(vC, vB, pos_cell_idx=0, idx=1),\n",
    "    pf.Edge(vB, vA, pos_cell_idx=0, idx=2),\n",
    "]"
   ]
  },
  {
   "cell_type": "markdown",
   "metadata": {},
   "source": [
    "With the edges defined, let's make the mesh cell $K$."
   ]
  },
  {
   "cell_type": "code",
   "execution_count": null,
   "metadata": {},
   "outputs": [],
   "source": [
    "K = pf.MeshCell(idx=0, edges=edges)"
   ]
  },
  {
   "cell_type": "markdown",
   "metadata": {},
   "source": [
    "Let's parameterize the edges, and plot the edges to check that we have what we \n",
    "want. These curves are a little too close to the boundary, and we can fix that easily, but we'll ignore it for the moment"
   ]
  },
  {
   "cell_type": "code",
   "execution_count": null,
   "metadata": {},
   "outputs": [],
   "source": [
    "quad_dict = pf.get_quad_dict(n=64, p=7)\n",
    "K.parameterize(quad_dict, compute_interior_points=True)\n",
    "pf.plot.MeshPlot(K.get_edges()).draw()"
   ]
  },
  {
   "cell_type": "code",
   "execution_count": null,
   "metadata": {},
   "outputs": [],
   "source": [
    "max_curvature = 0\n",
    "for contour in K.components:\n",
    "    for edge in contour.edges:\n",
    "        max_curvature = max(max_curvature, max(edge.curvature))\n",
    "print(f\"{max_curvature:.4e}\")"
   ]
  },
  {
   "cell_type": "markdown",
   "metadata": {},
   "source": [
    "## Construct a basis of the local Poisson space\n",
    "Since we have subdivided the bad edge, we must build our *bad* basis functions for $V_p^{\\partial K}$ by hand. "
   ]
  },
  {
   "cell_type": "code",
   "execution_count": null,
   "metadata": {},
   "outputs": [],
   "source": [
    "z0 = vA.get_coord_array()\n",
    "z1 = vC.get_coord_array()\n",
    "z2 = vB.get_coord_array()\n",
    "print(z0, z1, z2)\n",
    "\n",
    "bc = pf.barycentric_coordinates(z0, z1, z2)\n",
    "for poly in bc:\n",
    "    print(poly)"
   ]
  },
  {
   "cell_type": "code",
   "execution_count": null,
   "metadata": {},
   "outputs": [],
   "source": [
    "nyst = pf.NystromSolver(K, verbose=True)"
   ]
  },
  {
   "cell_type": "code",
   "execution_count": null,
   "metadata": {},
   "outputs": [],
   "source": [
    "basis: list[pf.LocalPoissonFunction] = []\n",
    "\n",
    "# vertex functions\n",
    "for j in range(3):\n",
    "    trace = pf.DirichletTrace(edges=K.get_edges(), funcs=bc[j])\n",
    "    phi = pf.LocalPoissonFunction(nyst=nyst, trace=trace)\n",
    "    basis.append(phi)\n",
    "\n",
    "# edge function trace is the trace of the barycentric coordinate of vertex vB,\n",
    "# on all edges except 2\n",
    "edge_fun_trace = pf.DirichletTrace(edges=K.get_edges(), funcs=bc[2])\n",
    "straight_edge_indices = [K.num_edges - 2, K.num_edges - 1]\n",
    "for edge_idx in straight_edge_indices:\n",
    "    edge_fun_trace.set_trace_values_on_edge(edge_index=edge_idx, values=0.0)\n",
    "\n",
    "# add edge function to the basis\n",
    "phi = pf.LocalPoissonFunction(nyst=nyst, trace=edge_fun_trace)\n",
    "basis.append(phi)"
   ]
  },
  {
   "cell_type": "markdown",
   "metadata": {},
   "source": [
    "## Plot the basis functions "
   ]
  },
  {
   "cell_type": "code",
   "execution_count": null,
   "metadata": {},
   "outputs": [],
   "source": [
    "for j, phi in enumerate(basis):\n",
    "    pf.plot.TracePlot(\n",
    "        traces=phi.get_trace_values(),\n",
    "        K=K,\n",
    "        quad_dict=quad_dict,\n",
    "        title=f\"phi_{j} trace\",\n",
    "    ).draw()\n",
    "    pf.plot.LocalFunctionPlot(phi).draw(title=f\"phi_{j} interior values\")"
   ]
  },
  {
   "cell_type": "markdown",
   "metadata": {},
   "source": [
    "## Compute the local stiffness matrix"
   ]
  },
  {
   "cell_type": "code",
   "execution_count": null,
   "metadata": {},
   "outputs": [],
   "source": [
    "mat = np.zeros((4, 4))\n",
    "for i, vi in enumerate(basis):\n",
    "    for j, vj in enumerate(basis):\n",
    "        mat[i][j] = vi.get_h1_semi_inner_prod(vj)\n",
    "print(mat)\n",
    "\n",
    "# ensure mat is perfectly symmetric\n",
    "mat = (mat + np.transpose(mat)) / 2\n",
    "\n",
    "# compute the eigenvalues\n",
    "eigvals = np.linalg.eigvalsh(mat)\n",
    "print(eigvals)\n",
    "\n",
    "# ratio between smallest and largest nonzero eigenvalues\n",
    "lam_min = eigvals[1]\n",
    "lam_max = eigvals[-1]\n",
    "ratio = lam_max / lam_min\n",
    "print(f\"family_param = {family_param}\")\n",
    "print(f\"lam_min = {lam_min:.4e}\")\n",
    "print(f\"lam_max = {lam_max:.4e}\")\n",
    "print(f\"ratio = {ratio:.4e}\")"
   ]
  },
  {
   "cell_type": "markdown",
   "metadata": {},
   "source": [
    "|family_param|lam_min   |lam_max   |ratio     |\n",
    "|------------|----------|----------|----------|\n",
    "|1           |4.8512e-01|2.3926e+00|4.9320e+00|\n",
    "|2           |4.3987e-01|1.0488e+01|2.3844e+01|\n",
    "|3           |4.3339e-01|2.9451e+01|6.7955e+01|"
   ]
  }
 ],
 "metadata": {
  "kernelspec": {
   "display_name": "Python 3 (ipykernel)",
   "language": "python",
   "name": "python3"
  },
  "language_info": {
   "codemirror_mode": {
    "name": "ipython",
    "version": 3
   },
   "file_extension": ".py",
   "mimetype": "text/x-python",
   "name": "python",
   "nbconvert_exporter": "python",
   "pygments_lexer": "ipython3",
   "version": "3.9.19"
  }
 },
 "nbformat": 4,
 "nbformat_minor": 4
}
