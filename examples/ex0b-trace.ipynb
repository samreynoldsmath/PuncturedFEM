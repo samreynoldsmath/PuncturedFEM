{
 "cells": [
  {
   "cell_type": "markdown",
   "metadata": {},
   "source": [
    "# Example 0.B: Dirichlet Traces\n",
    "### Sam Reynolds, 2024\n",
    "\n",
    "**NOTE:** This tutorial is a work in progress. Check back soon for updates.\n",
    "\n",
    "This tutorial introduces the `DirchletTrace` class, which is used to define the trace of a function on a collection of edges. In practice, we can use `DirichletTrace` objects to define the Dirichlet trace $v|_{\\partial K}$ of a local function $v \\in V_p(K)$, or the Dirichlet trace $w|_{\\partial \\Omega}$ of a global function $w \\in V_p(\\Omega_h)$ where $\\Omega_h$ is a mesh of $\\Omega$.\n",
    "\n",
    "## Table of Contents\n",
    "asdf\n",
    "\n",
    "## Introduction\n",
    "Let's begin by importing the appropriate packages and defining some edges."
   ]
  },
  {
   "cell_type": "code",
   "execution_count": 1,
   "metadata": {},
   "outputs": [
    {
     "data": {
      "image/png": "[encoded data removed]",
      "text/plain": [
       "<Figure size 400x400 with 1 Axes>"
      ]
     },
     "metadata": {},
     "output_type": "display_data"
    }
   ],
   "source": [
    "import sys\n",
    "import os\n",
    "\n",
    "current_dir = os.getcwd()\n",
    "parent_dir = os.path.abspath(os.path.join(current_dir, \"..\"))\n",
    "sys.path.append(parent_dir)\n",
    "\n",
    "import puncturedfem as pf\n",
    "\n",
    "# define quadrature schemes\n",
    "quad_dict = pf.get_quad_dict(n=64)\n",
    "\n",
    "# define vertices\n",
    "verts: list[pf.Vert] = []\n",
    "verts.append(pf.Vert(x=0.0, y=0.0))\n",
    "verts.append(pf.Vert(x=1.0, y=0.0))\n",
    "verts.append(pf.Vert(x=1.0, y=1.0))\n",
    "verts.append(pf.Vert(x=0.0, y=1.0))\n",
    "verts.append(pf.Vert(x=0.5, y=0.5))  # center of circle\n",
    "\n",
    "# define edges\n",
    "edges: list[pf.Edge] = []\n",
    "edges.append(pf.Edge(verts[0], verts[1], pos_cell_idx=0))\n",
    "edges.append(pf.Edge(verts[1], verts[2], pos_cell_idx=0))\n",
    "edges.append(pf.Edge(verts[2], verts[3], pos_cell_idx=0))\n",
    "edges.append(pf.Edge(verts[3], verts[0], pos_cell_idx=0))\n",
    "edges.append(\n",
    "    pf.Edge(\n",
    "        verts[4],\n",
    "        verts[4],\n",
    "        neg_cell_idx=0,\n",
    "        curve_type=\"circle\",\n",
    "        quad_type=\"trap\",\n",
    "        radius=0.25,\n",
    "    )\n",
    ")\n",
    "\n",
    "# define mesh cell\n",
    "K = pf.MeshCell(idx=0, edges=edges)\n",
    "\n",
    "# parameterize edges\n",
    "K.parameterize(quad_dict)\n",
    "\n",
    "# plot boundary\n",
    "pf.plot.MeshPlot(K.get_edges()).draw()"
   ]
  },
  {
   "cell_type": "markdown",
   "metadata": {},
   "source": [
    "## Declaring a `DirichletTrace` object\n",
    "The `DirichletTrace` class must be initialized with the `edges` argument, which can either be:\n",
    "- a list of `Edge` objects\n",
    "- a `MeshCell` object\n",
    "The `custom` flag indicates that we will build the trace manually, rather than using automatic methods.\n",
    "\n",
    "**NOTE:** The automatic methods are not yet implemented."
   ]
  },
  {
   "cell_type": "code",
   "execution_count": 2,
   "metadata": {},
   "outputs": [],
   "source": [
    "# declare a Dirichlet trace with a list of edges\n",
    "v_trace = pf.DirichletTrace(edges=edges, custom=True)\n",
    "\n",
    "# which is equivalent to\n",
    "v_trace = pf.DirichletTrace(edges=K, custom=True)"
   ]
  },
  {
   "cell_type": "markdown",
   "metadata": {},
   "source": [
    "## Defining a trace with values\n",
    "The most direct way to define a trace is to provide a list of values for the trace. This is done with the `values` argument, which can be:\n",
    "- a single value, which will be applied to all edges\n",
    "- a `numpy.ndarray` of values, which must have the same length as the number of sampled points\n",
    "- a list of `numpy.ndarray` objects, with array $j$ corresponding to edge $j$ (and so must have the same length as the number of sampled points on that edge)\n",
    "**NOTE:** The number of sampled points on each edge is $2n$, where $n$ is the sampling parameter specified in the `quad_dict`. It is *not* the number `num_pts` specified in the `Edge` object, which is $2n+1$."
   ]
  },
  {
   "cell_type": "code",
   "execution_count": 3,
   "metadata": {},
   "outputs": [],
   "source": [
    "# a constant trace\n",
    "v_trace = pf.DirichletTrace(edges=K, values=1.0)\n",
    "\n",
    "# set the trace values with a numpy.ndarray\n",
    "import numpy as np\n",
    "\n",
    "vals = np.ones((K.num_pts,))\n",
    "v_trace = pf.DirichletTrace(edges=K, values=vals)\n",
    "\n",
    "# set the trace values with a list of arrays\n",
    "vals = [np.ones((e.num_pts - 1,)) for e in K.get_edges()]\n",
    "v_trace = pf.DirichletTrace(edges=K, values=vals)"
   ]
  },
  {
   "cell_type": "markdown",
   "metadata": {},
   "source": [
    "We can visualize the trace by passing it to the `TracePlot` class."
   ]
  },
  {
   "cell_type": "code",
   "execution_count": 4,
   "metadata": {},
   "outputs": [],
   "source": [
    "# TODO pass DirichletTrace object to plot.TracePlot"
   ]
  },
  {
   "cell_type": "markdown",
   "metadata": {},
   "source": [
    "### Defining values on specific edge\n",
    "Consider the local function $v \\in V_p(K)$ with the trace\n",
    "\\begin{align*}\n",
    "    v|_{\\partial K} = \n",
    "    \\begin{cases}\n",
    "        f|_{e} &\\text{on}~ e~, \\\\\n",
    "        0 &\\text{otherwise} \n",
    "    \\end{cases}\n",
    "\\end{align*}\n",
    "where $e \\subset \\partial K$ is an edge of the mesh cell $K$. For example, let's consider the function $f(x) = x_1(1-x_1)$ on the lower edge, which is edge $j = 0$."
   ]
  },
  {
   "cell_type": "code",
   "execution_count": 5,
   "metadata": {},
   "outputs": [],
   "source": [
    "# get the edge object e = e_j\n",
    "j = 0\n",
    "e = K.get_edges()[j]\n",
    "\n",
    "# define the values of the trace f|_e on a single edge\n",
    "f_e_vals = e.evaluate_function(lambda x1, x2: x1 * (1 - x1))\n",
    "\n",
    "# alternatively, we can compute f on e_j this way:\n",
    "# x1, x2 = e.get_sampled_points()\n",
    "# f_e_vals = x1 * (1 - x1)"
   ]
  },
  {
   "cell_type": "markdown",
   "metadata": {},
   "source": [
    "The most straightforward way to build the trace values of $v$ would be to initialize a trace with all zero values, and then modify the values on a single edge, which is what can be accomplished with the following:"
   ]
  },
  {
   "cell_type": "code",
   "execution_count": 6,
   "metadata": {},
   "outputs": [],
   "source": [
    "# initialize a zero boundary trace\n",
    "v_trace = pf.DirichletTrace(edges=K, values=0)\n",
    "\n",
    "# set the values of v|_e\n",
    "v_trace.set_trace_values_on_edge(edge_index=j, values=f_e_vals)"
   ]
  },
  {
   "cell_type": "markdown",
   "metadata": {},
   "source": [
    "Let's see how that looks:"
   ]
  },
  {
   "cell_type": "code",
   "execution_count": 7,
   "metadata": {},
   "outputs": [],
   "source": [
    "# TODO pass DirichletTrace object to plot.TracePlot"
   ]
  },
  {
   "cell_type": "markdown",
   "metadata": {},
   "source": [
    "### Extracting the indices of sampled points on a specific edge\n",
    "Consider a family of local functions $v_j \\in V_p(K)$ with a trace defined by\n",
    "\\begin{align*}\n",
    "    v|_{\\partial K} = \n",
    "    \\begin{cases}\n",
    "        f|_{e_j} &\\text{on}~ e_j~, \\\\\n",
    "        0 &\\text{otherwise} \n",
    "    \\end{cases}\n",
    "\\end{align*}\n",
    "where $e_j$ is edge $j$ of the mesh cell $K$.\n",
    "If the function $f$ is difficult to compute, we may have precomputed the values of $f|_{\\partial K}$ for the entire boundary and stored them in a `numpy.ndarray`.\n",
    "For example,\n",
    "\\begin{align*}\n",
    "    f(x) = [x_1 x_2 + (1 - x_1) (1 - x_2)] (x_1 + x_2)\n",
    "\\end{align*}\n",
    "which we can pretend is difficult to compute."
   ]
  },
  {
   "cell_type": "code",
   "execution_count": 8,
   "metadata": {},
   "outputs": [],
   "source": [
    "f_vals = K.evaluate_function_on_boundary(\n",
    "    lambda x1, x2: (x1 * x2 + (1 - x1) * (1 - x2)) * (x1 + x2)\n",
    ")"
   ]
  },
  {
   "cell_type": "markdown",
   "metadata": {},
   "source": [
    "We need to get the indices of the array that correspond to edge $j$, which we can do as follows:"
   ]
  },
  {
   "cell_type": "code",
   "execution_count": 9,
   "metadata": {},
   "outputs": [],
   "source": [
    "j = 2\n",
    "vj_trace = pf.DirichletTrace(edges=K, values=0)\n",
    "start, stop = vj_trace.get_edge_sampled_point_indices(edge_index=j)"
   ]
  },
  {
   "cell_type": "markdown",
   "metadata": {},
   "source": [
    "Now we are ready to set the values on edge $j$:"
   ]
  },
  {
   "cell_type": "code",
   "execution_count": 10,
   "metadata": {},
   "outputs": [],
   "source": [
    "f_e_vals = f_vals[start:stop]\n",
    "vj_trace.set_trace_values_on_edge(edge_index=j, values=f_e_vals)"
   ]
  },
  {
   "cell_type": "markdown",
   "metadata": {},
   "source": [
    "Let's try plotting the result:"
   ]
  },
  {
   "cell_type": "code",
   "execution_count": 11,
   "metadata": {},
   "outputs": [],
   "source": [
    "# TODO pass DirichletTrace object to plot.TracePlot"
   ]
  },
  {
   "cell_type": "markdown",
   "metadata": {},
   "source": [
    "## Defining a trace with functions\n",
    "Rather than compute the values of a function, store those values to an array, and then set the trace values as we did above, we instead have the option to assign a function $f_j:e_j\\subset\\mathbb{R}^2\\to\\mathbb{R}$ to the edge $e_j$. For example,\n",
    "we might choose $f_j(x) = x_1 + j x_2$. Rather than provide a list of values/arrays to the `values` argument, we instead pass a list of functions (which must be `callable` objects with two arguments) to the `DirchletTrace` constructor via the `funcs` argument."
   ]
  },
  {
   "cell_type": "code",
   "execution_count": 13,
   "metadata": {},
   "outputs": [],
   "source": [
    "# define a different function on each edge\n",
    "f_list = [lambda x1, x2: x1 + j * x2 for j in range(K.num_edges)]\n",
    "v_trace = pf.DirichletTrace(edges=K, funcs=f_list)"
   ]
  },
  {
   "cell_type": "markdown",
   "metadata": {},
   "source": [
    "Let's plot it:"
   ]
  },
  {
   "cell_type": "code",
   "execution_count": 18,
   "metadata": {},
   "outputs": [],
   "source": [
    "# TODO pass DirichletTrace object to plot.TracePlot"
   ]
  },
  {
   "cell_type": "markdown",
   "metadata": {},
   "source": [
    "If we provide just a single function, that function will be applied to all the edges:"
   ]
  },
  {
   "cell_type": "code",
   "execution_count": 15,
   "metadata": {},
   "outputs": [],
   "source": [
    "# define the same function on each edge\n",
    "v_trace = pf.DirichletTrace(edges=K, funcs=lambda x1, x2: x1 + x2)"
   ]
  },
  {
   "cell_type": "markdown",
   "metadata": {},
   "source": [
    "Above we used the `lambda` notation to define unnamed functions, but we can also pass function handles of functions defined using `def`:"
   ]
  },
  {
   "cell_type": "code",
   "execution_count": 16,
   "metadata": {},
   "outputs": [],
   "source": [
    "def f(x1, x2):\n",
    "    return x1 + x2\n",
    "\n",
    "# define a trace using a function handle\n",
    "v_trace = pf.DirichletTrace(edges=K, funcs=f)"
   ]
  },
  {
   "cell_type": "markdown",
   "metadata": {},
   "source": [
    "If you find yourself with a list of function handles, this list can also be passed with the `funcs` argument:"
   ]
  },
  {
   "cell_type": "code",
   "execution_count": 17,
   "metadata": {},
   "outputs": [],
   "source": [
    "f_list = [f for _ in range(K.num_edges)]\n",
    "\n",
    "# use a list of function handles\n",
    "v_trace = pf.DirichletTrace(edges=K, funcs=f_list)"
   ]
  },
  {
   "cell_type": "markdown",
   "metadata": {},
   "source": [
    "### Defining a trace on unparameterized edges\n",
    "If the edges have been 'parameterized' (i.e. the points for evaluation have been sampled), then `DirichletTrace` will automatically evaluate the trace functions at the sampled points on their respective edges when it is initialized. \n",
    "\n",
    "In the event that the edges have not yet been sampled, we can still define the trace by specifying the trace function(s). \n",
    "\n",
    "**TODO:**\n",
    "When the time comes to retrieve the trace values, `DirichletTrace` will check if the edges have parameterized, and if so, will evaluate the trace functions on their edges."
   ]
  },
  {
   "cell_type": "code",
   "execution_count": 19,
   "metadata": {},
   "outputs": [],
   "source": [
    "# TODO"
   ]
  },
  {
   "cell_type": "markdown",
   "metadata": {},
   "source": [
    " \n",
    "\n",
    "### Defining a trace with `Polynomial` objects"
   ]
  },
  {
   "cell_type": "markdown",
   "metadata": {},
   "source": [
    "### The `Func_R2_R` type\n"
   ]
  },
  {
   "cell_type": "markdown",
   "metadata": {},
   "source": [
    "## Defining a trace of a global function "
   ]
  },
  {
   "cell_type": "markdown",
   "metadata": {},
   "source": []
  }
 ],
 "metadata": {
  "kernelspec": {
   "display_name": "PuncturedFEM",
   "language": "python",
   "name": "python3"
  },
  "language_info": {
   "codemirror_mode": {
    "name": "ipython",
    "version": 3
   },
   "file_extension": ".py",
   "mimetype": "text/x-python",
   "name": "python",
   "nbconvert_exporter": "python",
   "pygments_lexer": "ipython3",
   "version": "3.11.6"
  }
 },
 "nbformat": 4,
 "nbformat_minor": 2
}
