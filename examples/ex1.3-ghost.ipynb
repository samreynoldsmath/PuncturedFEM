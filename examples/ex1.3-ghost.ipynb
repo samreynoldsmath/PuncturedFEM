{
 "cells": [
  {
   "attachments": {},
   "cell_type": "markdown",
   "metadata": {},
   "source": [
    "# 1.3: Ghost\n",
    "### Sam Reynolds, 2023\n",
    "\n",
    "This example computes the $H^1$ and $L^2$ (semi-)inner products of two \n",
    "functions, $v,w$ with the property that they are the sum of a harmonic \n",
    "function and a polynomial."
   ]
  },
  {
   "cell_type": "code",
   "execution_count": null,
   "metadata": {},
   "outputs": [],
   "source": [
    "import puncturedfem as pf\n",
    "import numpy as np\n",
    "import matplotlib.pyplot as plt\n",
    "\n",
    "# define quadrature schemes\n",
    "quad_dict = pf.get_quad_dict(n=64)\n",
    "\n",
    "# define vertices\n",
    "verts = []\n",
    "verts.append(pf.Vert(x=0.0, y=0.0))  # 0\n",
    "verts.append(pf.Vert(x=1.0, y=0.0))  # 1\n",
    "verts.append(pf.Vert(x=1.0, y=0.8))  # 2\n",
    "verts.append(pf.Vert(x=0.0, y=0.8))  # 3\n",
    "verts.append(pf.Vert(x=0.25, y=0.7))  # 4\n",
    "verts.append(pf.Vert(x=0.75, y=0.7))  # 5\n",
    "\n",
    "# define edges\n",
    "edges = []\n",
    "edges.append(\n",
    "    pf.Edge(\n",
    "        verts[0],\n",
    "        verts[1],\n",
    "        pos_cell_idx=0,\n",
    "        curve_type=\"sine_wave\",\n",
    "        amp=0.1,\n",
    "        freq=6,\n",
    "    )\n",
    ")\n",
    "edges.append(pf.Edge(verts[1], verts[2], pos_cell_idx=0))\n",
    "edges.append(\n",
    "    pf.Edge(\n",
    "        verts[2],\n",
    "        verts[3],\n",
    "        pos_cell_idx=0,\n",
    "        curve_type=\"circular_arc_deg\",\n",
    "        theta0=180,\n",
    "    )\n",
    ")\n",
    "edges.append(pf.Edge(verts[3], verts[0], pos_cell_idx=0))\n",
    "edges.append(\n",
    "    pf.Edge(\n",
    "        verts[4], verts[4], neg_cell_idx=0, curve_type=\"ellipse\", a=0.15, b=0.2\n",
    "    )\n",
    ")\n",
    "edges.append(\n",
    "    pf.Edge(\n",
    "        verts[5], verts[5], neg_cell_idx=0, curve_type=\"ellipse\", a=0.15, b=0.2\n",
    "    )\n",
    ")\n",
    "\n",
    "# define mesh cell\n",
    "K = pf.MeshCell(\n",
    "    idx=0, edges=edges, int_mesh_size=(101, 101), rtol=0.02, atol=0.02\n",
    ")\n",
    "\n",
    "# parameterize edges\n",
    "K.parameterize(quad_dict)\n",
    "\n",
    "# plot boundary\n",
    "pf.plot.MeshPlot(K.get_edges()).draw()\n",
    "\n",
    "# set up Nyström solver\n",
    "nyst = pf.NystromSolver(K, verbose=True)"
   ]
  },
  {
   "attachments": {},
   "cell_type": "markdown",
   "metadata": {},
   "source": [
    "## Define local functions\n",
    "Consider the functions\n",
    "\\begin{align*}\n",
    "\tv(x) &= \\frac{x_1 - 0.25}{(x_1 - 0.25)^2 + (x_2 - 0.7)^2}\n",
    "\t+ x_1^3 x_2 + x_2^2\n",
    "\t~,\n",
    "\t\\\\[12pt]\n",
    "\tw(x) &= \\ln\\big[(x_1 - 0.75)^2 + (x_2 - 0.7)^2\\big] \n",
    "\t+ x_1^2 x_2^2 - x_1 x_2^3\n",
    "\t~.\n",
    "\\end{align*}\n",
    "It holds that \n",
    "\\begin{align*}\n",
    "\t\\Delta v(x) &= 6 x_1 x_2 +2\n",
    "\t~,\n",
    "\t\\\\[12pt]\n",
    "\t\\Delta w(x) &= 2 x_1^2 - 6 x_1 x_2 + 2 x_2^2\n",
    "\t~.\n",
    "\\end{align*}"
   ]
  },
  {
   "cell_type": "code",
   "execution_count": null,
   "metadata": {},
   "outputs": [],
   "source": [
    "# get coordinates of boundary points\n",
    "x1, x2 = K.get_boundary_points()\n",
    "\n",
    "################################################################################\n",
    "\n",
    "# trace of v\n",
    "v_trace = pf.DirichletTrace(\n",
    "    edges=K.get_edges(),\n",
    "    values=(x1 - 0.25) / ((x1 - 0.25) ** 2 + (x2 - 0.7) ** 2)\n",
    "    + (x1**3) * x2\n",
    "    + x2**2,\n",
    ")\n",
    "\n",
    "# Laplacian of v\n",
    "v_laplacian = pf.Polynomial([(6.0, 1, 1), (2.0, 0, 0)])\n",
    "\n",
    "# store v as a local function object\n",
    "v = pf.LocalPoissonFunction(nyst, v_laplacian, v_trace, evaluate_gradient=True)\n",
    "\n",
    "################################################################################\n",
    "\n",
    "# trace of w\n",
    "w_trace = pf.DirichletTrace(\n",
    "    edges=K.get_edges(),\n",
    "    values=np.log((x1 - 0.75) ** 2 + (x2 - 0.7) ** 2)\n",
    "    + (x1**2) * (x2**2)\n",
    "    - x1 * (x2**3),\n",
    ")\n",
    "\n",
    "# Laplacian of w\n",
    "w_laplacian = pf.Polynomial([(2.0, 2, 0), (-6.0, 1, 1), (2.0, 0, 2)])\n",
    "\n",
    "# store w as a local function object\n",
    "w = pf.LocalPoissonFunction(nyst, w_laplacian, w_trace, evaluate_gradient=True)"
   ]
  },
  {
   "attachments": {},
   "cell_type": "markdown",
   "metadata": {},
   "source": [
    "## $H^1$ semi-inner product\n",
    "\n",
    "Let's compute the $H^1$ semi-inner product \n",
    "\\begin{align*}\n",
    "\t\\int_K \\nabla v \\cdot \\nabla w ~dx\n",
    "\t&\\approx\n",
    "\t-6.311053612386\n",
    "\t\\pm 3.6161 \\times 10^{-12}\n",
    "\\end{align*}\n",
    "whose approximate value was obtained with *Mathematica*. "
   ]
  },
  {
   "cell_type": "code",
   "execution_count": null,
   "metadata": {},
   "outputs": [],
   "source": [
    "h1_vw_computed = v.get_h1_semi_inner_prod(w)\n",
    "print(\"Computed H^1 semi-inner product = \", h1_vw_computed)\n",
    "\n",
    "h1_vw_exact = -6.311053612386\n",
    "h1_vw_error = abs(h1_vw_computed - h1_vw_exact)\n",
    "print(\"Error in H^1 semi-inner product = %.4e\" % (h1_vw_error))"
   ]
  },
  {
   "attachments": {},
   "cell_type": "markdown",
   "metadata": {},
   "source": [
    "Let's do the same for the $L^2$ inner product\n",
    "\\begin{align*}\n",
    "\t\\int_K v \\, w ~dx\n",
    "\t&\\approx -3.277578636852\n",
    "\t\\pm 1.0856\\times 10^{-13}\n",
    "\\end{align*}"
   ]
  },
  {
   "cell_type": "code",
   "execution_count": null,
   "metadata": {},
   "outputs": [],
   "source": [
    "l2_vw_computed = v.get_l2_inner_prod(w)\n",
    "print(\"Computed L^2 inner product = \", l2_vw_computed)\n",
    "\n",
    "l2_vw_exact = -3.277578636852\n",
    "l2_vw_error = abs(l2_vw_computed - l2_vw_exact)\n",
    "print(\"Error in L^2 inner product = %.4e\" % l2_vw_error)"
   ]
  },
  {
   "attachments": {},
   "cell_type": "markdown",
   "metadata": {},
   "source": [
    "## Convergence Study\n",
    "\n",
    "|\tn\t|\tH1 error\t|\tL2 error\t|\n",
    "|-------|---------------|---------------|\n",
    "|\t4\t|\t2.4336e+00\t|\t5.9408e-03\t|\n",
    "|\t8\t|\t1.0269e-02\t|\t1.3086e-02\t|\n",
    "|\t16\t|\t1.5273e-03\t|\t1.3783e-04\t|\n",
    "|\t32\t|\t5.3219e-07\t|\t8.1747e-07\t|\n",
    "|\t64\t|\t1.5430e-11\t|\t4.6189e-11\t|"
   ]
  },
  {
   "cell_type": "code",
   "execution_count": null,
   "metadata": {},
   "outputs": [],
   "source": [
    "print(\"H^1 error (vw) = %.4e\" % h1_vw_error)\n",
    "print(\"L^2 error (vw) = %.4e\" % l2_vw_error)"
   ]
  },
  {
   "attachments": {},
   "cell_type": "markdown",
   "metadata": {},
   "source": [
    "## Interior values\n",
    "The interior values are not computed by default with the `compute_all()` method.\n",
    "We need to call the `compute_interior_values()` method."
   ]
  },
  {
   "cell_type": "markdown",
   "metadata": {},
   "source": [
    "Let's choose a color map."
   ]
  },
  {
   "cell_type": "code",
   "execution_count": null,
   "metadata": {},
   "outputs": [],
   "source": [
    "cmap_name = \"seismic\"\n",
    "cm = plt.colormaps[cmap_name]"
   ]
  },
  {
   "cell_type": "markdown",
   "metadata": {},
   "source": [
    "We can use the `LocalFunctionPlot` class to plot the local function values and \n",
    "the gradient components."
   ]
  },
  {
   "cell_type": "code",
   "execution_count": null,
   "metadata": {},
   "outputs": [],
   "source": [
    "local_plot = pf.plot.LocalFunctionPlot(v)"
   ]
  },
  {
   "cell_type": "code",
   "execution_count": null,
   "metadata": {},
   "outputs": [],
   "source": [
    "local_plot.draw(filename=\"out/ghost/interior_values.pdf\")\n",
    "local_plot.draw(filename=\"out/ghost/grad_x1.pdf\", plot_type=\"grad_x1\")\n",
    "local_plot.draw(filename=\"out/ghost/grad_x2.pdf\", plot_type=\"grad_x2\")"
   ]
  },
  {
   "cell_type": "markdown",
   "metadata": {},
   "source": [
    "To compute the pointwise errors, we will need to define the exact values and compute the difference.  "
   ]
  },
  {
   "cell_type": "code",
   "execution_count": null,
   "metadata": {},
   "outputs": [],
   "source": [
    "# computed values\n",
    "v_computed = v.int_vals\n",
    "v_x1_computed = v.int_grad1\n",
    "v_x2_computed = v.int_grad2\n",
    "\n",
    "# coordinates of interior points\n",
    "y1 = K.int_x1\n",
    "y2 = K.int_x2\n",
    "\n",
    "# exact values\n",
    "v_exact = (\n",
    "    (y1 - 0.25) / ((y1 - 0.25) ** 2 + (y2 - 0.7) ** 2) + (y1**3) * y2 + y2**2\n",
    ")\n",
    "v_x1_exact = (\n",
    "    -((y1 - 0.25) ** 2 - (y2 - 0.7) ** 2)\n",
    "    / ((y1 - 0.25) ** 2 + (y2 - 0.7) ** 2) ** 2\n",
    "    + 3 * (y1**2) * y2\n",
    ")\n",
    "v_x2_exact = (\n",
    "    -2 * (y1 - 0.25) * (y2 - 0.7) / ((y1 - 0.25) ** 2 + (y2 - 0.7) ** 2) ** 2\n",
    "    + (y1**3)\n",
    "    + 2 * y2\n",
    ")\n",
    "\n",
    "# compute errors (log scale)\n",
    "v_error = np.log10(np.abs(v_computed - v_exact))\n",
    "v_x1_error = np.log10(np.abs(v_x1_computed - v_x1_exact))\n",
    "v_x2_error = np.log10(np.abs(v_x2_computed - v_x2_exact))"
   ]
  },
  {
   "cell_type": "code",
   "execution_count": null,
   "metadata": {},
   "outputs": [],
   "source": [
    "# represent errors using LocalPoissonFunction objects\n",
    "# v_error_lpf = pf.LocalPoissonFunction(nyst, pf.Polynomial(), -16)\n",
    "# v_error_lpf.int_vals = v_error\n",
    "# local_plot = pf.plot.LocalFunctionPlot(v_error_lpf)"
   ]
  },
  {
   "cell_type": "code",
   "execution_count": null,
   "metadata": {},
   "outputs": [],
   "source": [
    "# plot errors\n",
    "local_plot.draw(filename=\"out/ghost/interior_value_error.pdf\")\n",
    "\n",
    "local_plot.v.int_vals = v_x1_error\n",
    "local_plot.draw(filename=\"out/ghost/interior_grad1_error.pdf\")\n",
    "\n",
    "local_plot.v.int_vals = v_x2_error\n",
    "local_plot.draw(filename=\"out/ghost/interior_grad2_error.pdf\")"
   ]
  },
  {
   "cell_type": "markdown",
   "metadata": {},
   "source": [
    "## Figure created for 2024 SISC paper"
   ]
  },
  {
   "cell_type": "code",
   "execution_count": null,
   "metadata": {},
   "outputs": [],
   "source": [
    "cmap_name = \"seismic\"\n",
    "cm = plt.colormaps[cmap_name]\n",
    "\n",
    "plt.figure(figsize=(16, 14), dpi=100)\n",
    "\n",
    "plt.subplot(2, 3, 1)\n",
    "for e in K.get_edges():\n",
    "    e_x1, e_x2 = e.get_sampled_points()\n",
    "    plt.plot(e_x1, e_x2, \"k\")\n",
    "plt.contourf(y1, y2, v_computed, levels=np.linspace(-7, 7, 28 + 1), cmap=cm)\n",
    "plt.colorbar(location=\"bottom\")\n",
    "plt.title(\"Interior values of $v$\")\n",
    "plt.axis(\"equal\")\n",
    "plt.ylim([-0.15, 1.35])\n",
    "\n",
    "plt.subplot(2, 3, 2)\n",
    "for e in K.get_edges():\n",
    "    e_x1, e_x2 = e.get_sampled_points()\n",
    "    plt.plot(e_x1, e_x2, \"k\")\n",
    "plt.contourf(y1, y2, v_x1_computed, levels=50, cmap=cm)\n",
    "plt.colorbar(location=\"bottom\")\n",
    "plt.title(\"First component of grad $v$\")\n",
    "plt.axis(\"equal\")\n",
    "plt.ylim([-0.15, 1.35])\n",
    "\n",
    "plt.subplot(2, 3, 3)\n",
    "for e in K.get_edges():\n",
    "    e_x1, e_x2 = e.get_sampled_points()\n",
    "    plt.plot(e_x1, e_x2, \"k\")\n",
    "plt.contourf(y1, y2, v_x2_computed, levels=50, cmap=cm)\n",
    "plt.colorbar(location=\"bottom\")\n",
    "plt.title(\"Second component of grad $v$\")\n",
    "plt.axis(\"equal\")\n",
    "plt.ylim([-0.15, 1.35])\n",
    "\n",
    "# interior value errors\n",
    "plt.subplot(2, 3, 4)\n",
    "for e in K.get_edges():\n",
    "    e_x1, e_x2 = e.get_sampled_points()\n",
    "    plt.plot(e_x1, e_x2, \"k\")\n",
    "plt.contourf(y1, y2, v_error, levels=np.linspace(-16, 1, 18), cmap=cm)\n",
    "plt.colorbar(location=\"bottom\")\n",
    "plt.title(\"Interior errors ($\\log_{10}$)\")\n",
    "plt.axis(\"equal\")\n",
    "plt.ylim([-0.15, 1.35])\n",
    "\n",
    "# first component of gradient errors\n",
    "plt.subplot(2, 3, 5)\n",
    "for e in K.get_edges():\n",
    "    e_x1, e_x2 = e.get_sampled_points()\n",
    "    plt.plot(e_x1, e_x2, \"k\")\n",
    "plt.contourf(y1, y2, v_x1_error, levels=np.linspace(-16, 1, 18), cmap=cm)\n",
    "plt.colorbar(location=\"bottom\")\n",
    "plt.title(\"Gradient errors in $x_1$ ($\\log_{10}$)\")\n",
    "plt.axis(\"equal\")\n",
    "plt.ylim([-0.15, 1.35])\n",
    "\n",
    "# second component of gradient errors\n",
    "plt.subplot(2, 3, 6)\n",
    "for e in K.get_edges():\n",
    "    e_x1, e_x2 = e.get_sampled_points()\n",
    "    plt.plot(e_x1, e_x2, \"k\")\n",
    "plt.contourf(y1, y2, v_x2_error, levels=np.linspace(-16, 1, 18), cmap=cm)\n",
    "plt.colorbar(location=\"bottom\")\n",
    "plt.title(\"Gradient errors in $x_2$ ($\\log_{10}$)\")\n",
    "plt.axis(\"equal\")\n",
    "plt.ylim([-0.15, 1.35])\n",
    "\n",
    "# save figure as PDF\n",
    "plt.savefig(f\"out/ghost-fig-{cmap_name}.pdf\", format=\"pdf\", bbox_inches=\"tight\")\n",
    "\n",
    "# show figure\n",
    "plt.show()"
   ]
  }
 ],
 "metadata": {
  "kernelspec": {
   "display_name": "Python 3",
   "language": "python",
   "name": "python3"
  },
  "language_info": {
   "codemirror_mode": {
    "name": "ipython",
    "version": 3
   },
   "file_extension": ".py",
   "mimetype": "text/x-python",
   "name": "python",
   "nbconvert_exporter": "python",
   "pygments_lexer": "ipython3",
   "version": "3.12.3"
  },
  "vscode": {
   "interpreter": {
    "hash": "916dbcbb3f70747c44a77c7bcd40155683ae19c65e1c03b4aa3499c5328201f1"
   }
  }
 },
 "nbformat": 4,
 "nbformat_minor": 2
}
