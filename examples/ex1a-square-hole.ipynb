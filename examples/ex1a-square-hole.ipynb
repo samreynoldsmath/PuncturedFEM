{
 "cells": [
  {
   "attachments": {},
   "cell_type": "markdown",
   "metadata": {},
   "source": [
    "# Example 1.A: Square with a Circular Hole\n",
    "### Sam Reynolds, 2023\n",
    "\n",
    "Given an open, bounded, connected region $K \\subset \\mathbb{R}^2$\n",
    "with a sufficiently \"nice\" boundary, let $v,w : K \\to \\mathbb{R}$\n",
    "be functions of the form\n",
    "\\begin{align*}\n",
    "\tv = \\phi + P~,\n",
    "\t\\quad \n",
    "\tw = \\psi + Q\n",
    "\\end{align*}\n",
    "where $\\phi,\\psi$ are harmonic functions and $P,Q$ are polynomials.\n",
    "The goal of this example is to compute the \n",
    "$H^1$ semi-inner product and $L^2$ inner product\n",
    "\\begin{align*}\n",
    "\t\\int_K \\nabla v \\cdot \\nabla w ~dx \n",
    "\t~, \\quad \n",
    "\t\\int_K v \\, w ~dx\n",
    "\\end{align*}\n",
    "using only \n",
    "(i) the Dirichlet traces $v|_{\\partial K}, w|_{\\partial K}$, and\n",
    "(ii) the Laplacians $\\Delta v, \\Delta w$, which are polynomials.\n",
    "\n",
    "Our strategy is to reduce these volumetric integrals over $K$\n",
    "to boundary integrals on $\\partial K$.\n",
    "The procedure uses two key elements:\n",
    "given a harmonic function $\\phi$, compute\n",
    "1. the normal derivative $\\frac{\\partial\\phi}{\\partial\\mathbf{n}} = \\nabla\\phi\\cdot\\mathbf{n}$\n",
    "2. an anti-Laplacian $\\Phi$ satisfying $\\Delta\\Phi = \\phi$ "
   ]
  },
  {
   "attachments": {},
   "cell_type": "markdown",
   "metadata": {},
   "source": [
    "## Define a Mesh Cell\n",
    "\n",
    "We will take $K$ to be a unit square with a circular hole,\n",
    "and create a `cell` object accordingly. \n",
    "See `ex0-mesh-building` for details."
   ]
  },
  {
   "cell_type": "code",
   "execution_count": null,
   "metadata": {},
   "outputs": [],
   "source": [
    "import sys\n",
    "import os\n",
    "\n",
    "current_dir = os.getcwd()\n",
    "parent_dir = os.path.abspath(os.path.join(current_dir, \"..\"))\n",
    "sys.path.append(parent_dir)\n",
    "\n",
    "import puncturedfem as pf\n",
    "import numpy as np\n",
    "import matplotlib.pyplot as plt\n",
    "\n",
    "# define quadrature schemes\n",
    "quad_dict = pf.get_quad_dict(n=64)\n",
    "\n",
    "# define vertices\n",
    "verts: list[pf.Vert] = []\n",
    "verts.append(pf.Vert(x=0.0, y=0.0))\n",
    "verts.append(pf.Vert(x=1.0, y=0.0))\n",
    "verts.append(pf.Vert(x=1.0, y=1.0))\n",
    "verts.append(pf.Vert(x=0.0, y=1.0))\n",
    "verts.append(pf.Vert(x=0.5, y=0.5))  # center of circle\n",
    "\n",
    "# define edges\n",
    "edges: list[pf.Edge] = []\n",
    "edges.append(pf.Edge(verts[0], verts[1], pos_cell_idx=0))\n",
    "edges.append(pf.Edge(verts[1], verts[2], pos_cell_idx=0))\n",
    "edges.append(pf.Edge(verts[2], verts[3], pos_cell_idx=0))\n",
    "edges.append(pf.Edge(verts[3], verts[0], pos_cell_idx=0))\n",
    "edges.append(\n",
    "    pf.Edge(\n",
    "        verts[4],\n",
    "        verts[4],\n",
    "        neg_cell_idx=0,\n",
    "        curve_type=\"circle\",\n",
    "        quad_type=\"trap\",\n",
    "        radius=0.25,\n",
    "    )\n",
    ")\n",
    "\n",
    "# define mesh cell\n",
    "K = pf.MeshCell(idx=0, edges=edges)\n",
    "\n",
    "# parameterize edges\n",
    "K.parameterize(quad_dict)\n",
    "\n",
    "# plot boundary\n",
    "pf.plot.MeshPlot(K.get_edges()).draw()"
   ]
  },
  {
   "attachments": {},
   "cell_type": "markdown",
   "metadata": {},
   "source": [
    "## Define a Local Function\n",
    "\n",
    "A local function $v \\in V_p(K)$ can be uniquely defined by specifying its \n",
    "Dirichlet trace $v|_{\\partial K}$ and Laplacian $\\Delta v$.\n",
    "In practice, $v$ would be implicitly defined in this way, but for the purpose \n",
    "of testing our numerics, we will consider explicitly defined functions for this\n",
    "example.\n",
    "\n",
    "### Define a Dirichlet Trace\n",
    "\n",
    "Consider the function $v$ given by \n",
    "\\begin{align*}\n",
    "\tv(x) = e^{x_1} \\, \\cos x_2 + a \\ln|x-\\xi| + x_1^3 x_2 + x_1 x_2^3\n",
    "\t~,\n",
    "\\end{align*}\n",
    "where $a = 1$ and $\\xi = (0.5, 0.5)$ is a point located in the hole of $K$.\n",
    "We see immediately that $v$ can be decomposed into a harmonic part $\\phi$ and\n",
    "a polynomial part $P$:\n",
    "\\begin{align*}\n",
    "\tv &= \\phi + P~,\n",
    "\t\\\\ \n",
    "\t\\phi(x) &= e^{x_1} \\, \\cos x_2 + a \\ln|x-\\xi|~,\n",
    "\t\\\\\n",
    "\tP(x) &= x_1^3 x_2 + x_1 x_2^3\n",
    "\t~. \n",
    "\\end{align*}\n",
    "First, let's compute the values of the Dirichlet trace of $v$:"
   ]
  },
  {
   "cell_type": "code",
   "execution_count": null,
   "metadata": {},
   "outputs": [],
   "source": [
    "# set target value of logarithmic coefficient\n",
    "a_exact = 1.0\n",
    "\n",
    "# set point in hole interior\n",
    "xi = [0.5, 0.5]\n",
    "\n",
    "# get the coordinates of sampled boundary points\n",
    "x1, x2 = K.get_boundary_points()\n",
    "\n",
    "# define trace of v\n",
    "v_trace = (\n",
    "    np.exp(x1) * np.cos(x2)\n",
    "    + 0.5 * a_exact * np.log((x1 - xi[0]) ** 2 + (x2 - xi[1]) ** 2)\n",
    "    + x1**3 * x2\n",
    "    + x1 * x2**3\n",
    ")"
   ]
  },
  {
   "attachments": {},
   "cell_type": "markdown",
   "metadata": {},
   "source": [
    "### Define a Polynomial Laplacian\n",
    "\n",
    "The Laplacian of $v$ is given by \n",
    "\\begin{align*}\n",
    "\t\\Delta v(x) = \\Delta P(x) = 12 x_1 x_2~.\n",
    "\\end{align*}\n",
    "We will encode this an a `Polynomial` object with a multi-index \n",
    "$\\alpha = (1,1)$ and coefficient $c_\\alpha = 12$."
   ]
  },
  {
   "cell_type": "code",
   "execution_count": null,
   "metadata": {},
   "outputs": [],
   "source": [
    "# create Polynomial object\n",
    "v_laplacian = pf.Polynomial([[12.0, 1, 1]])"
   ]
  },
  {
   "attachments": {},
   "cell_type": "markdown",
   "metadata": {},
   "source": [
    "### Define a Local Function\n",
    "\n",
    "We are now ready to define $v$ as a `LocalFunction` object:"
   ]
  },
  {
   "cell_type": "code",
   "execution_count": null,
   "metadata": {},
   "outputs": [],
   "source": [
    "nyst = pf.NystromSolver(K)"
   ]
  },
  {
   "cell_type": "code",
   "execution_count": null,
   "metadata": {},
   "outputs": [],
   "source": [
    "v = pf.LocalFunction(nyst=nyst, lap_poly=v_laplacian, has_poly_trace=False)\n",
    "v.set_trace_values(v_trace)"
   ]
  },
  {
   "attachments": {},
   "cell_type": "markdown",
   "metadata": {},
   "source": [
    "To proceed with our calculations, we must determine a polynomial anti-Laplacian\n",
    "of $\\Delta v$, which we might expect to be $P(x) = x_1^3 x_2 + x_1 x_2^3$."
   ]
  },
  {
   "cell_type": "code",
   "execution_count": null,
   "metadata": {},
   "outputs": [],
   "source": [
    "v.compute_polynomial_part()\n",
    "print(v.get_polynomial_part())"
   ]
  },
  {
   "attachments": {},
   "cell_type": "markdown",
   "metadata": {},
   "source": [
    "**Remark.** The decomposition $v = \\phi + P$ is not unique, since the \n",
    "intersection between harmonic functions and polynomials is contains more than\n",
    "just the zero function (a lot more).\n",
    "The polynomial $P(x) = x_1^3 x_2 + x_1 x_2^3$ was chosen carefully for this example\n",
    "so that the computed anti-Laplacian of $\\Delta P(x) = 12 x_1 x_2$ coincides \n",
    "with $P$.\n",
    "This will not generally be the case."
   ]
  },
  {
   "attachments": {},
   "cell_type": "markdown",
   "metadata": {},
   "source": [
    "## Find the Normal Derivative\n",
    "\n",
    "Our first task is to compute the normal derivative of $v = \\phi + P$.\n",
    "Recall that a *harmonic conjugate* of a harmonic function \n",
    "$\\psi$ is another harmonic function,\n",
    "which we will denote by $\\widehat\\psi$, for which the Cauchy-Riemann equations\n",
    "are satisfied:\n",
    "\\begin{align*}\n",
    "\t\\frac{\\partial\\phi}{\\partial x_1} \n",
    "\t= \\frac{\\partial\\widehat\\phi}{\\partial x_2}\n",
    "\t~,\\quad\n",
    "\t\\frac{\\partial\\phi}{\\partial x_2} \n",
    "\t= -\\frac{\\partial\\widehat\\phi}{\\partial x_1}\n",
    "\t~.\n",
    "\\end{align*}\n",
    "It follows that the normal derivative of $\\psi$ and the tangential derivative\n",
    "of $\\widehat\\psi$ are equal:\n",
    "\\begin{align*}\n",
    "\t\\frac{\\partial\\psi}{\\partial\\mathbf{n}} \n",
    "\t= \\frac{\\partial\\widehat\\psi}{\\partial\\mathbf{t}}\n",
    "\t~.\n",
    "\\end{align*}\n",
    "There is a minor issue when dealing with domains with holes:\n",
    "$\\widehat\\psi$ may not exist. Fortunately, we have a workaround.\n",
    "\n",
    "**Logarithmic Conjugation Theorem.**\n",
    "Given a harmonic function $\\phi$ and points $\\xi_j$ \n",
    "located in the interior of the $j$-th hole ($1\\leq j\\leq m$), \n",
    "then there is a harmonic function $\\psi$ with a harmonic \n",
    "conjugate and real coefficients $a_1,\\dots,a_m$ such that \n",
    "\\begin{align*}\n",
    "\t\\phi(x) = \\psi(x) + \\sum_{j=1}^m a_m \\ln|x-\\xi_j|\n",
    "\t~.\n",
    "\\end{align*}\n",
    "We will determine the trace of $\\widehat\\psi$ and the logarithmic \n",
    "coefficients $a_1, \\dots, a_m$ by solving an integral equation numerically.\n",
    "The user does not need to know the specifics, but merely needs to call\n",
    "the following two methods."
   ]
  },
  {
   "cell_type": "code",
   "execution_count": null,
   "metadata": {},
   "outputs": [],
   "source": [
    "v.compute_polynomial_part_trace()\n",
    "v.compute_harmonic_conjugate()"
   ]
  },
  {
   "attachments": {},
   "cell_type": "markdown",
   "metadata": {},
   "source": [
    "### Error in Logarithmic Coefficient\n",
    "\n",
    "Recall that \n",
    "\\begin{align*}\n",
    "\t\\phi(x) = \\psi(x) + a \\ln|x-\\xi|~,\n",
    "\t\\quad \n",
    "\t\\psi(x) = e^{x_1} \\, \\cos x_2~,\n",
    "\\end{align*}\n",
    "with $\\widehat\\psi(x) = e^{x_1} \\, \\sin(x_2)$ being a harmonic conjugate of \n",
    "$\\psi$.\n",
    "We chose the point $\\xi = (0.5, 0.5)$ carefully for this problem,\n",
    "since this is also the interior point $\\xi_1$ that was chosen automatically\n",
    "when we created $K$.\n",
    "Therefore, we ought to find that $a_1 = a = 1$, which we can check now:"
   ]
  },
  {
   "cell_type": "code",
   "execution_count": null,
   "metadata": {},
   "outputs": [],
   "source": [
    "print(\"Computed logarithmic coefficient = \", v.log_coef[0])\n",
    "print(\"Error = \", abs(v.log_coef[0] - a_exact))"
   ]
  },
  {
   "attachments": {},
   "cell_type": "markdown",
   "metadata": {},
   "source": [
    "### Error in Harmonic Conjugate Trace  \n",
    "\n",
    "Recall that \n",
    "$$\n",
    "\t\\widehat\\psi(x) = e^{x_1} \\, \\sin x_2\n",
    "$$\n",
    "is a harmonic conjugate of $\\psi(x) = e^{x_1} \\, \\cos x_2$.\n",
    "Let's compare this to the computed trace of $\\widehat\\psi$.\n",
    "We can use call `plot.traceplot.trace()` to plot the trace(s) \n",
    "of function(s) on the boundary."
   ]
  },
  {
   "cell_type": "code",
   "execution_count": null,
   "metadata": {},
   "outputs": [],
   "source": [
    "# get computed value of psi_hat\n",
    "psi_hat_computed = v.get_harmonic_conjugate()\n",
    "\n",
    "# get exact trace of psi_hat\n",
    "psi_hat_exact = np.exp(x1) * np.sin(x2)\n",
    "\n",
    "# plot harmonic conjugate\n",
    "pf.plot.TracePlot(\n",
    "    traces=[psi_hat_exact, psi_hat_computed],\n",
    "    K=K,\n",
    "    fmt=[\"g--\", \"k.\"],\n",
    "    legend=(\"exact\", \"computed\"),\n",
    "    title=\"Harmonic conjugate $\\hat\\psi$ of conjugable part of $\\phi$\",\n",
    "    quad_dict=quad_dict,\n",
    ").draw()"
   ]
  },
  {
   "attachments": {},
   "cell_type": "markdown",
   "metadata": {},
   "source": [
    "**Note**: A harmonic conjugate is unique only up to an additive constant.\n",
    "So to compute the error in $\\hat\\psi$,\n",
    "we compute $\\hat\\psi_\\text{exact} - (\\widehat\\psi_\\text{computed} - c)$, \n",
    "where $c$ is a constant that minimizes the $L^2(\\partial K)$ norm,\n",
    "which is\n",
    "\\begin{align*}\n",
    "\tc = -\\frac{1}{|\\partial K|}\\int_{\\partial K} \n",
    "\t(\\hat\\psi_\\text{exact} - \\widehat\\psi_\\text{computed}) ~ds\n",
    "\t~.\n",
    "\\end{align*}"
   ]
  },
  {
   "cell_type": "code",
   "execution_count": null,
   "metadata": {},
   "outputs": [],
   "source": [
    "# average square distance between values\n",
    "boundary_length = K.integrate_over_boundary(np.ones((K.num_pts,)))\n",
    "integrated_difference = K.integrate_over_boundary(\n",
    "    psi_hat_exact - psi_hat_computed\n",
    ")\n",
    "c = -integrated_difference / boundary_length\n",
    "\n",
    "# plot harmonic conjugate\n",
    "pf.plot.TracePlot(\n",
    "    traces=[psi_hat_exact, psi_hat_computed - c],\n",
    "    fmt=[\"g--\", \"k.\"],\n",
    "    legend=(\"exact\", \"computed\"),\n",
    "    title=\"Harmonic conjugate $\\hat\\psi$ of conjugable part of $\\phi$\",\n",
    "    K=K,\n",
    "    quad_dict=quad_dict,\n",
    ").draw()"
   ]
  },
  {
   "attachments": {},
   "cell_type": "markdown",
   "metadata": {},
   "source": [
    "Compute and plot the error in the computed harmonic conjugate."
   ]
  },
  {
   "cell_type": "code",
   "execution_count": null,
   "metadata": {},
   "outputs": [],
   "source": [
    "# compute errors in harmonic conjugate\n",
    "psi_hat_error = np.abs(psi_hat_exact - psi_hat_computed + c)\n",
    "\n",
    "# plot harmonic conjugate error\n",
    "pf.plot.TracePlot(\n",
    "    traces=psi_hat_error,\n",
    "    fmt=\"k.\",\n",
    "    title=\"Harmonic conjugate error\",\n",
    "    K=K,\n",
    "    quad_dict=quad_dict,\n",
    "    log_scale=True,\n",
    ").draw()"
   ]
  },
  {
   "attachments": {},
   "cell_type": "markdown",
   "metadata": {},
   "source": [
    "The pointwise errors look alright. \n",
    "Let's compute the $L^2(\\partial K)$ norm of the error:"
   ]
  },
  {
   "cell_type": "code",
   "execution_count": null,
   "metadata": {},
   "outputs": [],
   "source": [
    "max_hc_error = max(psi_hat_error)\n",
    "l2_hc_error = np.sqrt(K.integrate_over_boundary(psi_hat_error**2))\n",
    "print(\"Max pointwise error = %.4e\" % max_hc_error)\n",
    "print(\"L^2 norm of error = %.4e\" % l2_hc_error)"
   ]
  },
  {
   "attachments": {},
   "cell_type": "markdown",
   "metadata": {},
   "source": [
    "### Compute the Normal Derivative\n",
    "\n",
    "Recall that the Cauchy-Riemann equations imply that we can obtain the normal \n",
    "derivative of $\\psi$ using the tangential derivative of its harmonic conjugate:\n",
    "$$\n",
    "\t\\dfrac{\\partial\\psi}{\\partial\\mathbf{n}} \n",
    "\t= \\dfrac{\\partial\\hat\\psi}{\\partial\\mathbf{t}}\n",
    "\t~.\n",
    "$$\n",
    "Furthermore, if $x(t)$ is a parameterization of $\\partial K$, we have \n",
    "$$\n",
    "\t\\dfrac{d}{dt}\\hat\\psi(x(t)) \n",
    "\t= \\dfrac{\\partial\\hat\\psi(x(t))}{\\partial\\mathbf{t}} \\, |x'(t)|\n",
    "\t~.\n",
    "$$\n",
    "We refer to this derivative as a **weighted tangential derivative**.\n",
    "Similarly, we refer to \n",
    "\\begin{align*}\n",
    "\t\\dfrac{\\partial\\psi(x(t))}{\\partial\\mathbf{n}} \\, |x'(t)|\n",
    "\\end{align*}\n",
    "the a **weighted tangential derivative** of $\\psi$.\n",
    "\n",
    "**Remark.** Fortunately for us, $|x'(t)|$ appears as the Jacobian in the \n",
    "integral\n",
    "\\begin{align*}\n",
    "\t\\int_{\\partial K} \\eta \\, \\frac{\\partial\\psi}{\\partial\\mathbf{n}}~ds\n",
    "\t=\n",
    "\t\\int_a^b \\eta(x(t)) \\, \n",
    "\t\\dfrac{\\partial\\psi(x(t))}{\\partial\\mathbf{n}} \\, |x'(t)| ~dt\n",
    "\t~,\n",
    "\\end{align*}\n",
    "so we will be satisfied with the weighted normal derivative.\n",
    "\n",
    "**Remark.** \n",
    "If $\\partial K$ is parameterized with a regular curve \n",
    "(i.e. $|x'(t)| > 0$ for all $t$),\n",
    "then we can recover the normal derivative values. \n",
    "However, this is not recommended when $K$ has corners, \n",
    "as the reparameterization using Kress sampling is not regular, \n",
    "leading to division-by-zero headaches.\n",
    "This is reflected in the fact that normal derivatives of harmonic functions\n",
    "are discontinuous when $\\partial K$ has corners, and indeed the normal \n",
    "derivative may even be unbounded.\n",
    "\n",
    "Let's obtain the weighted normal derivative of $\\phi$ by calling the \n",
    "`compute_harmonic_weighted_normal_derivative()` method."
   ]
  },
  {
   "cell_type": "code",
   "execution_count": null,
   "metadata": {},
   "outputs": [],
   "source": [
    "# compute weighted normal derivative\n",
    "v.compute_harmonic_weighted_normal_derivative()"
   ]
  },
  {
   "attachments": {},
   "cell_type": "markdown",
   "metadata": {},
   "source": [
    "Note that the exact values of the normal derivative are given by\n",
    "\\begin{align*}\n",
    "\t\\frac{\\partial\\phi}{\\partial\\mathbf{n}} =\n",
    "\t\\nabla\\phi(x) \\cdot \\mathbf{n} = e^{x_1}\n",
    "\t\\begin{pmatrix}\n",
    "\t\t\\cos x_2 \\\\ -\\sin x_2\n",
    "\t\\end{pmatrix}\n",
    "\t\\cdot \\mathbf{n}\n",
    "\t+\n",
    "\ta \\, \\frac{(x-\\xi) \\cdot \\mathbf{n}}{|x - \\xi|^2}\n",
    "\\end{align*}\n",
    "Let's compute these exact values for comparison."
   ]
  },
  {
   "cell_type": "code",
   "execution_count": null,
   "metadata": {},
   "outputs": [],
   "source": [
    "# define the components of the gradient of phi\n",
    "phi_x1 = np.exp(x1) * np.cos(x2) + a_exact * (x1 - xi[0]) / (\n",
    "    (x1 - xi[0]) ** 2 + (x2 - xi[1]) ** 2\n",
    ")\n",
    "phi_x2 = -np.exp(x1) * np.sin(x2) + a_exact * (x2 - xi[1]) / (\n",
    "    (x1 - xi[0]) ** 2 + (x2 - xi[1]) ** 2\n",
    ")\n",
    "\n",
    "# compute exact weighted normal derivative\n",
    "phi_nd = K.dot_with_normal(phi_x1, phi_x2)\n",
    "phi_wnd_exact = K.multiply_by_dx_norm(phi_nd)\n",
    "\n",
    "# get computed values\n",
    "phi_wnd_computed = v.get_harmonic_weighted_normal_derivative()\n",
    "\n",
    "# compute errors\n",
    "wnd_error = np.abs(phi_wnd_computed - phi_wnd_exact)\n",
    "\n",
    "# plot exact and computed weighted normal derivatives\n",
    "pf.plot.TracePlot(\n",
    "    traces=[phi_wnd_exact, phi_wnd_computed],\n",
    "    fmt=[\"g--\", \"k.\"],\n",
    "    legend=(\"exact\", \"computed\"),\n",
    "    title=\"Weighted normal derivative\",\n",
    "    K=K,\n",
    "    quad_dict=quad_dict,\n",
    ").draw()\n",
    "\n",
    "# plot errors\n",
    "pf.plot.TracePlot(\n",
    "    traces=wnd_error,\n",
    "    fmt=\"k.\",\n",
    "    title=\"Weighted normal derivative error\",\n",
    "    K=K,\n",
    "    quad_dict=quad_dict,\n",
    "    log_scale=True,\n",
    ").draw()"
   ]
  },
  {
   "attachments": {},
   "cell_type": "markdown",
   "metadata": {},
   "source": [
    "Let's look at the maximum pointwise error as well as the error in the\n",
    "$L^2(\\partial K)$ norm:"
   ]
  },
  {
   "cell_type": "code",
   "execution_count": null,
   "metadata": {},
   "outputs": [],
   "source": [
    "# compute and print errors\n",
    "max_wnd_error = max(wnd_error)\n",
    "l2_wnd_error = np.sqrt(K.integrate_over_boundary(wnd_error**2))\n",
    "print(\"Max pointwise error = %.4e\" % max_wnd_error)\n",
    "print(\"L^2 norm of wnd error = %.4e\" % l2_wnd_error)"
   ]
  },
  {
   "attachments": {},
   "cell_type": "markdown",
   "metadata": {},
   "source": [
    "### Find an Anti-Laplacian\n",
    "\n",
    "Our second task is to find an anti-Laplacian $\\Phi$ such that $\\Delta\\Phi=\\phi$.\n",
    "Note that\n",
    "\\begin{align*}\n",
    "\t\\Lambda(x) = \\frac14 |x|^2 \\big(\\ln|x|-1 \\big)\n",
    "\\end{align*}\n",
    "is an anti-Laplacian of $\\lambda(x) = \\ln|x|$.\n",
    "So if $\\Psi$ is an anti-Laplacian of $\\psi$, then we would have\n",
    "\\begin{align*}\n",
    "\t\\Phi(x) = \\Psi(x) + \\sum_{k=1}^m a_k \\Lambda(x-\\xi_k)\n",
    "\\end{align*}\n",
    "is an anti-Laplacian of \n",
    "\\begin{align*}\n",
    "\t\\phi(x) = \\psi(x) + \\sum_{k=1}^m a_k \\ln|x-\\xi_k|\n",
    "\t~.\n",
    "\\end{align*}\n",
    "All of this handled internally when we call the \n",
    "`compute_anti_laplacian_harmonic_part()` method."
   ]
  },
  {
   "cell_type": "code",
   "execution_count": null,
   "metadata": {},
   "outputs": [],
   "source": [
    "v.compute_anti_laplacian_harmonic_part()"
   ]
  },
  {
   "attachments": {},
   "cell_type": "markdown",
   "metadata": {},
   "source": [
    "Let's compare the computed values of $\\Phi$ to \n",
    "\\begin{align*}\n",
    "\t\\tilde\\Phi(x) = \\frac14 e^{x_1}\n",
    "\t\\big(x_1 \\cos x_2 + x_2 \\sin x_2\\big)\n",
    "\t+ \\frac14 |x - \\xi|^2 \\big(\\ln|x - \\xi|-1 \\big)\n",
    "\t~,\n",
    "\\end{align*}\n",
    "which is an anti-Laplacian of $\\phi$."
   ]
  },
  {
   "cell_type": "code",
   "execution_count": null,
   "metadata": {},
   "outputs": [],
   "source": [
    "# an exact anti-Laplacian\n",
    "PHI_exact = 0.25 * np.exp(x1) * (\n",
    "    x1 * np.cos(x2) + x2 * np.sin(x2)\n",
    ") + a_exact * 0.25 * ((x1 - xi[0]) ** 2 + (x2 - xi[1]) ** 2) * (\n",
    "    0.5 * np.log((x1 - xi[0]) ** 2 + (x2 - xi[1]) ** 2) - 1\n",
    ")\n",
    "\n",
    "# computed anti-Laplacian\n",
    "PHI_computed = v.get_anti_laplacian_harmonic_part()\n",
    "\n",
    "# plot exact and computed anti-Laplacian\n",
    "pf.plot.TracePlot(\n",
    "    traces=[PHI_exact, PHI_computed],\n",
    "    fmt=[\"g--\", \"k.\"],\n",
    "    legend=(\"exact\", \"computed\"),\n",
    "    title=\"Anti-Laplacian\",\n",
    "    K=K,\n",
    "    quad_dict=quad_dict,\n",
    ").draw()"
   ]
  },
  {
   "attachments": {},
   "cell_type": "markdown",
   "metadata": {},
   "source": [
    "In general, $\\Phi$ is unique only up to the addition of a harmonic function.\n",
    "Indeed, if $\\Phi$ and $\\widetilde\\Phi$ are both anti-Laplacians of $\\phi$, \n",
    "we have \n",
    "\\begin{align*}\n",
    "\t\\Delta (\\Phi - \\widetilde\\Phi) = \\phi - \\phi = 0\n",
    "\t~.\n",
    "\\end{align*}\n",
    "However, in this case we can say more. \n",
    "As a consequence of the way that $\\Phi$ and $\\widetilde\\Phi$ were computed, \n",
    "it ought to hold that\n",
    "\\begin{align*}\n",
    "\t\\Psi - \\widetilde\\Psi = c \\cdot x\n",
    "\\end{align*}\n",
    "is a linear function.\n",
    "We will test this conjecture by performing a least squares best linear fit \n",
    "on the computed values of $\\Psi - \\widetilde\\Psi$."
   ]
  },
  {
   "cell_type": "code",
   "execution_count": null,
   "metadata": {},
   "outputs": [],
   "source": [
    "PHI_diff = PHI_exact - PHI_computed\n",
    "\n",
    "X = np.zeros((K.num_pts, 2))\n",
    "X[:, 0] = x1\n",
    "X[:, 1] = x2\n",
    "XX = np.transpose(X) @ X\n",
    "Xy = np.transpose(X) @ PHI_diff\n",
    "aa = np.linalg.solve(XX, Xy)\n",
    "PHI_diff_fit = X @ aa\n",
    "\n",
    "# compute errors\n",
    "PHI_diff_error = np.abs(PHI_diff_fit - PHI_diff)\n",
    "\n",
    "# plot exact and computed anti-Laplacian\n",
    "pf.plot.TracePlot(\n",
    "    traces=[PHI_diff_fit, PHI_diff],\n",
    "    fmt=[\"b--\", \"k.\"],\n",
    "    legend=(\"least squares best linear fit\", \"exact - computed\"),\n",
    "    title=\"Anti-Laplacian difference\",\n",
    "    K=K,\n",
    "    quad_dict=quad_dict,\n",
    ").draw()\n",
    "\n",
    "# plot errors\n",
    "pf.plot.TracePlot(\n",
    "    traces=PHI_diff_error,\n",
    "    fmt=\"k.\",\n",
    "    title=\"Anti-Laplacian difference error\",\n",
    "    K=K,\n",
    "    quad_dict=quad_dict,\n",
    "    log_scale=True,\n",
    ").draw()"
   ]
  },
  {
   "attachments": {},
   "cell_type": "markdown",
   "metadata": {},
   "source": [
    "As before, let's compute the maximum pointwise error and the \n",
    "$L^2(\\partial K)$ error."
   ]
  },
  {
   "cell_type": "code",
   "execution_count": null,
   "metadata": {},
   "outputs": [],
   "source": [
    "max_PHI_error = max(PHI_diff_error)\n",
    "l2_PHI_error = np.sqrt(K.integrate_over_boundary(PHI_diff_error**2))\n",
    "print(\"Max pointwise error = %.4e\" % max_PHI_error)\n",
    "print(\"L^2 norm of error = %.4e\" % l2_PHI_error)"
   ]
  },
  {
   "attachments": {},
   "cell_type": "markdown",
   "metadata": {},
   "source": [
    "Before we use $v$ for computations, we need to compute the trace and \n",
    "weighted normal derivative of $P$, the polynomial part of $v = \\phi + P$."
   ]
  },
  {
   "cell_type": "code",
   "execution_count": null,
   "metadata": {},
   "outputs": [],
   "source": [
    "v.compute_polynomial_part_trace()\n",
    "v.compute_polynomial_part_weighted_normal_derivative()"
   ]
  },
  {
   "attachments": {},
   "cell_type": "markdown",
   "metadata": {},
   "source": [
    "## Define another function\n",
    "\n",
    "Let $w : K \\to \\mathbb{R}$ is given by \n",
    "\\begin{align*}\n",
    "\tw(x) = \\frac{x_1 - 0.5}{(x_1 - 0.5)^2 + (y - 0.5)^2} + x_1^3 + x_1 x_2^2\n",
    "\t~.\n",
    "\\end{align*}\n",
    "Again, we have that $w = \\psi + Q$ is the sum of a harmonic function and \n",
    "a polynomial, with\n",
    "\\begin{align*}\n",
    "\t\\psi(x) = \\frac{x_1 - 0.5}{(x_1 - 0.5)^2 + (y - 0.5)^2} \n",
    "\t~,\n",
    "\t\\quad\n",
    "\tQ(x) = x_1^3 + x_1 x_2^2\n",
    "\t~.\n",
    "\\end{align*}\n",
    "(The notation \"$\\psi$\" is being recycled here.)"
   ]
  },
  {
   "cell_type": "code",
   "execution_count": null,
   "metadata": {},
   "outputs": [],
   "source": [
    "# trace of w\n",
    "w_trace = (\n",
    "    (x1 - 0.5) / ((x1 - 0.5) ** 2 + (x2 - 0.5) ** 2) + x1**3 + x1 * x2**2\n",
    ")\n",
    "\n",
    "# define a monomial term by specifying its multi-index and coefficient\n",
    "w_laplacian = pf.Polynomial([[8.0, 1, 0]])\n",
    "\n",
    "# declare w as local function object\n",
    "w = pf.LocalFunction(nyst, lap_poly=w_laplacian, has_poly_trace=False)\n",
    "w.set_trace_values(w_trace)"
   ]
  },
  {
   "attachments": {},
   "cell_type": "markdown",
   "metadata": {},
   "source": [
    "For convenience, we don't need to call all of the `compute` methods we did for\n",
    "$v$. Instead, we call `compute_all()`."
   ]
  },
  {
   "cell_type": "code",
   "execution_count": null,
   "metadata": {},
   "outputs": [],
   "source": [
    "w.compute_all()"
   ]
  },
  {
   "attachments": {},
   "cell_type": "markdown",
   "metadata": {},
   "source": [
    "## $H^1$ semi-inner product\n",
    "\n",
    "We are now ready to compute the $H^1$ semi-inner product between $v$ and $w$.\n",
    "This can be done by calling the `compute_h1()` method from either function."
   ]
  },
  {
   "cell_type": "code",
   "execution_count": null,
   "metadata": {},
   "outputs": [],
   "source": [
    "h1_vw_computed = v.get_h1_semi_inner_prod(w)\n",
    "print(\"H^1 semi-inner product (vw) = \", h1_vw_computed)"
   ]
  },
  {
   "attachments": {},
   "cell_type": "markdown",
   "metadata": {},
   "source": [
    "In exact arithmetic, the $H^1$ semi-inner product is symmetric.\n",
    "Let's check that we get the same thing if we compute in the opposite order."
   ]
  },
  {
   "cell_type": "code",
   "execution_count": null,
   "metadata": {},
   "outputs": [],
   "source": [
    "h1_wv_computed = w.get_h1_semi_inner_prod(v)\n",
    "print(\"H^1 semi-inner product (wv) = \", h1_wv_computed)"
   ]
  },
  {
   "attachments": {},
   "cell_type": "markdown",
   "metadata": {},
   "source": [
    "Here's the difference between the two:"
   ]
  },
  {
   "cell_type": "code",
   "execution_count": null,
   "metadata": {},
   "outputs": [],
   "source": [
    "print(\"Difference in computed H^1 = \", abs(h1_vw_computed - h1_wv_computed))"
   ]
  },
  {
   "attachments": {},
   "cell_type": "markdown",
   "metadata": {},
   "source": [
    "Finally, let's compare this to the value obtained with *Mathematica*:\n",
    "\\begin{align*}\n",
    "\t\\int_K \\nabla v \\cdot \\nabla w ~ dx\n",
    "\t&\\approx 4.46481780319135\n",
    "\t\\pm 9.9241 \\times 10^{-15}\n",
    "\\end{align*}\n",
    "where the value after \"$\\pm$\" indicates the estimated error in this value\n",
    "according to *Mathematica*."
   ]
  },
  {
   "cell_type": "code",
   "execution_count": null,
   "metadata": {},
   "outputs": [],
   "source": [
    "h1_vw_exact = 4.46481780319135\n",
    "print(\"H^1 error (vw) = \", abs(h1_vw_computed - h1_vw_exact))\n",
    "print(\"H^1 error (wv) = \", abs(h1_wv_computed - h1_vw_exact))"
   ]
  },
  {
   "attachments": {},
   "cell_type": "markdown",
   "metadata": {},
   "source": [
    "## $L^2$ Inner Product\n",
    "\n",
    "Let's compute the $L^2$ inner product\n",
    "\\begin{align*}\n",
    "\t\\int_K v \\, w ~dx\n",
    "\t&\\approx 1.39484950156676\n",
    "\t\\pm 2.7256 \\times 10^{-16}\n",
    "\\end{align*}\n",
    "whose approximate value was obtained with *Mathematica*."
   ]
  },
  {
   "cell_type": "code",
   "execution_count": null,
   "metadata": {},
   "outputs": [],
   "source": [
    "l2_vw_computed = v.get_l2_inner_prod(w)\n",
    "print(\"L^2 inner product (vw) = \", l2_vw_computed)\n",
    "l2_wv_computed = w.get_l2_inner_prod(v)\n",
    "print(\"L^2 inner product (wv) = \", l2_wv_computed)\n",
    "print(\"Difference in computed L^2 = \", abs(l2_vw_computed - l2_wv_computed))\n",
    "l2_vw_exact = 1.39484950156676\n",
    "print(\"L^2 error (vw) = \", abs(l2_vw_computed - l2_vw_exact))\n",
    "print(\"L^2 error (wv) = \", abs(l2_wv_computed - l2_vw_exact))"
   ]
  },
  {
   "attachments": {},
   "cell_type": "markdown",
   "metadata": {},
   "source": [
    "## Convergence Studies\n",
    "\n",
    "We repeated the above experiment for several values of the quadrature parameter\n",
    "$n$ (where each edge of $\\partial K$ is sampled at $2n$ points).\n",
    "\n",
    "Here's what we found for the intermediate computations on $v$:\n",
    "\n",
    "|\tn\t|\ta_1 error\t|\thc error\t|\twnd error\t|\tal error\t|\tH1 error\t|\tL2 error\t|\n",
    "|-------|---------------|---------------|---------------|---------------|---------------|---------------|\n",
    "|\t4\t|\t1.7045e-03\t|\t3.5785e-02\t|\t2.8201e-01\t|\t8.3234e-03\t|\t1.5180e-02\t|\t3.4040e-03\t|\n",
    "|\t8\t|\t3.5531e-07\t|\t2.6597e-04\t|\t1.2855e-03\t|\t3.9429e-05\t|\t2.6758e-04\t|\t8.3812e-05\t|\n",
    "|\t16\t|\t1.0027e-09\t|\t1.1884e-06\t|\t3.7415e-06\t|\t3.3785e-07\t| \t8.4860e-07\t|\t3.8993e-08\t|\n",
    "|\t32\t|\t3.5905e-13\t|\t2.3095e-09\t|\t1.0434e-08\t|\t1.9430e-09\t|\t1.0860e-09\t|\t2.8398e-11\t|\n",
    "|\t64\t|\t1.8874e-14\t|\t1.6313e-12\t|\t6.4780e-11\t|\t7.0728e-12\t|\t9.5390e-13\t|\t1.1036e-13\t|"
   ]
  },
  {
   "cell_type": "code",
   "execution_count": null,
   "metadata": {},
   "outputs": [],
   "source": [
    "print(quad_dict[\"kress\"].n)\n",
    "\n",
    "print(\"\")\n",
    "\n",
    "print(\"log coef error = %.4e\" % abs(v.log_coef[0] - a_exact))\n",
    "print(\"L^2 norm of hc error = %.4e\" % l2_hc_error)\n",
    "print(\"L^2 norm of wnd error = %.4e\" % l2_wnd_error)\n",
    "print(\"L^2 norm of antilap error = %.4e\" % l2_PHI_error)\n",
    "\n",
    "print(\"\")\n",
    "\n",
    "print(\"H^1 error (vw) = %.4e\" % abs(h1_vw_computed - h1_vw_exact))\n",
    "print(\"L^2 error (vw) = %.4e\" % abs(l2_vw_computed - l2_vw_exact))"
   ]
  },
  {
   "attachments": {},
   "cell_type": "markdown",
   "metadata": {},
   "source": [
    "## Bonus: Find Interior Values\n",
    "\n",
    "Cauchy's integral formula\n",
    "\\begin{align*}\n",
    "\tf(z) = \\frac{1}{2\\pi} \\oint_{\\partial K} \\frac{f(\\zeta)}{\\zeta -z}d\\zeta~,\n",
    "\t\\quad z = x_1 + \\mathfrak{i}x_2 \\mapsto x = (x_1, x_2)\\in K\n",
    "\\end{align*}\n",
    "holds for multiply connected domains, provided that the outer boundary \n",
    "is oriented counterclockwise and the inner boundaries or oriented clockwise.\n",
    "(Proof left as an exercise.)\n",
    "We can use this to evaluate $f = \\psi + \\mathfrak{i}\\widehat\\psi$,\n",
    "and thereby determine the interior values of $v$. "
   ]
  },
  {
   "cell_type": "code",
   "execution_count": null,
   "metadata": {},
   "outputs": [],
   "source": [
    "y1 = K.int_x1\n",
    "y2 = K.int_x2\n",
    "\n",
    "v.compute_interior_values()\n",
    "\n",
    "v_computed = v.int_vals\n",
    "v_x1_computed = v.int_grad1\n",
    "v_x2_computed = v.int_grad2\n",
    "\n",
    "plt.figure()\n",
    "plt.contourf(y1, y2, v_computed, levels=50)\n",
    "plt.colorbar()\n",
    "plt.title(\"Interior values of $v$\")\n",
    "plt.show()"
   ]
  },
  {
   "attachments": {},
   "cell_type": "markdown",
   "metadata": {},
   "source": [
    "Since we have an explicit formula for $v$ in the interior,\n",
    "we can plot the pointwise errors.\n",
    "(Note that the scale is logarithmic.)"
   ]
  },
  {
   "cell_type": "code",
   "execution_count": null,
   "metadata": {},
   "outputs": [],
   "source": [
    "v_exact = (\n",
    "    np.exp(y1) * np.cos(y2)\n",
    "    + 0.5 * a_exact * np.log((y1 - xi[0]) ** 2 + (y2 - xi[1]) ** 2)\n",
    "    + y1**3 * y2\n",
    "    + y1 * y2**3\n",
    ")\n",
    "\n",
    "v_error = np.log10(np.abs(v_computed - v_exact))\n",
    "\n",
    "plt.figure()\n",
    "plt.contourf(y1, y2, v_error, levels=50)\n",
    "plt.colorbar()\n",
    "plt.title(\"Interior errors ($\\log_{10}$)\")\n",
    "plt.show()"
   ]
  },
  {
   "attachments": {},
   "cell_type": "markdown",
   "metadata": {},
   "source": [
    "Let's do the same for the components of the gradient:"
   ]
  },
  {
   "cell_type": "code",
   "execution_count": null,
   "metadata": {},
   "outputs": [],
   "source": [
    "v_x1_exact = (\n",
    "    np.exp(y1) * np.cos(y2)\n",
    "    + a_exact * (y1 - xi[0]) / ((y1 - xi[0]) ** 2 + (y2 - xi[1]) ** 2)\n",
    "    + 3 * y1**2 * y2\n",
    "    + y2**3\n",
    ")\n",
    "\n",
    "v_x1_error = np.log10(np.abs(v_x1_computed - v_x1_exact))\n",
    "\n",
    "plt.figure()\n",
    "plt.contourf(y1, y2, v_x1_error, levels=50)\n",
    "plt.colorbar()\n",
    "plt.title(\"Gradient errors in $x_1$ ($\\log_{10}$)\")\n",
    "plt.show()"
   ]
  },
  {
   "cell_type": "code",
   "execution_count": null,
   "metadata": {},
   "outputs": [],
   "source": [
    "v_x2_exact = (\n",
    "    -np.exp(y1) * np.sin(y2)\n",
    "    + a_exact * (y2 - xi[1]) / ((y1 - xi[0]) ** 2 + (y2 - xi[1]) ** 2)\n",
    "    + y1**3\n",
    "    + 3 * y1 * y2**2\n",
    ")\n",
    "\n",
    "v_x2_error = np.log10(np.abs(v_x2_computed - v_x2_exact))\n",
    "\n",
    "plt.figure()\n",
    "plt.contourf(y1, y2, v_x2_error, levels=50)\n",
    "plt.colorbar()\n",
    "plt.title(\"Gradient errors in $x_2$ ($\\log_{10}$)\")\n",
    "plt.show()"
   ]
  }
 ],
 "metadata": {
  "kernelspec": {
   "display_name": "Python 3 (ipykernel)",
   "language": "python",
   "name": "python3"
  },
  "language_info": {
   "codemirror_mode": {
    "name": "ipython",
    "version": 3
   },
   "file_extension": ".py",
   "mimetype": "text/x-python",
   "name": "python",
   "nbconvert_exporter": "python",
   "pygments_lexer": "ipython3",
   "version": "3.11.6"
  },
  "vscode": {
   "interpreter": {
    "hash": "916dbcbb3f70747c44a77c7bcd40155683ae19c65e1c03b4aa3499c5328201f1"
   }
  }
 },
 "nbformat": 4,
 "nbformat_minor": 2
}
