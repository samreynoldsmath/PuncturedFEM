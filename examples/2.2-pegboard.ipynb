{
 "cells": [
  {
   "cell_type": "markdown",
   "metadata": {},
   "source": [
    "# Example 2.2: Pegboard Mesh\n",
    "In this example, we investigate converence with respect to the mesh size."
   ]
  },
  {
   "cell_type": "code",
   "execution_count": null,
   "metadata": {},
   "outputs": [],
   "source": [
    "import matplotlib.pyplot as plt\n",
    "import numpy as np\n",
    "import puncturedfem as pf"
   ]
  },
  {
   "cell_type": "code",
   "execution_count": null,
   "metadata": {},
   "outputs": [],
   "source": [
    "deg = 2\n",
    "mesh_size = (4, 4)\n",
    "radius = 0.25"
   ]
  },
  {
   "cell_type": "code",
   "execution_count": null,
   "metadata": {},
   "outputs": [],
   "source": [
    "quad_dict = pf.get_quad_dict(n=64)"
   ]
  },
  {
   "cell_type": "code",
   "execution_count": null,
   "metadata": {},
   "outputs": [],
   "source": [
    "mesh = pf.meshlib.pegboard(size=mesh_size, radius=radius)"
   ]
  },
  {
   "cell_type": "code",
   "execution_count": null,
   "metadata": {},
   "outputs": [],
   "source": [
    "pf.plot.MeshPlot(mesh.edges).draw()"
   ]
  },
  {
   "cell_type": "code",
   "execution_count": null,
   "metadata": {},
   "outputs": [],
   "source": [
    "global_function_space = pf.GlobalFunctionSpace(mesh, deg, quad_dict)"
   ]
  },
  {
   "cell_type": "code",
   "execution_count": null,
   "metadata": {},
   "outputs": [],
   "source": [
    "a = 1.0\n",
    "c = 1.0\n",
    "f = pf.Polynomial([(1.0, 0, 0)])\n",
    "\n",
    "B = pf.BilinearForm(\n",
    "    diffusion_constant=a,\n",
    "    reaction_constant=c,\n",
    "    rhs_poly=f,\n",
    ")\n",
    "\n",
    "print(B)"
   ]
  },
  {
   "cell_type": "code",
   "execution_count": null,
   "metadata": {},
   "outputs": [],
   "source": [
    "solver = pf.Solver(\n",
    "    global_function_space, B, compute_interior_values=False, verbose=False\n",
    ")\n",
    "solver.solve()\n",
    "x = solver.soln"
   ]
  },
  {
   "cell_type": "code",
   "execution_count": null,
   "metadata": {},
   "outputs": [],
   "source": [
    "A = solver.glob_mat.todense()\n",
    "cond_num = np.linalg.cond(A)"
   ]
  },
  {
   "cell_type": "markdown",
   "metadata": {},
   "source": [
    "## Examine the finite element matrix (reduced)"
   ]
  },
  {
   "cell_type": "code",
   "execution_count": null,
   "metadata": {},
   "outputs": [],
   "source": [
    "# hack to identify global indices of functions supported on the boundary\n",
    "non_boudary_indices = set()\n",
    "for abs_cell_idx in range(global_function_space.mesh.num_cells):\n",
    "    for key in global_function_space.cell_dofs[abs_cell_idx]:\n",
    "        if not key.is_on_boundary:\n",
    "            non_boudary_indices.add(key.glob_idx)\n",
    "non_boudary_indices = sorted(non_boudary_indices)\n",
    "\n",
    "# reduced finite element matrix (with boundary functions removed)\n",
    "A_reduced = A[non_boudary_indices, :][:, non_boudary_indices]\n",
    "cond_num_reduced = np.linalg.cond(A_reduced)\n",
    "dof_reduced = A_reduced.shape[0]\n",
    "print(f\"cond_num = {cond_num_reduced:.2e}\")\n",
    "\n",
    "# eigenvalues\n",
    "eigenvalues_reduced = np.linalg.eigvalsh(A_reduced)\n",
    "plt.figure()\n",
    "plt.semilogy(eigenvalues_reduced, \"ko-\")\n",
    "plt.grid(True)"
   ]
  },
  {
   "cell_type": "markdown",
   "metadata": {},
   "source": [
    "## $D^{-1/2} A D^{-1/2}$ preconditioner"
   ]
  },
  {
   "cell_type": "code",
   "execution_count": null,
   "metadata": {},
   "outputs": [],
   "source": [
    "# preconditioned reduced system\n",
    "D = np.diag(A_reduced)\n",
    "\n",
    "tol = 1e-6\n",
    "zeros = np.where(D < tol)[0]\n",
    "print(f\"number of zeros = {len(zeros)}\")\n",
    "print(f\"zero indices = {zeros}\")\n",
    "print(f\"zero values = {D[zeros]}\")\n",
    "\n",
    "plt.figure()\n",
    "D_sorted = np.sort(D)\n",
    "plt.semilogy(D_sorted, \"bo-\")\n",
    "plt.grid(True)\n",
    "plt.title(\"Diagonal of A_reduced (sorted)\")\n",
    "plt.show()\n",
    "\n",
    "D_sqrt = np.diag(np.sqrt(D))\n",
    "D_sqrt_inv = np.linalg.inv(D_sqrt)\n",
    "A_reduced_precond = D_sqrt_inv @ A_reduced @ D_sqrt_inv\n",
    "cond_num_reduced_precond = np.linalg.cond(A_reduced_precond)\n",
    "print(f\"cond_num = {cond_num_reduced_precond:.2e}\")\n",
    "\n",
    "eigenvalues_reduced_precond = np.linalg.eigvalsh(A_reduced_precond)\n",
    "plt.figure()\n",
    "plt.semilogy(eigenvalues_reduced_precond, \"ko-\")\n",
    "plt.grid(True)"
   ]
  },
  {
   "cell_type": "markdown",
   "metadata": {},
   "source": [
    "## $H^1$ norm of the error"
   ]
  },
  {
   "cell_type": "code",
   "execution_count": null,
   "metadata": {},
   "outputs": [],
   "source": [
    "A = solver.stiff_mat\n",
    "M = solver.mass_mat\n",
    "\n",
    "h1_sq_norm = x @ (A + M) @ x\n",
    "h1_sq_norm_exact = 0.033523205539\n",
    "\n",
    "error_norm = np.sqrt(h1_sq_norm_exact - h1_sq_norm)"
   ]
  },
  {
   "cell_type": "code",
   "execution_count": null,
   "metadata": {},
   "outputs": [],
   "source": [
    "print(f\"poly_deg = {deg}\")\n",
    "print(f\"mesh_size = {mesh_size}\")\n",
    "print(f\"dof = {dof_reduced}\")\n",
    "print(f\"cond_num = {cond_num_reduced:.2e}\")\n",
    "print(f\"H1 norm of error: {error_norm:.2e}\")"
   ]
  },
  {
   "cell_type": "markdown",
   "metadata": {},
   "source": [
    "| p | (m,n)   | dof      | cond(A)  | H1 Error | Ratio |\n",
    "|---|---------|----------|----------|----------|-------|\n",
    "| 1 | (2,2)   | 13       | 1.38e+01 | 7.01e-02 | n/a   |\n",
    "| 1 | (4,4)   | 57       | 4.18e+01 | 3.88e-02 | 1.81  |\n",
    "| 1 | (8,8)   | 241      | 1.57e+02 | 1.99e-02 | 1.95  |\n",
    "| 1 | (16,16) | 993      | 6.20e+02 | 1.00e-02 | 1.99  |\n",
    "| 1 | (32,32) | 4033     | 2.47e+03 | 5.03e-03 | 1.99  |\n",
    "|---|---------|----------|----------|----------|-------|\n",
    "| 2 | (2,2)   | 33       | 1.41e+02 | 6.53e-03 | n/a   |\n",
    "| 2 | (4,4)   | 145      | 7.89e+02 | 2.55e-03 | 2.56  |\n",
    "| 2 | (8,8)   | 609      | 2.16e+04 | 8.04e-04 | 3.17  |\n",
    "| 2 | (16,16) | 2497     | 1.27e+06 | 2.33e-04 | 3.45  |\n",
    "| 2 | (32,32) | 10113    | 8.04e+07 | 6.42e-05 | 3.63  |\n",
    "|---|---------|----------|----------|----------|-------|\n",
    "| 3 | (2,2)   | 61       | 6.63e+03 | 8.79e-04 | n/a   |\n",
    "| 3 | (4,4)   | 265      | 1.32e+04 | 1.82e-04 | 4.83  |\n",
    "| 3 | (8,8)   | 1105     | 5.28e+04 | 4.06e-05 | 4.48  |\n",
    "<!-- | 3 | (16,16) | 4531     | 4.42e+18 | 7.81e-06 | 5.20  | -->"
   ]
  },
  {
   "cell_type": "code",
   "execution_count": null,
   "metadata": {},
   "outputs": [],
   "source": [
    "errors1 = [7.01e-02, 3.88e-02, 1.99e-02, 1.00e-02, 5.03e-03]\n",
    "errors2 = [6.53e-03, 2.55e-03, 8.04e-04, 2.33e-04, 6.42e-05]\n",
    "errors3 = [8.79e-04, 1.82e-04, 4.06e-05, 7.81e-06]\n",
    "\n",
    "for errors in [errors1, errors2, errors3]:\n",
    "    print(\"\")\n",
    "    for i in range(1, len(errors)):\n",
    "        print(f\"{errors[i-1]/errors[i]:.2f}\")"
   ]
  }
 ],
 "metadata": {
  "kernelspec": {
   "display_name": "PuncturedFEM",
   "language": "python",
   "name": "python3"
  },
  "language_info": {
   "codemirror_mode": {
    "name": "ipython",
    "version": 3
   },
   "file_extension": ".py",
   "mimetype": "text/x-python",
   "name": "python",
   "nbconvert_exporter": "python",
   "pygments_lexer": "ipython3",
   "version": "3.9.19"
  }
 },
 "nbformat": 4,
 "nbformat_minor": 2
}
